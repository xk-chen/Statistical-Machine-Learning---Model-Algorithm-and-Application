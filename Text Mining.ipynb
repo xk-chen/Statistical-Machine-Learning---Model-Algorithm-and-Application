{
 "cells": [
  {
   "cell_type": "code",
   "execution_count": 4,
   "metadata": {},
   "outputs": [],
   "source": [
    "import string\n",
    "import pandas as pd\n",
    "import numpy as np\n",
    "document = ['''The Nellie, a cruising yawl, swung to her anchor without a flutter of the sails, and was at rest. The flood had\n",
    "made, the wind was nearly calm, and being bound down the river, the only thing for it was to come to and wait for\n",
    "the turn of the tide''']\n",
    "\n",
    "query = \"linear algebra linear algebra linear algebra calculus mathematics \"\n",
    "  \n",
    "def document_word_Split(documents):\n",
    "    X = []\n",
    "    x = []\n",
    "    Word = {}\n",
    "    for query in documents:\n",
    "        X= X + query.lower().translate(None, string.punctuation).split()\n",
    "    for i in X:\n",
    "        x.append((i,0))\n",
    "    return dict(x)\n",
    "def query_word_Split(query):\n",
    "    X = []\n",
    "    Word = {}\n",
    "    X= X + query.lower().translate(None, string.punctuation).split()\n",
    "    for i in X:\n",
    "        if i not in Word:\n",
    "            Word[i] = 1\n",
    "        else:\n",
    "            Word[i] += 1\n",
    "    return Word\n",
    "def query_vector(template,query_word):\n",
    "    for i in query_word.keys():\n",
    "        if i in template.keys():\n",
    "            template[i] = query_word[i]\n",
    "    return template\n",
    "def generate_Dataframe(document,query):\n",
    "    x = []\n",
    "    template = document_word_Split(document)\n",
    "    for i in document:\n",
    "        query_word = query_word_Split(i)\n",
    "        x.append(query_vector(document_word_Split(document),query_word))\n",
    "    x.append(query_vector(template,query_word_Split(query)))\n",
    "    return pd.DataFrame(data = x)\n",
    "def distance(document,query):\n",
    "    df = generate_Dataframe(document,query)\n",
    "    df[\"length\"] = df.apply(np.sum,axis=1)\n",
    "    array = np.array(df)\n",
    "    diff_square = (array - array[-1])**2\n",
    "    df[\"distance\"] = np.sqrt(diff_square.sum(axis=1))\n",
    "    df[\"norm_distance\"] = df['distance']/df['length']\n",
    "    return df\n",
    "#distance(document,query)"
   ]
  },
  {
   "cell_type": "code",
   "execution_count": 7,
   "metadata": {},
   "outputs": [
    {
     "name": "stdout",
     "output_type": "stream",
     "text": [
      "['the', 'nellie', 'a', 'cruising', 'yawl', 'swung', 'to', 'her', 'anchor', 'without', 'a', 'flutter', 'of', 'the', 'sails', 'and', 'was', 'at', 'rest', 'the', 'flood', 'had', 'made', 'the', 'wind', 'was', 'nearly', 'calm', 'and', 'being', 'bound', 'down', 'the', 'river', 'the', 'only', 'thing', 'for', 'it', 'was', 'to', 'come', 'to', 'and', 'wait', 'for', 'the', 'turn', 'of', 'the', 'tide']\n"
     ]
    },
    {
     "data": {
      "text/plain": [
       "{'a': 2,\n",
       " 'anchor': 1,\n",
       " 'and': 3,\n",
       " 'at': 1,\n",
       " 'being': 1,\n",
       " 'bound': 1,\n",
       " 'calm': 1,\n",
       " 'come': 1,\n",
       " 'cruising': 1,\n",
       " 'down': 1,\n",
       " 'flood': 1,\n",
       " 'flutter': 1,\n",
       " 'for': 2,\n",
       " 'had': 1,\n",
       " 'her': 1,\n",
       " 'it': 1,\n",
       " 'made': 1,\n",
       " 'nearly': 1,\n",
       " 'nellie': 1,\n",
       " 'of': 2,\n",
       " 'only': 1,\n",
       " 'rest': 1,\n",
       " 'river': 1,\n",
       " 'sails': 1,\n",
       " 'swung': 1,\n",
       " 'the': 8,\n",
       " 'thing': 1,\n",
       " 'tide': 1,\n",
       " 'to': 3,\n",
       " 'turn': 1,\n",
       " 'wait': 1,\n",
       " 'was': 3,\n",
       " 'wind': 1,\n",
       " 'without': 1,\n",
       " 'yawl': 1}"
      ]
     },
     "execution_count": 7,
     "metadata": {},
     "output_type": "execute_result"
    }
   ],
   "source": [
    "query_word_Split(document[0])"
   ]
  }
 ],
 "metadata": {
  "kernelspec": {
   "display_name": "Python 2",
   "language": "python",
   "name": "python2"
  },
  "language_info": {
   "codemirror_mode": {
    "name": "ipython",
    "version": 2
   },
   "file_extension": ".py",
   "mimetype": "text/x-python",
   "name": "python",
   "nbconvert_exporter": "python",
   "pygments_lexer": "ipython2",
   "version": "2.7.13"
  },
  "latex_envs": {
   "LaTeX_envs_menu_present": true,
   "autocomplete": true,
   "bibliofile": "biblio.bib",
   "cite_by": "apalike",
   "current_citInitial": 1,
   "eqLabelWithNumbers": true,
   "eqNumInitial": 1,
   "hotkeys": {
    "equation": "Ctrl-E",
    "itemize": "Ctrl-I"
   },
   "labels_anchors": false,
   "latex_user_defs": false,
   "report_style_numbering": false,
   "user_envs_cfg": false
  },
  "toc": {
   "colors": {
    "hover_highlight": "#DAA520",
    "running_highlight": "#FF0000",
    "selected_highlight": "#FFD700"
   },
   "moveMenuLeft": true,
   "nav_menu": {
    "height": "12px",
    "width": "252px"
   },
   "navigate_menu": true,
   "number_sections": true,
   "sideBar": true,
   "threshold": 4,
   "toc_cell": false,
   "toc_section_display": "block",
   "toc_window_display": false,
   "widenNotebook": false
  }
 },
 "nbformat": 4,
 "nbformat_minor": 2
}
