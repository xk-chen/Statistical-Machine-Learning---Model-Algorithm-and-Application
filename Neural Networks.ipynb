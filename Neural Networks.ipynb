{
 "cells": [
  {
   "cell_type": "markdown",
   "metadata": {},
   "source": [
    "## Multi-Layer Perceptron"
   ]
  },
  {
   "cell_type": "markdown",
   "metadata": {},
   "source": [
    "We have modeled perceptron learning, while perceptron can not solve the non-separable problems, one of the methods is feature mapping, the other is the multi-layer perceptron(i.e. full-connection neural network). MLP adds hidden neurons to the model.\n",
    "\n",
    "Moreover, in perceptron learning algorithm, the function $\\text{sign}(\\cdot)$ is hard to optimize. Here we need a differentiable objective which can be solved in gradient-based method. The most popular **activation function** of the \"**soma**\" is Sigmoid function\n",
    "\n",
    "$$\\sigma(x)=\\frac{1}{1+e^{-x}}$$\n",
    "\n",
    "The nice property of $\\sigma(\\cdot)$ is\n",
    "\n",
    "$$\\frac{\\partial\\sigma(x)}{\\partial x}=\\sigma(x)(1-\\sigma(x))$$\n",
    "\n",
    "<div style = \"text-align:center\">\n",
    "<img src=\"Pictures\\MLP.png\", title = \"Multi-Layer Perceptron\", width = \"400\", height = \"300\"/>\n",
    "<caption><B>FIGURE 1: The Architecture of Multi-Layer Perceptron</B></caption>\n",
    "</div>\n",
    "\n",
    "Consider $n_l$ layers network, assume the number of nodes in $l$-th layer is $s_l$.\n",
    "\n",
    "Define the Loss function\n",
    "\n",
    "$$J(W,b)=\\big[\\frac{1}{m}\\sum_{i=1}^mJ(W,b;x^{(i)},y^{(i)})\\big]+\\frac{\\lambda}{2}\\sum_{l=1}^{n_l}\\sum_i^{s_l}\\sum_j^{s_{l+1}}(W_{ij}^{(l)})^2$$\n",
    "\n",
    "Here we adapt the error measure $MSE$,\n",
    "\n",
    "$$J(W,b)=\\Big[\\frac{1}{m}\\sum_{i=1}^m\\Big(\\frac{1}{2}\\big\\|h_{W,b}(x^{(i)})-y^{(i)}\\big\\|^2\\Big)\\Big]+\\frac{\\lambda}{2}\\sum_{l=1}^{n_l}\\sum_i^{s_l}\\sum_j^{s_{l+1}}(W_{ij}^{(l)})^2$$\n",
    "\n",
    "Recall the gradient descent method, the update rule:\n",
    "\n",
    "$$W_{ij}^{(l)}=W_{ij}^{(l)}-\\alpha\\frac{\\partial J(W,b)}{\\partial W_{ij}^{(l)}}$$\n",
    "\n",
    "$$b_i^{(l)}=b_i^{(l)}-\\alpha\\frac{\\partial J(W,b)}{\\partial b_i^{(l)}}$$\n",
    "\n",
    "where $\\alpha$ is the learning rate.\n",
    "\n",
    "Then we compute the gradient\n",
    "\n",
    "$$\\frac{\\partial J(W,b)}{\\partial W_{ij}}=\\Big[\\frac{1}{m}\\sum_{i=1}^m\\frac{\\partial J(W,b;x^{(i)},y^{(i)})}{\\partial W_{ij}}\\Big]+\\lambda W_{ij}^{(l)}$$\n",
    "\n",
    "$$\\frac{\\partial J(W,b)}{\\partial b_i^{(l)}}=\\frac{1}{m}\\sum_{i=1}^m\\frac{\\partial J(W,b;x^{(i)},y^{(i)})}{\\partial b_i^{(l)}}$$\n",
    "\n",
    "For each layer, we need **back-propagation** algorithm. The heuristic is for each sample $(x,y)$, we use forward-propagation to compute the inner product at layer $l$ and node $j$, called $z_j^{(l)}$ , and the output of layer $l$ and node $j$ - $a_j^{(l)}$ until output layer. Then compute the \"residual\" at $l$-th layer and $i$-th node $\\delta_i^{(l)}$ until the input layer.\n",
    "\n",
    "\n",
    "For the output layer $n_l$, the residual is\n",
    "\n",
    "\\begin{align*}\n",
    "\\delta_i^{(n_l)} &= \\frac{\\partial}{\\partial z_i^{(n_l)}}J(W,b;x,y)\\\\\n",
    "&= \\frac{\\partial}{\\partial z_i^{(n_l)}}\\frac{1}{2}\\big\\|y-h_{W,b}(x)\\big\\|^2\\\\\n",
    "&=\\frac{\\partial}{\\partial z_i^{(n_l)}}\\frac{1}{2}\\sum_{j=1}^{S_{n_l}}(y_j-a_j^{(n_l)})^2\\\\\n",
    "&=\\frac{\\partial}{\\partial z_i^{(n_l)}}\\frac{1}{2}\\sum_{j=1}^{S_{n_l}}(y_j-\\sigma(z_j^{(n_l)})^2\\\\\n",
    "&=-(y_i-\\sigma(z_i^{(n_l)}))\\cdot\\sigma'(z_i^{(n_l)})\\\\\n",
    "&=-(y_i-a_i^{(n_l)})\\cdot\\sigma'(z_i^{(n_l)})\\\\\n",
    "\\end{align*}\n",
    "\n",
    "For the layer $l=n_l-1,n_l-2,\\dots,2$, the residual of $i$-th node at $l$-th layer can be shown as\n",
    "\n",
    "\\begin{align*}\n",
    "\\delta_i^{(l)}&=\\frac{\\partial}{\\partial z_i^{(l)}}J(W,b;x,y)\\\\\n",
    "&=\\frac{\\partial}{\\partial z_i^{(l)}}\\frac{1}{2}\\big\\|y-h_{W,b}(x)\\big\\|^2\\\\\n",
    "&=\\frac{\\partial}{\\partial z_i^{(l)}}\\frac{1}{2}\\sum_{j=1}^{S_{l+1}}(y_j-a_j^{(n_{l+1})})^2\\\\\n",
    "&=\\frac{1}{2}\\sum_{j=1}^{S_{l+1}}\\frac{\\partial}{\\partial z_i^{(l)}}\\big(y_j-\\sigma(z_j^{(l+1)})\\big)^2\\\\\n",
    "&=\\sum_{j=1}^{S_{l+1}}-\\big(y_i-\\sigma(z_j^{(l+1)})\\big)\\cdot\\frac{\\partial}{\\partial z_i^{(l)}}\\sigma(z_j^{(l+1)})\\\\\n",
    "&=\\sum_{j=1}^{S_{l+1}}-\\big(y_i-\\sigma(z_j^{(l+1)})\\big)\\cdot\\sigma'(z_j^{(l+1)})\\cdot\\frac{\\partial z_i^{(l+1)}}{\\partial z_i^{(l)}}\\\\\n",
    "&=\\sum_{j=1}^{S_{l+1}}\\delta_j^{(l+1)}\\cdot\\frac{\\partial z_i^{(l+1)}}{\\partial z_i^{(l)}}\\\\\n",
    "&=\\sum_{j=1}^{S_{l+1}}\\Big(\\delta_j^{(l+1)}\\cdot\\frac{\\partial }{\\partial z_i^{(l)}}\\sum_{k=1}^{S_l}\\sigma(z_k^{(l)})\\cdot W_{jk}^{(l)}\\Big)\\\\\n",
    "&=\\sum_{j=1}^{S_{l+1}}\\delta_j^{(l+1)}\\cdot W_{ji}^{(l)}\\cdot \\sigma(z_i^{(l)})\\\\\n",
    "&=\\Big(\\sum_{j=1}^{S_{l+1}}W_{ji}^{(l)}\\delta_j^{(l+1)}\\Big)\\sigma(z_i^{(l)})\n",
    "\\end{align*}\n",
    "\n",
    "Therefore,\n",
    "\n",
    "$$\\frac{\\partial J(W,b;x,y)}{\\partial W_{ij}^{(l)}}=\\frac{\\partial J(W,b;x,y)}{\\partial z_i^{(l+1)}}\\frac{\\partial z_i^{(l+1)}}{\\partial W_{ij}^{(l)}}=\\delta_i^{(l+1)}a_j^{(l)}$$\n",
    "\n",
    "$$\\frac{\\partial J(W,b;x,y)}{\\partial b_{i}^{(l)}}=\\frac{\\partial J(W,b;x,y)}{\\partial z_i^{(l+1)}}\\frac{\\partial z_i^{(l+1)}}{\\partial b_{i}^{(l)}}=\\delta_i^{(l+1)}$$\n",
    "\n",
    "The regularization term of layer $l$ can be get easily\n",
    "\n",
    "$$R^{(l)}=\\lambda W^{(l)}$$\n",
    "\n",
    "Summary, an epoch of computation can be shown as follows:\n",
    "\n",
    "1.Conduct the forward-propagation algorithm, get the output $a^{(2)},a^{(3)},\\dots,a^{(n_l)}$.\n",
    "\n",
    "2.Compute the output layer error\n",
    "\n",
    "$$\\delta^{(n_l)}=-(y-a^{(n_l)})\\odot\\sigma'(z^{(n_l)})$$\n",
    "\n",
    "3.Then the others, for $l=n_l-1,\\dots,2$\n",
    "\n",
    "$$\\delta^{(l)}=(W^{(l)T}\\delta^{(l+1)})\\odot\\sigma'(z^{(l)})$$\n",
    "\n",
    "4.Compute the gradient of $(x^{(i)},y^{(i)})$\n",
    "\n",
    "$$\\nabla_{W^{(l)}}J(W,b;x^{(i)},y^{(i)})=\\delta^{(l+1)}(a^{(l)})^T$$\n",
    "\n",
    "$$\\nabla_{b^{(l)}}J(W,b;x^{(i)},y^{(i)})=\\delta^{(l+1)}$$\n",
    "\n",
    "5.Update parameters\n",
    "\n",
    "$$W^{(l)}=W^{(l)}-\\alpha\\Big[\\big(\\frac{1}{m}\\sum_i\\nabla_{W^{(l)}}J(W,b;x^{(i)},y^{(i)})\\big)+\\lambda W^{(l)}\\Big]$$\n",
    "\n",
    "$$b^{(l)}=b^{(l)}-\\alpha\\Big[\\frac{1}{m}\\sum_i\\nabla_{b^{(l)}}J(W,b;x^{(i)},y^{(i)})\\Big]$$"
   ]
  },
  {
   "cell_type": "code",
   "execution_count": 1,
   "metadata": {},
   "outputs": [],
   "source": [
    "import numpy as np\n",
    "from sklearn import datasets\n",
    "import matplotlib.pyplot as plt"
   ]
  },
  {
   "cell_type": "code",
   "execution_count": 2,
   "metadata": {},
   "outputs": [],
   "source": [
    "class Activation:\n",
    "    def __init__(self, name):\n",
    "        self.name = name\n",
    "        assert self.name in [\"sigmoid\", \"tanh\", \"relu\", \"softmax\"], \"Illegal activation function.\"\n",
    "        \n",
    "    def evaluation(self, Z):\n",
    "        if self.name == \"sigmoid\":\n",
    "            return 1.0 / (1 + np.exp(-Z))\n",
    "        \n",
    "        elif self.name == \"tanh\":\n",
    "            return np.tanh(Z)\n",
    "        \n",
    "        elif self.name == \"softmax\":\n",
    "            Z = Z - np.max(Z, axis = 0, keepdims = True)\n",
    "            Z = np.exp(Z)\n",
    "            Z = Z / np.sum(Z, axis = 0, keepdims = True) \n",
    "            return Z\n",
    "        \n",
    "        else:\n",
    "            return np.maximum(0, Z)\n",
    "        \n",
    "    def derivative(self, A):\n",
    "        \n",
    "        if self.name == \"sigmoid\":\n",
    "            return A * (1 - A)\n",
    "        \n",
    "        elif self.name == \"tanh\":\n",
    "            return 1 - np.power(A, 2)\n",
    "        \n",
    "        elif self.name == \"softmax\":\n",
    "            return A\n",
    "        \n",
    "        else:\n",
    "            return (A > 0)"
   ]
  },
  {
   "cell_type": "code",
   "execution_count": 3,
   "metadata": {},
   "outputs": [],
   "source": [
    "class Loss:\n",
    "    def __init__(self, name):\n",
    "        self.name = name\n",
    "        assert self.name in [\"logistic\", \"multiclass_logistic\"], \"Illegal loss function\"\n",
    "    \n",
    "    def evaluation(self, A, Y):\n",
    "        if self.name == \"logistic\":\n",
    "            return -1.0 / Y.shape[-1] * np.sum(Y * np.log(A) + (1 - Y) * np.log(1 - A))\n",
    "        \n",
    "        elif self.name == \"multiclass_logistic\":\n",
    "            return -1.0 / Y.shape[-1] * np.sum(Y * np.log(A))\n",
    "    \n",
    "    def derivative(self, A, Y):\n",
    "        if self.name == \"logistic\":\n",
    "            return -(Y / A - (1 - Y) / (1 - A))\n",
    "        elif self.name == \"multiclass_logistic\":\n",
    "            #return - Y / A\n",
    "            return Y - A"
   ]
  },
  {
   "cell_type": "code",
   "execution_count": 4,
   "metadata": {},
   "outputs": [],
   "source": [
    "class Regularizer:\n",
    "    def __init__(self, name):\n",
    "        self.name = name\n",
    "        assert self.name in [\"Frobenius\"], \"Illegal loss function\"\n",
    "    def evaluation(self, weights, num_layers, num_samples, regularization_coefficient):\n",
    "        summation = 0.0\n",
    "        for l in range(1, num_layers + 1):\n",
    "            summation += np.linalg.norm(weights[\"Theta\" + str(l)], ord = \"fro\") ** 2\n",
    "        return 1.0 * regularization_coefficient / (2 * num_samples) * summation\n",
    "    \n",
    "    def derivative(self, weights, layer, num_samples, regularization_coefficient):\n",
    "        return regularization_coefficient * weights[\"Theta\" + str(layer)] / num_samples"
   ]
  },
  {
   "cell_type": "code",
   "execution_count": 5,
   "metadata": {},
   "outputs": [],
   "source": [
    "class NeuralNetwork:\n",
    "    \n",
    "    def __init__(self, num_layers, hidden_units, activations, loss = \"logistic\", dropout = [], keep_prob = 0.5, \n",
    "                 initialization = \"He\", std = 0.01, bias = 0, regularizer = \"Frobenius\", regularization_coefficient = 0.0):\n",
    "        \n",
    "        self.num_layers = num_layers\n",
    "        self.hidden_units = hidden_units\n",
    "        self.activations = {}\n",
    "        self.loss_function = Loss(name = loss)\n",
    "        self.regularizer = Regularizer(name = regularizer)\n",
    "        self.regularization_coefficient = regularization_coefficient\n",
    "        self.loss_collection = []\n",
    "        self.dropout = dropout\n",
    "        self.keep_prob = keep_prob\n",
    "        self.initialization = initialization\n",
    "        self.std = std\n",
    "        self.bias = bias\n",
    "        \n",
    "        assert self.std > 0, \"The standard deviation of weights should be positive\"\n",
    "        assert self.num_layers == len(self.hidden_units), \"The dimension of hidden units should be the same with num_layers.\"\n",
    "        assert self.num_layers == len(activations), '''The dimension of activation functions should be \n",
    "                                                                the same with num_layers.'''\n",
    "        for l in range(1, self.num_layers + 1):\n",
    "            self.activations[\"activation\" + str(l)] = Activation(activations[l - 1])\n",
    "            \n",
    "        \n",
    "    def training(self, X, y, learning_rate = 0.01, mini_batch_size = 64, num_epochs = 1000, random_seed = 0, optimizer = \"Adam\", \n",
    "                 decay_for_avg_grad = 0.9, decay_for_squared_grad = 0.999, epsilon = 1e-8, decay_rate = 0.0):\n",
    "        \n",
    "        \n",
    "        self.hidden_units.insert(0, X.shape[-1])\n",
    "        self.learning_rate = learning_rate\n",
    "        self.parameters = {}\n",
    "        self.initialize(initialization = self.initialization, std = self.std, bias = self.bias, random_seed = random_seed)\n",
    "        self.optimizer = optimizer\n",
    "        self.caches = {}        \n",
    "        \n",
    "        mini_batches = self.mini_batch_split(X, y, mini_batch_size = mini_batch_size, random_seed = random_seed)\n",
    "        \n",
    "        for epoch in range(1, num_epochs + 1):\n",
    "            num_observations = None\n",
    "            for minibatch in mini_batches:\n",
    "                X, y = minibatch\n",
    "                num_observations = X.shape[-1]\n",
    "                self.forward_propagation(X, y)\n",
    "                self.backward_propagation(X, y)\n",
    "                self.optimize(optimizer = self.optimizer, learning_rate = self.learning_rate, epoch = epoch, \n",
    "                              decay_for_avg_grad = decay_for_avg_grad, decay_for_squared_grad = decay_for_squared_grad,\n",
    "                              epsilon = epsilon)\n",
    "            loss = self.loss_function.evaluation(self.caches[\"A\" + str(self.num_layers)], y) \\\n",
    "                   + self.regularizer.evaluation(self.parameters, self.num_layers, num_observations, \n",
    "                   self.regularization_coefficient)\n",
    "            self.loss_collection.append(loss)\n",
    "            self.learning_rate *= 1.0 / (1 + decay_rate * epoch)\n",
    "            \n",
    "    def initialize(self, initialization, std, bias, random_seed):\n",
    "        np.random.seed(random_seed)\n",
    "        if initialization == \"He\":\n",
    "            for l in range(1, self.num_layers + 1):\n",
    "                self.parameters[\"Theta\" + str(l)] = np.random.randn(self.hidden_units[l], self.hidden_units[l - 1]) \\\n",
    "                                                    * np.sqrt(2. / self.hidden_units[l - 1])\n",
    "                self.parameters[\"theta\" + str(l)] = np.zeros((self.hidden_units[l], 1)) + bias\n",
    "        elif initialization == \"Random\":\n",
    "            for l in range(1, self.num_layers + 1):\n",
    "                self.parameters[\"Theta\" + str(l)] = np.random.randn(self.hidden_units[l], self.hidden_units[l - 1]) * std\n",
    "                self.parameters[\"theta\" + str(l)] = np.zeros((self.hidden_units[l], 1)) + bias\n",
    "        else:\n",
    "            raise \"NameError\", \"Undefined Initialization\"\n",
    "    \n",
    "    def mini_batch_split(self, X, y, mini_batch_size, random_seed):\n",
    "        np.random.seed(random_seed)\n",
    "        mini_batches = []\n",
    "        X = X.T\n",
    "        num_observations = X.shape[-1]\n",
    "        order = list(np.random.permutation(num_observations))\n",
    "        X_shuffled = X[:, order]\n",
    "        y_shuffled = y[order].reshape((1, num_observations))\n",
    "        num_full_minibatches = int(np.floor(num_observations * 1.0 / mini_batch_size))\n",
    "        for minibatch in range(num_full_minibatches):\n",
    "            mini_batches.append((X_shuffled[:, minibatch * mini_batch_size: (minibatch + 1) * mini_batch_size],\n",
    "                                 y_shuffled[:, minibatch * mini_batch_size: (minibatch + 1) * mini_batch_size]))\n",
    "        if num_observations % mini_batch_size != 0:\n",
    "            mini_batches.append((X_shuffled[:, num_full_minibatches * mini_batch_size:],\n",
    "                                 y_shuffled[:, num_full_minibatches * mini_batch_size:]))\n",
    "        return mini_batches\n",
    "\n",
    "    def forward_propagation(self, X, y):\n",
    "        self.caches[\"A\" + str(0)] = X\n",
    "        for l in range(1, self.num_layers + 1):\n",
    "            self.caches[\"Z\" + str(l)] = np.dot(self.parameters[\"Theta\" + str(l)], self.caches[\"A\" + str(l - 1)]) \\\n",
    "                                        + self.parameters[\"theta\" + str(l)]\n",
    "            \n",
    "            self.caches[\"A\" + str(l)] = self.activations[\"activation\" + str(l)].evaluation(self.caches[\"Z\" + str(l)])\n",
    "            \n",
    "            if l in self.dropout:\n",
    "                self.caches[\"D\" + str(l)] = (np.random.rand(self.caches[\"A\" + str(l)].shape[0], \n",
    "                                                            self.caches[\"A\" + str(l)].shape[1])) < self.keep_prob\n",
    "                self.caches[\"A\" + str(l)] *=  (self.caches[\"D\" + str(l)] / self.keep_prob)\n",
    "        \n",
    "    \n",
    "    \n",
    "    def backward_propagation(self, X, y):\n",
    "        num_observations = X.shape[-1]\n",
    "        self.caches[\"dA\" + str(self.num_layers)] = self.loss_function.derivative(self.caches[\"A\" + str(self.num_layers)], y)\n",
    "        for l in range(self.num_layers, 0, -1):\n",
    "            self.caches[\"dZ\" + str(l)] = self.caches[\"dA\" + str(l)] * self.activations[\"activation\" + str(l)].derivative(self.caches[\"A\" + str(l)])\n",
    "            self.caches[\"dTheta\" + str(l)] = 1.0 / num_observations * np.dot(self.caches[\"dZ\" + str(l)], self.caches[\"A\" + str(l - 1)].T) + self.regularizer.derivative(self.parameters, l, num_observations, \n",
    "                                                                         self.regularization_coefficient)\n",
    "            \n",
    "            self.caches[\"dtheta\" + str(l)] = 1.0 / num_observations * np.sum(self.caches[\"dZ\" + str(l)], axis = 1, keepdims = True)\n",
    "            \n",
    "            self.caches[\"dA\" + str(l - 1)] = np.dot(self.parameters[\"Theta\" + str(l)].T, self.caches[\"dZ\" + str(l)])\n",
    "            \n",
    "            \n",
    "            if l - 1 in self.dropout:\n",
    "                self.caches[\"dA\" + str(l - 1)] *= (self.caches[\"D\" + str(l - 1)] / self.keep_prob)\n",
    "    \n",
    "    \n",
    "    \n",
    "    def optimize(self, optimizer, learning_rate, epoch, decay_for_avg_grad, decay_for_squared_grad, epsilon):\n",
    "        \n",
    "        if optimizer == \"GD\":\n",
    "            for l in range(1, self.num_layers + 1):\n",
    "                self.parameters[\"Theta\" + str(l)] -= learning_rate * self.caches[\"dTheta\" + str(l)]\n",
    "                self.parameters[\"theta\" + str(l)] -= learning_rate * self.caches[\"dtheta\" + str(l)]\n",
    "                \n",
    "        elif optimizer == \"Adam\":\n",
    "            avg_grad = {}\n",
    "            squared_grad = {}\n",
    "            for l in range(1, self.num_layers + 1):\n",
    "                avg_grad['dTheta' + str(l)] = np.zeros_like(self.parameters['Theta' + str(l)])\n",
    "                avg_grad['dtheta' + str(l)] = np.zeros_like(self.parameters['theta' + str(l)])\n",
    "                squared_grad['dTheta' + str(l)] = np.zeros_like(self.parameters['Theta' + str(l)])\n",
    "                squared_grad['dtheta' + str(l)] = np.zeros_like(self.parameters['theta' + str(l)])\n",
    "            for l in range(1, self.num_layers + 1):\n",
    "                avg_grad['dTheta' + str(l)] = decay_for_avg_grad * avg_grad['dTheta' + str(l)] + (1 - decay_for_avg_grad) * self.caches[\"dTheta\" + str(l)]\n",
    "                \n",
    "                avg_grad['dtheta' + str(l)] = decay_for_avg_grad * avg_grad['dtheta' + str(l)] + (1 - decay_for_avg_grad) * self.caches[\"dtheta\" + str(l)]\n",
    "                \n",
    "                squared_grad['dTheta' + str(l)] = decay_for_squared_grad * squared_grad['dTheta' + str(l)] + (1 - decay_for_squared_grad) * self.caches[\"dTheta\" + str(l)] ** 2\n",
    "                \n",
    "                squared_grad['dtheta' + str(l)] = decay_for_squared_grad * squared_grad['dtheta' + str(l)] + (1 - decay_for_squared_grad) * self.caches[\"dtheta\" + str(l)] ** 2\n",
    "                avg_grad['dTheta' + str(l)] /= (1 - decay_for_avg_grad ** epoch)\n",
    "                avg_grad['dtheta' + str(l)] /= (1 - decay_for_avg_grad ** epoch)\n",
    "                \n",
    "                squared_grad['dTheta' + str(l)] /= (1 - decay_for_squared_grad ** epoch)\n",
    "                squared_grad['dtheta' + str(l)] /= (1 - decay_for_squared_grad ** epoch)\n",
    "                \n",
    "                self.parameters[\"Theta\" + str(l)] -= learning_rate * avg_grad['dTheta' + str(l)] / \\\n",
    "                                                    (np.sqrt(squared_grad['dTheta' + str(l)]) + epsilon)\n",
    "                \n",
    "                self.parameters[\"theta\" + str(l)] -= learning_rate * avg_grad['dtheta' + str(l)] / \\\n",
    "                                                    (np.sqrt(squared_grad['dtheta' + str(l)]) + epsilon)\n",
    "                \n",
    "            \n",
    "    def predicting(self, X):\n",
    "        self.caches[\"A\" + str(0)] = X.T\n",
    "        for l in range(1, self.num_layers + 1):\n",
    "            self.caches[\"Z\" + str(l)] = np.dot(self.parameters[\"Theta\" + str(l)], self.caches[\"A\" + str(l - 1)]) \\\n",
    "                                        + self.parameters[\"theta\" + str(l)]\n",
    "            self.caches[\"A\" + str(l)] = self.activations[\"activation\" + str(l)].evaluation(self.caches[\"Z\" + str(l)])\n",
    "        return (self.caches[\"A\" + str(self.num_layers)] > 0.5)\n",
    "        \n",
    "    def plot_loss(self):\n",
    "        plt.plot(self.loss_collection)\n",
    "    \n"
   ]
  },
  {
   "cell_type": "code",
   "execution_count": 6,
   "metadata": {},
   "outputs": [
    {
     "data": {
      "image/png": "[encoded data removed]",
      "text/plain": [
       "<Figure size 432x288 with 1 Axes>"
      ]
     },
     "metadata": {
      "needs_background": "light"
     },
     "output_type": "display_data"
    }
   ],
   "source": [
    "X = datasets.load_breast_cancer().data\n",
    "X = (X - X.mean(axis = 0)) / X.std(axis = 0)\n",
    "y = datasets.load_breast_cancer().target\n",
    "num_obs = len(X)\n",
    "training_percentage = 0.8\n",
    "num_training = int(num_obs * training_percentage)\n",
    "X_train, y_train, X_test, y_test = X[:num_training], y[:num_training], X[num_training: ], y[num_training: ] \n",
    "nn = NeuralNetwork(3, [7, 5, 1], [\"relu\", \"relu\", \"sigmoid\"], dropout = [1,2], keep_prob = 0.9, loss=\"logistic\")\n",
    "nn.training(X_train, y_train, learning_rate = 10e-6, epsilon=  10e-8, optimizer=\"Adam\", mini_batch_size=128, \n",
    "            random_seed=22, num_epochs=3000, decay_rate = 0.0)\n",
    "nn.plot_loss()"
   ]
  },
  {
   "cell_type": "code",
   "execution_count": 7,
   "metadata": {},
   "outputs": [
    {
     "data": {
      "text/plain": [
       "0.9824175824175824"
      ]
     },
     "execution_count": 7,
     "metadata": {},
     "output_type": "execute_result"
    }
   ],
   "source": [
    "(nn.predicting(X_train) == y_train).sum() * 1.0 / len(y_train)"
   ]
  },
  {
   "cell_type": "code",
   "execution_count": 8,
   "metadata": {},
   "outputs": [
    {
     "data": {
      "text/plain": [
       "0.9912280701754386"
      ]
     },
     "execution_count": 8,
     "metadata": {},
     "output_type": "execute_result"
    }
   ],
   "source": [
    "(nn.predicting(X_test) == y_test).sum() * 1.0 / len(y_test)"
   ]
  },
  {
   "cell_type": "code",
   "execution_count": 9,
   "metadata": {},
   "outputs": [
    {
     "data": {
      "image/png": "[encoded data removed]",
      "text/plain": [
       "<Figure size 432x288 with 1 Axes>"
      ]
     },
     "metadata": {
      "needs_background": "light"
     },
     "output_type": "display_data"
    }
   ],
   "source": [
    "nn = NeuralNetwork(1, [1], [\"sigmoid\"])\n",
    "nn.training(X_train, y_train, learning_rate = 10e-5, num_epochs = 5000, optimizer = \"GD\")\n",
    "nn.plot_loss()"
   ]
  },
  {
   "cell_type": "code",
   "execution_count": 10,
   "metadata": {},
   "outputs": [
    {
     "data": {
      "text/plain": [
       "0.945054945054945"
      ]
     },
     "execution_count": 10,
     "metadata": {},
     "output_type": "execute_result"
    }
   ],
   "source": [
    "(nn.predicting(X_train) == y_train).sum() * 1.0 / len(y_train)"
   ]
  },
  {
   "cell_type": "code",
   "execution_count": 11,
   "metadata": {},
   "outputs": [
    {
     "data": {
      "text/plain": [
       "0.956140350877193"
      ]
     },
     "execution_count": 11,
     "metadata": {},
     "output_type": "execute_result"
    }
   ],
   "source": [
    "(nn.predicting(X_test) == y_test).sum() * 1.0 / len(y_test)"
   ]
  }
 ],
 "metadata": {
  "kernelspec": {
   "display_name": "Python 2",
   "language": "python",
   "name": "python2"
  },
  "language_info": {
   "codemirror_mode": {
    "name": "ipython",
    "version": 2
   },
   "file_extension": ".py",
   "mimetype": "text/x-python",
   "name": "python",
   "nbconvert_exporter": "python",
   "pygments_lexer": "ipython2",
   "version": "2.7.13"
  }
 },
 "nbformat": 4,
 "nbformat_minor": 2
}
