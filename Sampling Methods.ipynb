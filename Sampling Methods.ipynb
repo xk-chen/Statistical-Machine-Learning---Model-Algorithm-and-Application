{
 "cells": [
  {
   "cell_type": "markdown",
   "metadata": {},
   "source": [
    "## Inverse Sampling"
   ]
  },
  {
   "cell_type": "markdown",
   "metadata": {},
   "source": [
    "One of the most widely used sampling methods is the inverse sampling. To sample from a distribution $p(y)$, we first sample a random variable $z$ from the uniform distribution $\\mathcal{U}(0,1)$, then transform $z$ to $Y$ using $Y=h^{-1}(z)$, where \n",
    "\n",
    "$$h(y)=\\int_{-\\infty}^yp(\\hat{y})d\\hat{y}$$\n",
    "\n",
    "Then $Y\\sim p(y)$.\n",
    "\n",
    "\\begin{proof}\n",
    "\n",
    "If $z\\sim \\mathcal{U}(0,1)$, we have\n",
    "\n",
    "\\begin{align*}\n",
    "h(y)&=\\mathbb{P}(z\\leq h(y))\\\\\n",
    "&=\\mathbb{P}(h^{-1}(z)\\leq y)\\\\\n",
    "&=\\mathbb{P}(Y\\leq y)\n",
    "\\end{align*}\n",
    "\n",
    "Therefore, $h(y)$ is the CDF of $Y$.\n",
    "\n",
    "\\end{proof}\n",
    "\n",
    "Usually this method does not work well because \n",
    "\n",
    "1.It is hard to get CDF $h(y)$.\n",
    "\n",
    "2.Even when we get $h(y)$, it may difficult to obtain $h^{-1}(\\cdot)$."
   ]
  },
  {
   "cell_type": "markdown",
   "metadata": {},
   "source": [
    "## Rejection Sampling"
   ]
  },
  {
   "cell_type": "markdown",
   "metadata": {},
   "source": [
    "Sometimes directly drawing from the desired complicated distribution $p(z)$ is hard, but the value $q(z)$ can be sampled. We want to draw samples from $q(z)$ then control the rejection rate to obtain $p(z)$.\n",
    "\n",
    "The procedures of rejection sampling are described as follows: we first introduce a proposal distribution $q(z)$, from which we can readily draw samples. We next introduce a smallest constant $k$ satisfies $\\forall z,kq(z)\\geq p(z)$ . To sample from $p(z)$, we generate a number $z_0$ from $q(z)$, then we draw a number $u_0$ from $\\mathcal{U}(0,kq(z_0))$. If $u_0>p(z_0)$, we reject the sample, otherwise retain $z = z_0$. Then $z\\sim p(z)$.\n",
    "\n",
    "\\begin{proof}\n",
    "\n",
    "The probability of accept $z_0\\sim q(z)$ conditioned on $z_0$ is given by\n",
    "\n",
    "$$\\mathbb{P}(\\text{accept }z\\mid z=z_0 )=\\frac{p(z_0)}{kq(z_0)}$$\n",
    "\n",
    "The probability of $z=z_0$ conditioned on all samples that is accepted is\n",
    "\n",
    "\\begin{align*}\n",
    "\\mathbb{P}(z=z_0\\mid \\text{accept } z)&=\\frac{\\mathbb{P}(z=z_0,\\text{accept } z)}{\\mathbb{P}(\\text{accept } z)}\\\\\n",
    "&=\\frac{\\mathbb{P}(\\text{accept } z\\mid z=z_0)\\mathbb{P}(z=z_0)}{\\int_z\\mathbb{P}(z,\\text{accept } z)}\\\\\n",
    "&=\\frac{\\frac{p(z_0)}{kq(z_0)}q(z_0)}{\\int_z\\frac{p(z)}{kq(z)}q(z)}\\\\\n",
    "&=p(z_0)\n",
    "\\end{align*}\n",
    "\n",
    "\\end{proof}\n",
    "\n",
    "The drawback of rejection sampling is that before we get enough samples that we desire, we usually get many useless samples, it is very inefficient."
   ]
  },
  {
   "cell_type": "markdown",
   "metadata": {},
   "source": [
    "## Importance sampling"
   ]
  },
  {
   "cell_type": "markdown",
   "metadata": {},
   "source": [
    "Importance sampling is based on the use of proposal distribution $q(z)$ from which it is easy to draw samples.\n",
    "\n",
    "\\begin{theorem}[Law of Large Numbers]\n",
    "\n",
    "When $L\\rightarrow\\infty$, sample mean will converge to the population mean.\n",
    "\n",
    "$$\\mathbb{P}\\Big(\\big|{\\frac{1}{L}\\sum_{l=1}^Lf(z_i)-\\mathbb{E}[f(z)]}\\big|>\\epsilon\\Big)\\rightarrow 0$$\n",
    "\n",
    "\\end{theorem}\n",
    "\n",
    "According to the Law of Large Numbers, one can express the expectation in the form of a finite sum over samples from $q(z)$.\n",
    "\n",
    "\\begin{align*}\n",
    "\\mathbb{E}[f(z)]&=\\int f(z)p(z)dz\\\\\n",
    "&=\\int f(z)\\frac{p(z)}{q(z)}q(z)dz\\\\\n",
    "&=\\mathbb{E}_q[f(z)\\frac{p(z)}{q(z)}]\\\\\n",
    "&\\approx \\frac{1}{L}\\sum_{l=1}^Lf(z_l)\\frac{p(z_l)}{q(z_l)}\n",
    "\\end{align*}\n"
   ]
  },
  {
   "cell_type": "markdown",
   "metadata": {},
   "source": [
    "## Markov Chain Monte Carlo"
   ]
  },
  {
   "cell_type": "markdown",
   "metadata": {},
   "source": [
    "**Metropolis-Hastings algorithm**\n",
    "\n",
    "1.Initialize $X_0$ arbitrarily.\n",
    "\n",
    "2.To generate $X_{i+1}$:\n",
    "\n",
    "  (1)Generate a proposal value $Y\\sim q(y\\mid X_i)$.\n",
    "  \n",
    "  (2)Evaluate accept rate $r(X_i,Y)$ that\n",
    "  \n",
    "  $$r(x,y)=\\min\\{\\frac{f(y)q(x\\mid y)}{f(x)q(y\\mid x)},1\\}.$$\n",
    "  \n",
    "  (3)Set $X_{i+1}=Y$ with probability $r$, and hold $X_{i+1}=X_i$ with probability $1-r$.  \n",
    "\n",
    "\\begin{proof}\n",
    "If $r(x,y)\\leq 1$, then\n",
    "$$\\frac{f(x)q(y\\mid x)}{f(y)q(x\\mid y)}\\geq 1.$$\n",
    "Therefore $r(y,x)=1.$\n",
    "\n",
    "If $r(y,x)\\leq 1$, then \n",
    "$$\\frac{f(y)q(x\\mid y)}{f(x)q(y\\mid x)}\\geq 1.$$\n",
    "Therefore $r(x,y)=1.$\n",
    "\n",
    "Suppose $r(x,y)\\leq 1$ and $r(y,x)=1$.\n",
    "\n",
    "$$r(x,y)=\\frac{f(y)q(x\\mid y)}{f(x)q(y\\mid x)}$$\n",
    "\n",
    "$$f(x)q(y\\mid x)r(x,y)=f(y)q(x\\mid y)r(y,x)$$\n",
    "\n",
    "$$f(x)T(y\\mid x)=f(y)T(x\\mid y)$$\n",
    "\n",
    "The equation above is the detailed balance condition.\n",
    "\\end{proof}\n"
   ]
  },
  {
   "cell_type": "code",
   "execution_count": 1,
   "metadata": {
    "collapsed": true
   },
   "outputs": [],
   "source": [
    "from __future__ import division\n",
    "import numpy as np\n",
    "import matplotlib.pyplot as plt\n",
    "from scipy import stats\n",
    "%matplotlib inline\n",
    "def MCMC(size, var, target):\n",
    "    y = []\n",
    "    y.append(2)\n",
    "    for i in range(1,size):\n",
    "        q = np.random.normal(y[i-1], var, 1)\n",
    "        alpha = target(q)/target(y[i-1])\n",
    "        if alpha >= 1:\n",
    "            y.append(q)\n",
    "        elif alpha > np.random.uniform(0,1):\n",
    "            y.append(q)\n",
    "        else:\n",
    "            y.append(y[i-1])\n",
    "    return np.array(y)"
   ]
  },
  {
   "cell_type": "code",
   "execution_count": 2,
   "metadata": {},
   "outputs": [
    {
     "data": {
      "text/plain": [
       "[<matplotlib.lines.Line2D at 0xc635780>]"
      ]
     },
     "execution_count": 2,
     "metadata": {},
     "output_type": "execute_result"
    },
    {
     "data": {
      "image/png": "[encoded data removed]",
      "text/plain": [
       "<matplotlib.figure.Figure at 0xc4ab978>"
      ]
     },
     "metadata": {},
     "output_type": "display_data"
    }
   ],
   "source": [
    "def target(x):\n",
    "    return 1/(np.pi*(1+x**2))\n",
    "y = MCMC(20000,1,target)\n",
    "fig = plt.figure()\n",
    "ax_1 = fig.add_subplot(2,1,1)\n",
    "ax_2 = fig.add_subplot(2,1,2)\n",
    "ax_1.plot(y)\n",
    "#plt.hist(np.random.normal(0,1,9000),normed = True, bins = 15, histtype=\"step\")\n",
    "ax_2.hist(y[15000:],normed = True,bins = 25, histtype=\"step\")\n",
    "#plt.hist(stats.cau(0,1).rvs(size=8000),normed = True,bins = 5, histtype=\"step\")\n",
    "ax_2.plot(np.linspace(-20,20,200),np.vectorize(target)(np.linspace(-20,20,200)))"
   ]
  },
  {
   "cell_type": "markdown",
   "metadata": {},
   "source": [
    "## Gibbs Sampling"
   ]
  },
  {
   "cell_type": "markdown",
   "metadata": {},
   "source": [
    "If we can generate samples from full conditional distribution $f(\\theta_i\\mid \\theta_{-i},x)$, we can draw samples from joint distribuions.\n",
    "$$\\theta_1^{i+1}\\sim f(\\theta_1\\mid \\theta_{-1}^{i})$$\n",
    "\n",
    "$$\\theta_2^{i+1}\\sim f(\\theta_2\\mid \\theta_1^{i+1},\\theta_{-1,-2}^{i})$$\n",
    "\n",
    "Repeat\n",
    "\n",
    "Then we get samples $(\\theta_1^{i+1},\\theta_2^{i+1},\\cdots,\\theta_n^{i+1})$ from $f(\\theta_1,\\theta_2,\\cdots,\\theta_n\\mid x)$."
   ]
  },
  {
   "cell_type": "code",
   "execution_count": 1,
   "metadata": {},
   "outputs": [
    {
     "data": {
      "image/png": "[encoded data removed]",
      "text/plain": [
       "Plot with title \"Histogram of bvn[, 2]\""
      ]
     },
     "metadata": {},
     "output_type": "display_data"
    }
   ],
   "source": [
    "gibbs<-function(n, rho){\n",
    "    mat <- matrix(ncol = 2, nrow = n)\n",
    "    x <- 0\n",
    "    y <- 0\n",
    "    for (i in 2:n){\n",
    "        x <- rnorm(1, rho * y, sqrt(1 - rho^2))\n",
    "        y <- rnorm(1, rho * x, sqrt(1 - rho^2))\n",
    "        mat[i,] <- c(x, y)\n",
    "    }\n",
    "    mat\n",
    "}\n",
    "\n",
    "bvn <- gibbs(10000,0)\n",
    "par(mfrow=c(3,2))\n",
    "plot(bvn,col=1:10000)\n",
    "plot(bvn,type=\"l\")\n",
    "plot(ts(bvn[,1]))\n",
    "plot(ts(bvn[,2]))\n",
    "hist(bvn[,1],40)\n",
    "hist(bvn[,2],40)\n",
    "par(mfrow=c(1,1))"
   ]
  }
 ],
 "metadata": {
  "kernelspec": {
   "display_name": "Python 2",
   "language": "python",
   "name": "python2"
  },
  "language_info": {
   "codemirror_mode": {
    "name": "ipython",
    "version": 2
   },
   "file_extension": ".py",
   "mimetype": "text/x-python",
   "name": "python",
   "nbconvert_exporter": "python",
   "pygments_lexer": "ipython2",
   "version": "2.7.13"
  },
  "latex_envs": {
   "LaTeX_envs_menu_present": true,
   "autocomplete": true,
   "bibliofile": "biblio.bib",
   "cite_by": "apalike",
   "current_citInitial": 1,
   "eqLabelWithNumbers": true,
   "eqNumInitial": 1,
   "hotkeys": {
    "equation": "Ctrl-E",
    "itemize": "Ctrl-I"
   },
   "labels_anchors": false,
   "latex_user_defs": false,
   "report_style_numbering": false,
   "user_envs_cfg": false
  },
  "toc": {
   "colors": {
    "hover_highlight": "#DAA520",
    "running_highlight": "#FF0000",
    "selected_highlight": "#FFD700"
   },
   "moveMenuLeft": true,
   "nav_menu": {
    "height": "12px",
    "width": "252px"
   },
   "navigate_menu": true,
   "number_sections": true,
   "sideBar": true,
   "threshold": 4,
   "toc_cell": false,
   "toc_section_display": "block",
   "toc_window_display": false,
   "widenNotebook": false
  }
 },
 "nbformat": 4,
 "nbformat_minor": 2
}
