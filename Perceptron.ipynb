{
 "cells": [
  {
   "cell_type": "markdown",
   "metadata": {},
   "source": [
    "## Biology and Learning"
   ]
  },
  {
   "cell_type": "markdown",
   "metadata": {},
   "source": [
    "The basic idea of learning is that **good behavior should be rewarded, bad behavior punished**. This can improve system fitness.\n",
    "\n",
    "According to this feature, the training mechanisms could be\n",
    "\n",
    "1.Behavioral modification of individuals.\n",
    "\n",
    "2.Successful behavior is rewarded.\n",
    "\n",
    "<div style = \"text-align:center\">\n",
    "<img src=\"Pictures\\neuron.png\", title = \"Neuron\", align=\"middle\"/>\n",
    "<!--<B>FIGURE 1: The illustration of a neuron</B>-->\n",
    "</div>\n",
    "\n",
    "**Soma** or cell body is equivalent to the CPU of computer, it can combine signals.\n",
    "\n",
    "**Dendrite** is the input bus of the computer, it combines the inputs from other nerve cells.\n",
    "\n",
    "**Synapse** seems like the interface of hardware, storing parameters between neurons.\n",
    "\n",
    "**Axon**, the output bus, will transport the activation signal to neurons at different locations.\n",
    "\n",
    "Then we take an analog of the neuron\n",
    "\n",
    "<div style = \"text-align:center\">\n",
    "<img src=\"Pictures\\perceptron.png\", title = \"Perceptron\", width = \"600\", height = \"300\"/>\n",
    "<!--<caption><B>FIGURE 2: The perceptron model</B></caption>-->\n",
    "</div>\n",
    "\n",
    "Learning is choosing the $\\mathbf{w}$ that makes the output agree on the labels."
   ]
  },
  {
   "cell_type": "markdown",
   "metadata": {},
   "source": [
    "## Perceptron Learning Algorithm"
   ]
  },
  {
   "cell_type": "markdown",
   "metadata": {},
   "source": [
    "Start from some $\\mathbf{w}_0$, and correct its mistakes on dataset $\\mathcal{D}$\n",
    "\n",
    "For $t=0,1,\\dots$\n",
    "\n",
    "Find a mistake of $\\mathbf{w}_t$ called $\\mathbf{x}_{n(t)},y_{n(t)}$ that\n",
    "\n",
    "$$\\text{sign}\\left(\\mathbf{w}_t^T\\mathbf{x}_{n(t)}\\right)\\not=y_{n(t)}$$\n",
    "\n",
    "Then correct the mistake by\n",
    "\n",
    "$$\\mathbf{w}_{t+1}\\leftarrow\\mathbf{w}_t+y_{n(t)}\\mathbf{x}_{n(t)}$$\n",
    "\n",
    "Until no more mistakes return $\\mathbf{w}_{PLA}$\n",
    "\n",
    "Assume linear separate $\\mathcal{D}$, why PLA always halt?\n",
    "\n",
    "We have perfect $\\color{red}{\\mathbf{w}_f}$ that every $\\color{blue}{\\mathbf{x}_n}$ is correct\n",
    "\n",
    "$$\\color{purple}{y_{n(t)}\\mathbf{w}_f^T\\mathbf{x}_{n(t)}}\\color{blue}{\\geq\\min_ny_n\\mathbf{w}_f^T\\mathbf{x}_{n}}\\color{red}{>0}$$\n",
    "\n",
    "\\begin{align*}\n",
    "\\mathbf{w}_f^T\\mathbf{w}_{t+1}&=\\mathbf{w}_f^T\\left(\\mathbf{w}_{t}+\\color{purple}{y_{n(t)}\\mathbf{x}_{n(t)}}\\right)\\\\\n",
    "&\\color{blue}{\\geq} \\mathbf{w}_f^T\\mathbf{w}_{t}\\color{blue}{+\\min_ny_n\\mathbf{w}_f^T\\mathbf{x}_{n}}\\\\\n",
    "&\\color{red}{>}\\mathbf{w}_f^T\\mathbf{w}_{t}\\color{red}{+0}\n",
    "\\end{align*}\n",
    "\n",
    "According to above, the dot product of $\\mathbf{w}_f$ and $\\mathbf{w}_{t+1}$ increases along with the iteration. And \n",
    "\n",
    "\\begin{align*}\n",
    "\\|\\mathbf{w}_{t+1}\\|^2&=\\|\\mathbf{w}_t+y_{n(t)}\\mathbf{x}_{n(t)}\\|^2\\\\\n",
    "&=\\|\\mathbf{w}_t\\|^2+\\color{blue}{2y_{n(t)}\\mathbf{w}_{t}^T\\mathbf{x}_{n(t)}}+\\|y_{n(t)}\\mathbf{x}_{n(t)}\\|^2\\\\\n",
    "&\\color{blue}{\\leq}\\|\\mathbf{w}_{t}\\|^2+\\color{blue}{0}+\\color{red}{\\|y_{n(t)}\\mathbf{x}_{n(t)}\\|^2}\\\\\n",
    "&\\color{red}{\\leq}\\|\\mathbf{w}_t\\|^2+\\color{red}{\\max_n\\|\\color{gray}{y_n}\\mathbf{x}_n\\|^2}\n",
    "\\end{align*}\n",
    "\n",
    "$$\\cos\\theta=\\frac{\\mathbf{w}_{f}^T\\cdot\\mathbf{w}_{T}}{\\|\\mathbf{w}_{f}\\|\\|\\mathbf{w}_{T}\\|}\\geq\\frac{\\mathbf{w}_{f}^T\\mathbf{w}_{0 }+T\\min_ny_n\\mathbf{w}_{f}^Tx_n}{\\|\\mathbf{w}_{f}\\|\\sqrt{\\|\\mathbf{w}_{0}\\|^2+T\\max_n\\|x_n\\|^2}}$$\n",
    "\n",
    "It says that after $T$ times corrects, we have $\\sup{\\theta}$, if $\\mathbf{w}_{0}=\\mathbf{0}$, the biggest $T$ satisfies\n",
    "\n",
    "$$1\\geq \\cos\\theta\\geq \\frac{\\sqrt{T}\\rho}{R}$$\n",
    "\n",
    "Where $$\\rho=\\min_ny_n\\frac{\\mathbf{w}_{f}^T}{\\|\\mathbf{w}_{f}\\|}\\mathbf{x}_n\\qquad\\qquad R=\\max_n\\|\\mathbf{x}_n\\|$$\n",
    "\n",
    "i.e.\n",
    "\n",
    "$$T\\leq\\frac{R^2}{\\rho^2}$$"
   ]
  },
  {
   "cell_type": "code",
   "execution_count": 1,
   "metadata": {
    "collapsed": true
   },
   "outputs": [],
   "source": [
    "from __future__ import division\n",
    "import numpy as np\n",
    "from matplotlib import pyplot as plt\n",
    "%matplotlib inline"
   ]
  },
  {
   "cell_type": "code",
   "execution_count": 2,
   "metadata": {
    "collapsed": true
   },
   "outputs": [],
   "source": [
    "class Perceptron(object):\n",
    "    def __init__(self, dimension):\n",
    "        self.dimension = dimension\n",
    "        self.w=np.zeros(self.dimension + 1)\n",
    "        self.counter = 0\n",
    "    def train(self, X, y, eta = 1.0):\n",
    "        indicator = True\n",
    "        X=np.array([list(x) + [1] for x in X])\n",
    "        while indicator:\n",
    "            indicator = False\n",
    "            for i in range(len(X)):\n",
    "                if np.sign(np.dot(X[i], self.w)) != y[i]:\n",
    "                    self.w = self.w + eta * X[i] * y[i]\n",
    "                    indicator = True\n",
    "                    break\n",
    "            self.counter += 1\n",
    "    def predict(self,x):\n",
    "        x=list(x) + [1]\n",
    "        return np.sign(np.dot(x, self.w))"
   ]
  },
  {
   "cell_type": "code",
   "execution_count": 3,
   "metadata": {
    "collapsed": true
   },
   "outputs": [],
   "source": [
    "X = np.loadtxt(\"Datasets\\X.dat\").T\n",
    "Y = np.loadtxt(\"Datasets\\Y.dat\")"
   ]
  },
  {
   "cell_type": "code",
   "execution_count": 4,
   "metadata": {},
   "outputs": [
    {
     "data": {
      "text/plain": [
       "<matplotlib.collections.PathCollection at 0xdf46e80>"
      ]
     },
     "execution_count": 4,
     "metadata": {},
     "output_type": "execute_result"
    },
    {
     "data": {
      "image/png": "[encoded data removed]",
      "text/plain": [
       "<Figure size 432x288 with 1 Axes>"
      ]
     },
     "metadata": {
      "needs_background": "light"
     },
     "output_type": "display_data"
    }
   ],
   "source": [
    "plt.scatter(X[:,0], X[:, 1],c=Y)"
   ]
  },
  {
   "cell_type": "code",
   "execution_count": 5,
   "metadata": {},
   "outputs": [],
   "source": [
    "perceptron=Perceptron(2)\n",
    "perceptron.train(X,Y)"
   ]
  },
  {
   "cell_type": "code",
   "execution_count": 6,
   "metadata": {},
   "outputs": [
    {
     "data": {
      "text/plain": [
       "[<matplotlib.lines.Line2D at 0xe0b08d0>]"
      ]
     },
     "execution_count": 6,
     "metadata": {},
     "output_type": "execute_result"
    },
    {
     "data": {
      "image/png": "[encoded data removed]",
      "text/plain": [
       "<Figure size 432x288 with 1 Axes>"
      ]
     },
     "metadata": {
      "needs_background": "light"
     },
     "output_type": "display_data"
    }
   ],
   "source": [
    "x_coordinate = np.linspace(-2,2,100)\n",
    "y_coordinate = (-perceptron.w[0] * x_coordinate - perceptron.w[2]) / perceptron.w[1]\n",
    "plt.scatter(X[:,0], X[:, 1],c=Y)\n",
    "plt.plot(x_coordinate, y_coordinate, \"g--\")"
   ]
  },
  {
   "cell_type": "code",
   "execution_count": 7,
   "metadata": {},
   "outputs": [
    {
     "data": {
      "text/plain": [
       "16"
      ]
     },
     "execution_count": 7,
     "metadata": {},
     "output_type": "execute_result"
    }
   ],
   "source": [
    "perceptron.counter"
   ]
  },
  {
   "cell_type": "markdown",
   "metadata": {},
   "source": [
    "## Kernel Perceptron"
   ]
  },
  {
   "cell_type": "markdown",
   "metadata": {},
   "source": [
    "All we talk about is when points are linear separatable, how about the non-linear features?\n",
    "\n",
    "The heuristic is that map data into feature space $x\\rightarrow \\phi(x)$, then solve the problem in this space. Therefore, the perceptron on features can be illustrated as\n",
    "\n",
    "Repeat pick $(x_i,y_i)$ from data, set $\\mathbf{w}_{t+1}=\\mathbf{w}_t+\\phi(x_i)y_i$ until $y_i\\langle\\mathbf{w},\\phi(x_i)\\rangle>0$ for all $i$. Finally,\n",
    "the weight vector is\n",
    "\n",
    "$$\\mathbf{w}=\\sum_iy_i\\phi(x_i)$$\n",
    "\n",
    "and the decision function is\n",
    "\n",
    "$$f(x)=\\langle \\mathbf{w} ,\\phi(x)\\rangle=\\sum_iy_i\\langle \\phi(x_i),\\phi(x)\\rangle$$\n",
    "\n",
    "However, the problems of perceptron on features are:\n",
    "\n",
    "1.Need domain expert.\n",
    "\n",
    "2.Often expensive to compute: Extracting features can sometimes be very costly. e.g. Second order features in $1000$ dimensions lead to $5\\times10^5$ numbers.\n",
    "\n",
    "3.Difficult to transfer engineering knowledge.\n",
    "\n",
    "**Do not compute the features, try to compute dot products implicitly.**\n",
    "\n",
    "\\begin{definition}\n",
    "A kernel function $k \\colon \\mathcal{X} \\times\\mathcal{X} \\to \\mathbb{R}$ is a symmetric function in its arguments for which the following property holds\n",
    "\n",
    "$$k(x,x^\\prime)=\\langle \\phi(x),\\phi(x')\\rangle$$\n",
    "\n",
    "\\end{definition}\n",
    "\n",
    "Note that kernel function is often smooth and symmetric.\n",
    "\n",
    "Is there always a $\\phi$ such that $k$ really is a dot product. (i.e. for all $x,x'$, can we construct $\\phi$ that $k(x,x')=\\phi_i(x)\\phi_i(x')$ )?\n",
    "\n",
    "\\begin{theorem}[Mercer]\n",
    "\n",
    "For any symmetric function $k \\colon \\mathcal{X} \\times\\mathcal{X} \\to \\mathbb{R}$ which is square integrable in $\\mathcal{X} \\times\\mathcal{X}$ and which satisfies\n",
    "\n",
    "$$\\int_{\\mathcal{X} \\times\\mathcal{X}}k(x,x^\\prime)f(x)f(x')\\,dxdx'\\geq 0 \\text{ for all } f\\in L_2(\\mathcal{X}) $$\n",
    "\n",
    "there exist $\\phi_i\\colon\\mathcal{X}\\to \\mathbb{R}$ and numbers $\\lambda_i\\geq 0$ where \n",
    "\n",
    "$$k(x,x')=\\sum_i\\lambda_i\\phi_i(x)\\phi_i(x')\\text{ for all } x,x'\\in \\mathcal{X}$$\n",
    "\n",
    "\\end{theorem}\n",
    "\n",
    "In other words, any positive semi-definite function can be kernel function. \n",
    "\n",
    "**Check Mercer's condition: compute the Fourier transform of the kernel and check that it is nonnegative.**\n",
    "\n",
    "Usually, we can choose $\\phi(x)$ that makes $k(x,x^\\prime)$ much simpler than $\\phi(x)$. e.g.\n",
    "\n",
    "$$\\phi(x)=\\big(x_1^2,\\sqrt{2}x_1x_2,x_2^2\\big)$$\n",
    "\n",
    "and\n",
    "\n",
    "$$\\langle \\phi(x),\\phi(x')\\rangle=\\big\\langle\\big(x_1^2,\\sqrt{2}x_1x_2,x_2^2\\big),\\big(x_1^{\\prime2},\\sqrt{2}x_1^{\\prime}x_2^{\\prime},x_2^{\\prime2}\\big)\\big\\rangle=\\langle x,x'\\rangle^2$$\n",
    "\n",
    "Because $\\mathbf{w}=\\sum_ty_{t(i)}\\phi(x_t(i))=\\sum_i\\alpha_iy_i\\phi(x_i)$, where $\\alpha_i$ is the number of errors on instance $i$, prediction formula is\n",
    "\n",
    "$$f(x)=\\text{sign}(\\mathbf{w}^Tx)=\\text{sign}\\big(\\sum_i\\alpha_iy_ix_i\\big)^Tx=\\text{sign}\\sum_i\\alpha_iy_i(x_i^T\\cdot x)=\\text{sign}\\sum_i\\alpha_iy_ik(x_i,x)$$\n",
    "\n",
    "And the **Kernel Perceptron Algorithm** is\n",
    "\n",
    "1.Initialize $\\mathbf{\\alpha}=\\mathbf{0}$.\n",
    "\n",
    "while misclassification:\n",
    "\n",
    "   2.Repeat $\\alpha_i=\\alpha_i+1$ until $y_if(x_i)>0, \\forall i$.\n",
    "   \n",
    "end\n",
    "\n",
    "\n",
    "Therefore, \n",
    "\n",
    "$$f(x)=\\text{sign}\\sum_i\\alpha_iy_ik(x_i,x)$$\n",
    "\n",
    "In fact, kernel function is a similarity measure. Consider any two instances $x_i,x_j$, we study **kernel matrix** $K$, first define the distance in feature space\n",
    "\n",
    "\\begin{align*}\n",
    "d(x_i,x_j)&=\\|\\phi(x_i)-\\phi(x_j)\\|\\\\\n",
    "&=\\langle\\phi(x_i),\\phi(x_i)\\rangle-2\\langle\\phi(x_i),\\phi(x_j)\\rangle+\\langle\\phi(x_j),\\phi(x_j)\\rangle\\\\\n",
    "&=k(x_i,x_i)+k(x_j,x_j)-2k(x_i,x_j)\n",
    "\\end{align*}\n",
    "\n",
    "The entry $K_{ij}$ is\n",
    "\n",
    "$$K_{ij}=\\langle\\phi(x_i),\\phi(x_j)\\rangle=k(x_i,x_j)$$\n",
    "\n",
    "which tell us the overlap between $\\phi(x_i)$ and $\\phi(x_j)$.\n",
    "\n",
    "\\begin{theorem}\n",
    "$K$ is symmetric and positive semi-definite. In other words, $\\alpha^TK\\alpha\\geq 0$ for all $\\alpha\\in\\mathbb{R}^m$ and kernel matrix $K\\in\\mathbb{R}^{m\\times m}$\n",
    "\\end{theorem}\n",
    "\n",
    "\\begin{proof}\n",
    "\n",
    "\\begin{align*}\n",
    "\\sum_{i,j}^m \\alpha_i\\alpha_jK_{ij}&=\\sum_{i,j}^m \\alpha_i\\alpha_j\\langle\\phi(x_i),\\phi(x_j)\\rangle\\\\\n",
    "&=\\big\\langle\\sum_i^m\\alpha_i\\phi(x_i),\\sum_j^m\\alpha_j\\phi(x_j)\\big\\rangle\\\\\n",
    "&=\\big\\|\\sum_i^m\\alpha_i\\phi(x_i)\\big\\|^2\\geq 0\n",
    "\\end{align*}\n",
    "\n",
    "\\end{proof}\n",
    "\n",
    "Some candidate kernel:\n",
    "\n",
    "Linear:\n",
    "$$ \\langle x_i,x_j\\rangle$$\n",
    "\n",
    "Laplacian RBF:\n",
    "$$\\exp{(-\\lambda\\|x_i-x_j\\|)}$$\n",
    "\n",
    "Gaussian RBF: \n",
    "$$ \\exp{(-\\lambda\\|x_i-x_j\\|^2)}$$\n",
    "\n",
    "Polynomial:\n",
    "$$ \\big(\\langle x_i,x_j\\rangle+c\\big)^d,\\text{ where }c\\geq0,d\\in \\mathbb{N} $$\n",
    "\n",
    "Conditional Expectation:\n",
    "\n",
    "$$\\mathbb{E}_c[p_i(x\\mid c)p(x_j\\mid c)]$$"
   ]
  },
  {
   "cell_type": "code",
   "execution_count": 8,
   "metadata": {
    "collapsed": true
   },
   "outputs": [],
   "source": [
    "class Kernel_Perceptron():\n",
    "    def __init__(self, X, y):\n",
    "        self.X = np.hstack((np.ones((len(X), 1)), X))\n",
    "        self.y = y\n",
    "    # Gaussian kernel\n",
    "    def kernel(self, X_train, x_new):\n",
    "        if X_train.ndim == 1 and x_new.ndim == 1:\n",
    "            return np.exp(- np.linalg.norm(X_train - x_new) ** 2)\n",
    "        elif (X_train.ndim == 1 and x_new.ndim > 1) or (X_train.ndim > 1 and x_new.ndim == 1):\n",
    "            return np.exp(- np.linalg.norm(X_train - x_new, axis = 1) ** 2)\n",
    "        elif X_train.ndim > 1 and x_new.ndim > 1:\n",
    "            return np.exp(-np.linalg.norm(X_train[:, np.newaxis] - x_new[np.newaxis, :], axis = 2) ** 2)  \n",
    "    def train(self, stop):\n",
    "        indicator = True\n",
    "        self.alpha=np.zeros(len(self.y))\n",
    "        j = 0\n",
    "        while (indicator):\n",
    "            indicator = False\n",
    "            for i in range(len(self.X)):\n",
    "                if self.y[i] * np.sum(self.alpha * self.y * self.kernel(self.X, self.X[i])) <= 0:\n",
    "                    self.alpha[i] = self.alpha[i] + 1\n",
    "                    indicator = True\n",
    "                    break\n",
    "            j = j + 1\n",
    "            if j > stop:\n",
    "                break\n",
    "        print \"After \" + str(j) + \" iterations \" + \"halts\"\n",
    "        return self.alpha\n",
    "    def predict(self,x):\n",
    "        x=np.hstack((np.ones((len(x), 1)), x))\n",
    "        return np.sign(np.dot(self.alpha * self.y, self.kernel(self.X, x)))"
   ]
  },
  {
   "cell_type": "code",
   "execution_count": 9,
   "metadata": {
    "collapsed": true
   },
   "outputs": [],
   "source": [
    "X = np.random.randn(10,2)\n",
    "y = np.ones(10)\n",
    "y[5:9] = -1"
   ]
  },
  {
   "cell_type": "code",
   "execution_count": 10,
   "metadata": {},
   "outputs": [],
   "source": [
    "def plot_2d_boundary(X, Y, predict_function, scale = 1, stride = 0.01, fig_size = (4, 3)):\n",
    "    # X is a 2d array, covariates\n",
    "    # Y is an 1d array, labels\n",
    "    # predict_function maps an observation to a label\n",
    "    # scale controls the boundary of the plot\n",
    "    # stride is the step size along the axes\n",
    "    # fig_size is the size of the figure\n",
    "    x_min, x_max = X[:, 0].min() - scale, X[:, 0].max() + scale\n",
    "    y_min, y_max = X[:, 1].min() - scale, X[:, 1].max() + scale\n",
    "    # Produce the coordinates of the points will be predicted\n",
    "    xx, yy = np.meshgrid(np.arange(x_min, x_max, stride), np.arange(y_min, y_max, stride))\n",
    "    # Predict\n",
    "    Z = predict_function(np.c_[xx.ravel(), yy.ravel()])\n",
    "    Z = Z.reshape(xx.shape)\n",
    "    plt.figure(1, figsize= fig_size)\n",
    "    plt.pcolormesh(xx, yy, Z, cmap=plt.cm.rainbow_r)\n",
    "    plt.scatter(X[:, 0], X[:, 1], c=Y, edgecolors='k', cmap=plt.cm.rainbow_r)\n",
    "    plt.xlim(xx.min(), xx.max())\n",
    "    plt.ylim(yy.min(), yy.max())\n",
    "    plt.show()"
   ]
  },
  {
   "cell_type": "code",
   "execution_count": 11,
   "metadata": {},
   "outputs": [
    {
     "name": "stdout",
     "output_type": "stream",
     "text": [
      "After 38 iterations halts\n"
     ]
    },
    {
     "data": {
      "text/plain": [
       "array([ 1.,  1.,  1.,  1., 15.,  7.,  1.,  0., 10.,  0.])"
      ]
     },
     "execution_count": 11,
     "metadata": {},
     "output_type": "execute_result"
    }
   ],
   "source": [
    "k = Kernel_Perceptron(X,y)\n",
    "k.train(2000)"
   ]
  },
  {
   "cell_type": "code",
   "execution_count": 12,
   "metadata": {},
   "outputs": [
    {
     "data": {
      "image/png": "[encoded data removed]",
      "text/plain": [
       "<Figure size 288x216 with 1 Axes>"
      ]
     },
     "metadata": {
      "needs_background": "light"
     },
     "output_type": "display_data"
    }
   ],
   "source": [
    "plot_2d_boundary(X, y, k.predict)"
   ]
  }
 ],
 "metadata": {
  "kernelspec": {
   "display_name": "Python 2",
   "language": "python",
   "name": "python2"
  },
  "language_info": {
   "codemirror_mode": {
    "name": "ipython",
    "version": 2
   },
   "file_extension": ".py",
   "mimetype": "text/x-python",
   "name": "python",
   "nbconvert_exporter": "python",
   "pygments_lexer": "ipython2",
   "version": "2.7.13"
  },
  "latex_envs": {
   "LaTeX_envs_menu_present": true,
   "autocomplete": true,
   "bibliofile": "biblio.bib",
   "cite_by": "apalike",
   "current_citInitial": 1,
   "eqLabelWithNumbers": true,
   "eqNumInitial": 1,
   "hotkeys": {
    "equation": "Ctrl-E",
    "itemize": "Ctrl-I"
   },
   "labels_anchors": false,
   "latex_user_defs": false,
   "report_style_numbering": false,
   "user_envs_cfg": false
  },
  "toc": {
   "colors": {
    "hover_highlight": "#DAA520",
    "running_highlight": "#FF0000",
    "selected_highlight": "#FFD700"
   },
   "moveMenuLeft": true,
   "nav_menu": {
    "height": "12px",
    "width": "252px"
   },
   "navigate_menu": true,
   "number_sections": true,
   "sideBar": true,
   "threshold": 4,
   "toc_cell": false,
   "toc_section_display": "block",
   "toc_window_display": false,
   "widenNotebook": false
  }
 },
 "nbformat": 4,
 "nbformat_minor": 2
}
