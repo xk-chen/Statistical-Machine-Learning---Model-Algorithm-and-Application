{
 "cells": [
  {
   "cell_type": "code",
   "execution_count": 1,
   "metadata": {},
   "outputs": [],
   "source": [
    "import numpy as np\n",
    "from sklearn import datasets\n",
    "import matplotlib.pyplot as plt\n",
    "import matplotlib\n",
    "matplotlib.rc('text', usetex=True)\n",
    "matplotlib.rcParams['text.latex.preamble']=[r\"\\usepackage[mtpbb, mtpcal]{mtpro2}\"]"
   ]
  },
  {
   "cell_type": "code",
   "execution_count": 2,
   "metadata": {},
   "outputs": [],
   "source": [
    "def normalize(X, axis = 0, mean = True, std = True):\n",
    "        '''\n",
    "        Conduct mean-standard deviation normalization.\n",
    "\n",
    "        Parameters\n",
    "        ----------\n",
    "        X : array-like, shape = [n_1, n_2, ..., n_{`X.ndim`-1}]\n",
    "            Data matrix\n",
    "\n",
    "        axis : int, 0 to `X.ndim` - 1\n",
    "            The axis needs to be normalized\n",
    "\n",
    "        mean : bool,\n",
    "            Whether to normalize the mean to zero\n",
    "\n",
    "        std : bool\n",
    "            Whether to normalize the variance to one\n",
    "\n",
    "        Returns\n",
    "        -------\n",
    "        X_normalized : array, shape = [num_observations, num_features]\n",
    "            The design matrix after normalizing\n",
    "        '''\n",
    "        standard_deviation = X.std(axis = axis)\n",
    "        valid_std = (np.abs(standard_deviation).all() >= 1e-16)\n",
    "        if std == True and (valid_std == False):\n",
    "            raise ZeroDivisionError, \"Zero standard deviation encountered.\"\n",
    "        X_normalized = (X - X.mean(axis = axis) * mean) / standard_deviation\n",
    "        return X_normalized"
   ]
  },
  {
   "cell_type": "code",
   "execution_count": 3,
   "metadata": {},
   "outputs": [],
   "source": [
    "class LinearRegression():\n",
    "    \n",
    "    def __init__(self, regularizer = {\"reg_type\": \"L2\", \"reg_strength\": 0.0}, optimizer = \"GD\"):\n",
    "        self.regularizer = regularizer\n",
    "        self.optimizer = optimizer\n",
    "        self.counter = 0\n",
    "        assert self.regularizer[\"reg_type\"] in [\"L1\", \"L2\"], \"`reg_type` must be `L1` or `L2`\"\n",
    "        assert self.regularizer[\"reg_strength\"] >= 0 or self.regularizer[\"reg_strength\"] == None, \\\n",
    "               \"`reg_strength` must be non-negative\"\n",
    "        assert self.optimizer in [\"GD\", \"SGD\", \"Proximal\"], \"`optimizer` must be `GD`, `SGD` or `Proximal`\"\n",
    "        if self.regularizer[\"reg_type\"] != \"L1\" and self.optimizer == \"Proximal\":\n",
    "            raise NameError, \"In this class, proximal gradient descent only for L1 regularizer\"\n",
    "        if self.regularizer[\"reg_type\"] == \"L1\" and self.optimizer != \"Proximal\":\n",
    "            raise NameError, \"Use proximal gradient descent for lasso\"\n",
    "        \n",
    "    def training(self, X, y, step_size = 0.01, decay = 1, tolerance = 0.01):\n",
    "        self.X = self._add_intercept(X)\n",
    "        self.y = y\n",
    "        self.weights = np.zeros(self.X.shape[-1])\n",
    "        self.step_size = step_size    \n",
    "        self.tolerance = tolerance\n",
    "        self.index = np.arange(len(self.X))\n",
    "        self.decay = decay\n",
    "        self.weights_previous = np.repeat(np.inf,self.X.shape[-1])\n",
    "        self.loss_collection = []\n",
    "        assert self.tolerance > 0, \"`tolerance` should be positive\"\n",
    "        assert 0 < self.decay <= 1, \"`decay` should be in (0, 1]\"\n",
    "\n",
    "        \n",
    "        while np.linalg.norm(self.weights - self.weights_previous) > tolerance:\n",
    "            self.counter = self.counter + 1\n",
    "            self.weights_previous = self.weights.copy()\n",
    "            self._optimizer()\n",
    "            self.step_size = self.decay * self.step_size\n",
    "        print \"After {} iterations converges.\".format(self.counter)    \n",
    "        \n",
    "    def _optimizer(self):\n",
    "        temp = self.weights.copy()\n",
    "        temp[0] = 0.0\n",
    "        if self.optimizer == \"GD\":\n",
    "            self.weights = self.weights - self.step_size * (2.0 / self.X.shape[0] * np.dot(self.X.T,\n",
    "                           np.dot(self.X, self.weights) - self.y) + 2 * self.regularizer[\"reg_strength\"] * temp)\n",
    "            self.loss_collection.append(np.linalg.norm(np.dot(self.X, self.weights) - self.y) / self.X.shape[0] + \\\n",
    "                                        self.regularizer[\"reg_strength\"] * np.linalg.norm(self.weights) ** 2)    \n",
    "        elif self.optimizer == \"SGD\":\n",
    "            t = np.random.choice(self.index, replace = True)\n",
    "            self.weights = self.weights - self.step_size * 2.0 * ((np.dot(self.X[t], self.weights) - self.y[t])\\\n",
    "                                                                            * self.X[t] + self.regularizer[\"reg_strength\"] * temp)\n",
    "            self.loss_collection.append(np.linalg.norm(np.dot(self.X, self.weights) - self.y) ** 2 / self.X.shape[0] + \\\n",
    "                                        self.regularizer[\"reg_strength\"] * np.linalg.norm(self.weights) ** 2) \n",
    "        else:\n",
    "            self.weights = self.weights - 2.0 / self.X.shape[0] * self.step_size * np.dot(self.X.T, \n",
    "                           np.dot(self.X, self.weights) - self.y)\n",
    "            self.weights = self._soft_thresholding(self.weights, self.regularizer[\"reg_strength\"])\n",
    "            self.loss_collection.append(np.linalg.norm(np.dot(self.X, self.weights) - self.y) ** 2 / self.X.shape[0] + \\\n",
    "                                        self.regularizer[\"reg_strength\"] * np.linalg.norm(self.weights, ord = 1))\n",
    "            \n",
    "    def _add_intercept(self, X):\n",
    "            return np.hstack(((np.ones(X.shape[0])).reshape((-1, 1)), X))\n",
    "    \n",
    "    def _soft_thresholding(self, x, threshold):\n",
    "        return np.sign(x) * np.maximum(0, np.abs(x) - threshold)\n",
    "    \n",
    "    def predicting(self, X):\n",
    "        return np.dot(X, self.weights)\n",
    "    \n",
    "    def plot_trace(self, X, y, step_size = 0.01, decay = 1, tolerance = 0.01, reg_coef = [0, 1, 10, 20, 30, 50, 100, 200]):\n",
    "        weights_collection = []\n",
    "        for i in range(len(reg_coef)):\n",
    "            self.regularizer[\"reg_strength\"] = reg_coef[i]\n",
    "            self.training(X, y, step_size, decay, tolerance)\n",
    "            weights_collection.append(self.weights)\n",
    "        result = weights_collection[0]\n",
    "        for i in range(len(weights_collection)-1):\n",
    "            result = np.vstack((result, weights_collection[i+1]))\n",
    "        fig = plt.figure(figsize = (6, 4))\n",
    "        ax = fig.add_subplot(111)\n",
    "        for i in range(1, self.X.shape[-1]):\n",
    "            ax.plot(np.array(reg_coef), result[:, i], '-', label = '{}-th Feature'.format(i))\n",
    "        ax.legend()\n",
    "        \n",
    "    def get_loss(self, X, y):\n",
    "        return np.linalg.norm(np.dot(self.X, self.weights) - self.y) ** 2 / self.X.shape[0] + \\\n",
    "                                        self.regularizer[\"reg_strength\"] * np.linalg.norm(self.weights, ord = 1)\n",
    "    def plot_loss(self):\n",
    "        plt.plot(self.loss_collection)\n",
    "\n",
    "    "
   ]
  },
  {
   "cell_type": "code",
   "execution_count": 4,
   "metadata": {},
   "outputs": [],
   "source": [
    "X, y, coef = datasets.make_regression(n_samples=1007, n_features=6, n_informative = 3, bias=1, coef = True, noise=5, \n",
    "                                      tail_strength=0.0)\n",
    "X = normalize(X)\n",
    "y = normalize(y)"
   ]
  },
  {
   "cell_type": "code",
   "execution_count": 5,
   "metadata": {},
   "outputs": [
    {
     "name": "stdout",
     "output_type": "stream",
     "text": [
      "After 8 iterations converges.\n"
     ]
    },
    {
     "data": {
      "image/png": "[encoded data removed]",
      "text/plain": [
       "<Figure size 432x288 with 1 Axes>"
      ]
     },
     "metadata": {
      "needs_background": "light"
     },
     "output_type": "display_data"
    }
   ],
   "source": [
    "reg_strength = 0\n",
    "stepsize_for_GD = 1.0 / (2.0 / X.shape[0] * np.linalg.norm(X, axis = 1).sum() + 2 * reg_strength)\n",
    "stepsize_for_SGD = 10 ** -6\n",
    "stepsize_for_Proximal = stepsize_for_GD\n",
    "predictor = LinearRegression(regularizer={\"reg_type\": \"L2\", \"reg_strength\": reg_strength}, optimizer = \"GD\")\n",
    "predictor.training(X, y, step_size = stepsize_for_GD, decay=1, tolerance = 0.01)\n",
    "predictor.plot_loss()"
   ]
  },
  {
   "cell_type": "code",
   "execution_count": 6,
   "metadata": {},
   "outputs": [
    {
     "name": "stdout",
     "output_type": "stream",
     "text": [
      "After 7 iterations converges.\n"
     ]
    },
    {
     "data": {
      "image/png": "[encoded data removed]",
      "text/plain": [
       "<Figure size 432x288 with 1 Axes>"
      ]
     },
     "metadata": {
      "needs_background": "light"
     },
     "output_type": "display_data"
    }
   ],
   "source": [
    "predictor = LinearRegression(regularizer={\"reg_type\": \"L2\", \"reg_strength\": reg_strength}, optimizer = \"SGD\")\n",
    "predictor.training(X, y, step_size = stepsize_for_SGD, decay=0.7, tolerance = 10**-7)\n",
    "predictor.plot_loss()"
   ]
  },
  {
   "cell_type": "code",
   "execution_count": 7,
   "metadata": {},
   "outputs": [
    {
     "name": "stdout",
     "output_type": "stream",
     "text": [
      "After 12 iterations converges.\n"
     ]
    },
    {
     "data": {
      "image/png": "[encoded data removed]",
      "text/plain": [
       "<Figure size 432x288 with 1 Axes>"
      ]
     },
     "metadata": {
      "needs_background": "light"
     },
     "output_type": "display_data"
    }
   ],
   "source": [
    "reg_strength = 0.1\n",
    "predictor = LinearRegression(regularizer={\"reg_type\": \"L1\", \"reg_strength\": reg_strength}, optimizer = \"Proximal\")\n",
    "predictor.training(X, y, step_size = stepsize_for_Proximal, decay=1, tolerance = 10**-3)\n",
    "predictor.plot_loss()"
   ]
  },
  {
   "cell_type": "code",
   "execution_count": 8,
   "metadata": {},
   "outputs": [
    {
     "name": "stdout",
     "output_type": "stream",
     "text": [
      "After 36 iterations converges.\n",
      "After 68 iterations converges.\n",
      "After 96 iterations converges.\n",
      "After 121 iterations converges.\n",
      "After 142 iterations converges.\n",
      "After 158 iterations converges.\n",
      "After 170 iterations converges.\n",
      "After 178 iterations converges.\n",
      "After 180 iterations converges.\n",
      "After 181 iterations converges.\n"
     ]
    },
    {
     "data": {
      "image/png": "[encoded data removed]",
      "text/plain": [
       "<Figure size 432x288 with 1 Axes>"
      ]
     },
     "metadata": {
      "needs_background": "light"
     },
     "output_type": "display_data"
    }
   ],
   "source": [
    "predictor = LinearRegression(regularizer={\"reg_type\": \"L1\", \"reg_strength\": reg_strength}, optimizer = \"Proximal\")\n",
    "predictor.plot_trace(X, y, step_size = 0.01, reg_coef = np.linspace(0,0.01,10))"
   ]
  }
 ],
 "metadata": {
  "kernelspec": {
   "display_name": "Python 2",
   "language": "python",
   "name": "python2"
  },
  "language_info": {
   "codemirror_mode": {
    "name": "ipython",
    "version": 2
   },
   "file_extension": ".py",
   "mimetype": "text/x-python",
   "name": "python",
   "nbconvert_exporter": "python",
   "pygments_lexer": "ipython2",
   "version": "2.7.13"
  }
 },
 "nbformat": 4,
 "nbformat_minor": 2
}
