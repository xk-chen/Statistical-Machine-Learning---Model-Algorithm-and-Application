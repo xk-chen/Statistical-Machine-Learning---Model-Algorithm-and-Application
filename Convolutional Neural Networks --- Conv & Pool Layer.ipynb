{
 "cells": [
  {
   "cell_type": "code",
   "execution_count": 1,
   "metadata": {},
   "outputs": [],
   "source": [
    "import numpy as np\n",
    "import matplotlib.pyplot as plt"
   ]
  },
  {
   "cell_type": "code",
   "execution_count": 43,
   "metadata": {},
   "outputs": [],
   "source": [
    "class Conv_2d:\n",
    "    def __init__(self, kernel_size, num_filters, stride = 1, pad = 2):\n",
    "        self.filter_size = kernel_size\n",
    "        self.num_filters = num_filters\n",
    "        self.stride = stride\n",
    "        self.pad = pad\n",
    "        \n",
    "    def zero_pad(self, original_inputs, pad):\n",
    "        padded_inputs = np.pad(original_inputs, ((0, 0), (pad, pad), (pad, pad), (0, 0)), \"constant\", constant_values = 0)\n",
    "        return padded_inputs\n",
    "    \n",
    "    def forward_single_step(self, screened_area, weight, bias):\n",
    "        Z = np.sum(screened_area * weight) + bias\n",
    "        return Z\n",
    "    \n",
    "    def forward_propagation(self, inputs):\n",
    "        self.inputs = inputs\n",
    "        n, n_H_inputs, n_W_inputs, n_C_inputs = self.inputs.shape\n",
    "        self.Theta = np.random.randn(self.filter_size, self.filter_size, n_C_inputs, self.num_filters)\n",
    "        self.theta = np.random.randn(1, 1, 1, self.num_filters)\n",
    "        inputs_padding = self.zero_pad(self.inputs, self.pad)\n",
    "        \n",
    "        n_H = int((n_H_inputs + 2 * self.pad - self.filter_size) * 1.0 / self.stride + 1)\n",
    "        n_W = int((n_W_inputs + 2 * self.pad - self.filter_size) * 1.0 / self.stride + 1)\n",
    "        self.Z = np.zeros((n, n_H, n_W, self.num_filters))\n",
    "        \n",
    "        for i in range(n):\n",
    "            for h in range(n_H):\n",
    "                for w in range(n_W):\n",
    "                    for c in range(self.num_filters):\n",
    "                        h_start = h * self.stride\n",
    "                        h_end = h * self.stride + self.filter_size\n",
    "                        w_start = w * self.stride\n",
    "                        w_end = w * self.stride + self.filter_size\n",
    "                        screened_area = inputs_padding[i, h_start: h_end, w_start: w_end]\n",
    "                        self.Z[i, h, w, c] = self.forward_single_step(screened_area, self.Theta[:, :, :, c], self.theta[:, :, :, c])\n",
    "    \n",
    "    def backward_propagation(self, dZ):\n",
    "        "
   ]
  },
  {
   "cell_type": "code",
   "execution_count": 48,
   "metadata": {},
   "outputs": [],
   "source": [
    "class Pool_2d:\n",
    "    \n",
    "    def __init__(self, kernel_size, stride = 1, pooling_mode = \"max\"):\n",
    "        self.filter_size = kernel_size\n",
    "        self.stride = stride\n",
    "        assert pooling_mode in [\"max\", \"mean\"], \"Invalid pooling mode\"\n",
    "        self.pooling_mode = pooling_mode\n",
    "        \n",
    "    def forward_propagation(self, inputs):\n",
    "        self.inputs = inputs\n",
    "        n, n_H_inputs, n_W_inputs, n_C_inputs = self.inputs.shape\n",
    "        \n",
    "        n_H = int((n_H_inputs - self.filter_size) * 1.0 / self.stride + 1)\n",
    "        n_W = int((n_W_inputs - self.filter_size) * 1.0 / self.stride + 1)\n",
    "        n_C = n_C_inputs\n",
    "        \n",
    "        self.Z = np.zeros((n, n_H, n_W, n_C))\n",
    "        for i in range(n):\n",
    "            for h in range(n_H):\n",
    "                for w in range(n_W):\n",
    "                    for c in range(n_C):\n",
    "                        h_start = h * self.stride\n",
    "                        h_end = h * self.stride + self.filter_size\n",
    "                        w_start = w * self.stride\n",
    "                        w_end = w * self.stride + self.filter_size\n",
    "                        screened_area = self.inputs[i, h_start: h_end, w_start: w_end, c]\n",
    "                        if self.pooling_mode == \"max\":\n",
    "                            self.Z[i, h, w, c] = np.max(screened_area)\n",
    "                        else:\n",
    "                            self.Z[i, h, w, c] = np.mean(screened_area)\n",
    "        return self.Z"
   ]
  }
 ],
 "metadata": {
  "kernelspec": {
   "display_name": "Python 2",
   "language": "python",
   "name": "python2"
  },
  "language_info": {
   "codemirror_mode": {
    "name": "ipython",
    "version": 2
   },
   "file_extension": ".py",
   "mimetype": "text/x-python",
   "name": "python",
   "nbconvert_exporter": "python",
   "pygments_lexer": "ipython2",
   "version": "2.7.13"
  },
  "latex_envs": {
   "LaTeX_envs_menu_present": true,
   "autoclose": false,
   "autocomplete": true,
   "bibliofile": "biblio.bib",
   "cite_by": "apalike",
   "current_citInitial": 1,
   "eqLabelWithNumbers": true,
   "eqNumInitial": 1,
   "hotkeys": {
    "equation": "Ctrl-E",
    "itemize": "Ctrl-I"
   },
   "labels_anchors": false,
   "latex_user_defs": false,
   "report_style_numbering": false,
   "user_envs_cfg": false
  }
 },
 "nbformat": 4,
 "nbformat_minor": 2
}
