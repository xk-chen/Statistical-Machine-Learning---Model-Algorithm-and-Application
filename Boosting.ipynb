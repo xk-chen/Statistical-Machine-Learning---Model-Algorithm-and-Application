{
 "cells": [
  {
   "cell_type": "markdown",
   "metadata": {
    "collapsed": true
   },
   "source": [
    "## AdaBoost Algorithm"
   ]
  },
  {
   "cell_type": "markdown",
   "metadata": {
    "collapsed": true
   },
   "source": [
    "INPUT:\n",
    "\n",
    "1. $m$ examples $\\mathbb{S} = \\{(x_1,y_1),\\cdots,(x_m,y_m)\\}$\n",
    "\n",
    "2. Base learner $h(x)$\n",
    "\n",
    "INITIALIZE:\n",
    "\n",
    "Weights $w_i = \\frac{1}{m}$\n",
    "\n",
    "FOR $t$ in $1:T$:\n",
    "\n",
    "   1.Train weighted examples set $(w_t,x)$ to obtain $h_t$\n",
    "   \n",
    "   2.Compute error $\\epsilon_t$\n",
    "   \n",
    "   3.Compute classifier weights $\\alpha_t$\n",
    "   \n",
    "   4.Update $w_{t+1}$\n",
    "    \n",
    "OUTPUT:\n",
    "\n",
    "$H(x) = sign(\\sum_t^T\\alpha_th_t(x))$"
   ]
  },
  {
   "cell_type": "markdown",
   "metadata": {},
   "source": [
    "## Derive"
   ]
  },
  {
   "cell_type": "markdown",
   "metadata": {},
   "source": [
    "Assume final classifier $H(x)=sign(\\sum_t^T\\alpha_th_t(x))$\n",
    "\n",
    "\\begin{align*}\n",
    "err_\\mathbb{S}(H) &\\equiv \\mathbb{P}_{\\mathbb{S}}(y\\not = H(x))\\\\\n",
    "                  &= \\frac{1}{m}\\sum_{i=1}^m\\mathbb{I}\\{y_i\\not = H(x_i)\\}\\\\\n",
    "                  &\\leq \\frac{1}{m}\\sum_{i=1}^me^{-y_iH(x_i)}\\\\\n",
    "                  &=\\sum_{i=1}^m\\frac{1}{m}e^{-y_i\\sum_{t=1}^T\\alpha_th_t(x_i)}\\\\\n",
    "                  &=Z_1\\sum_{i=1}^m\\frac{1}{m}e^{-y_i\\alpha_1h_1(x_i)}e^{-y_i\\sum_{t=2}^T\\alpha_th_t(x_i)}\\\\\n",
    "\\end{align*}\n",
    "\n",
    "Let $w_i^1=\\frac{1}{m}$, $w_i^2=\\frac{\\frac{1}{m}e^{-y_i\\alpha_1h_1(x_i)}}{\\sum_{i=1}^m\\frac{1}{m}e^{-y_i\\alpha_1h_1(x_i)}}$\n",
    "\n",
    "$Z_1=\\sum_{i=1}^m\\frac{1}{m}e^{-y_i\\alpha_1h_1(x_i)}$\n",
    "\n",
    "\\begin{align*}\n",
    "err_\\mathbb{S}(H) &\\leq \\sum_{i=1}^mw_i^2e^{-y_i\\alpha_2h_2(x_i)}e^{-y_i\\sum_{t=3}^T\\alpha_th_t(x_i)}\\\\\n",
    "                  &= Z_1Z_2\\sum_{i=1}^m\\frac{w_i^2e^{-y_i\\alpha_2h_2(x_i)}}{Z_2}e^{-y_i\\sum_{t=3}^T\\alpha_th_t(x_i)}\\\\\n",
    "\\end{align*}\n",
    "\n",
    "Where $Z_2=\\sum_{i=1}^mw_i^2e^{-y_i\\alpha_2h_2(x_i)}$, and \n",
    "\n",
    "Let $w_i^3=\\frac{w_i^2e^{-y_i\\alpha_2h_2(x_i)}}{Z_2}$\n",
    "\n",
    "$$\\cdots \\cdots$$\n",
    "\n",
    "\\begin{align*}\n",
    "err_\\mathbb{S}(H)&\\leq \\prod_{t=1}^T Z_t \\sum_{i=1}^m w_i^{T+1}\\\\\n",
    "                  &= \\prod_{t=1}^TZ_t\\\\\n",
    "                  &=\\prod_{t=1}^T\\sum_{i=1}^mw_i^te^{-y_i\\alpha_th_t(x_i)}\\\\\n",
    "                  &=\\prod_{t=1}^T(\\sum_{i\\in C}w_i^te^{-\\alpha_t}+\\sum_{i\\in M}w_i^te^{\\alpha_t})\\\\\n",
    "                  &=\\prod_{t=1}^T((1-\\epsilon_t)e^{-\\alpha_t}+\\epsilon_te^{\\alpha_t})\n",
    "\\end{align*}\n",
    "\n",
    "Notice that $\\epsilon_t=\\mathbb{P}_{w^t}(y\\not=h_t(x))=\\sum_{i\\in M}w_i^t$\n",
    "\n",
    "We need to minimize the upper bound.\n",
    "\n",
    "$$g(\\alpha_t)=(1-\\epsilon_t)e^{-\\alpha_t}+\\epsilon_te^{\\alpha_t}$$\n",
    "\n",
    "$$g^\\prime(\\alpha_t)=-(1-\\epsilon_t)e^{-\\alpha_t}+\\epsilon_te^{\\alpha_t}$$\n",
    "\n",
    "Set $g^\\prime(\\alpha_t)=0$:\n",
    "\n",
    "$$\\alpha_t = \\frac{1}{2}\\log\\frac{1-\\epsilon_t}{\\epsilon_t}$$\n",
    "\n",
    "\\begin{align*}\n",
    "err_\\mathbb{S}(H)&\\leq \\prod_{t=1}^T2\\sqrt{\\epsilon_t(1-\\epsilon_t)}\\\\\n",
    "                 &=\\prod_{t=1}^T2\\sqrt{1-4\\gamma_t^2}\\\\\n",
    "                 &\\leq \\prod_{t=1}^T e^{-2\\gamma_t}\\\\\n",
    "                 &=e^{-2\\sum_{t=1}^T\\gamma_t}\n",
    "\\end{align*}\n",
    "\n",
    "Where $\\epsilon_t=\\frac{1}{2}-\\gamma_t$, and we have the identity:\n",
    "\n",
    "$$1-x\\leq e^{-x}$$\n",
    "\n",
    "Let $\\gamma = \\min_t \\gamma_t$,\n",
    "\n",
    "\n",
    "$$err_\\mathbb{S}(H)\\leq e^{-2T\\gamma^2}$$\n",
    "\n",
    "For now, we bound $err_\\mathbb{S}(H)$, and the minimum number of iterations for $\\epsilon$-error is:\n",
    "\n",
    "$$T=\\frac{1}{2\\gamma^2}\\log{\\frac{1}{\\epsilon}}$$\n",
    "\n",
    "i.e. $T = \\mathcal{O}(\\frac{1}{\\gamma^2}\\log{\\frac{1}{\\epsilon}})$ with big O notation."
   ]
  },
  {
   "cell_type": "code",
   "execution_count": 1,
   "metadata": {
    "collapsed": true
   },
   "outputs": [],
   "source": [
    "import numpy as np\n",
    "import matplotlib.pyplot as plt\n",
    "%matplotlib inline"
   ]
  },
  {
   "cell_type": "code",
   "execution_count": 2,
   "metadata": {
    "collapsed": true
   },
   "outputs": [],
   "source": [
    "class base:\n",
    "    def __init__(self,X,y):\n",
    "        self.X = X\n",
    "        self.y = y\n",
    "    # Given a feature, a rule \"mode\" = \">\" or \"<\", if X['feature'] \"mode\" threshold return -1 class\n",
    "    def decision_stump(self,mode,feature,threshold):\n",
    "        ret = np.ones(np.array(self.y).shape).flatten()\n",
    "        if mode == \"<\":\n",
    "            ret[self.X[:,feature] <= threshold] = -1.0\n",
    "        else:\n",
    "            ret[self.X[:,feature] >= threshold] = -1.0\n",
    "        return ret\n",
    "    def find_optimal_classifier(self,w,steps = 10):\n",
    "        min_error = np.inf\n",
    "        #obs: num of samples, feature: num of features\n",
    "        obs,feature = self.X.shape\n",
    "        optimal_classifier = {}\n",
    "        optimal_predict = np.zeros(obs)\n",
    "        #loop over all features to find the optimal feature & threshold\n",
    "        for d in range(feature):\n",
    "            feat_min = self.X[:,d].min()\n",
    "            feat_max = self.X[:,d].max()\n",
    "            step_size = (feat_max - feat_min)/float(steps)\n",
    "            for step in range(int(steps) + 1):\n",
    "                for mode in [\"<\",\">\"]:\n",
    "                    threshold = feat_min + float(step) * step_size\n",
    "                    predict_value = self.decision_stump(mode,d,threshold)\n",
    "                    rate = np.ones(obs)\n",
    "                    rate[predict_value == self.y] = 0\n",
    "                    weight_rate = np.dot(w.T, rate)\n",
    "                    if weight_rate < min_error:\n",
    "                        min_error = weight_rate\n",
    "                        optimal_classifier[\"feature\"] = d\n",
    "                        optimal_classifier[\"threshold\"] = threshold\n",
    "                        optimal_classifier[\"mode\"] = mode\n",
    "                        optimal_predict = predict_value.copy()\n",
    "        return optimal_classifier,optimal_predict,min_error"
   ]
  },
  {
   "cell_type": "code",
   "execution_count": 3,
   "metadata": {
    "collapsed": true
   },
   "outputs": [],
   "source": [
    "class AdaBoost:\n",
    "    def __init__(self,X,y,base):\n",
    "        self.X = np.array(X)\n",
    "        self.y = np.array(y)\n",
    "        self.base = base       \n",
    "    def train(self,T):\n",
    "        #alpha[i]: the weight of the i-th classifier\n",
    "        #boost: collection of weak classifier\n",
    "        #w: the weight of each point\n",
    "        #sign(f): the combination of previous classifiers for now\n",
    "        #f_error: the error rate of current classifier\n",
    "        self.alpha = []\n",
    "        self.h = {}    \n",
    "        self.boost = []\n",
    "        self.w = np.ones(self.y.shape[0])*1.0/len(y)       \n",
    "        self.f = np.zeros(self.y.shape)        \n",
    "        self.f_error = np.inf\n",
    "        error_list = []\n",
    "        for t in range(T):\n",
    "            self.h[t] = self.base(self.X,self.y)\n",
    "            classifier,predict,error = self.h[t].find_optimal_classifier(self.w)\n",
    "            self.boost.append(classifier)\n",
    "            self.alpha.append(0.5 * np.log((1.0-error)/error))# Add Laplacian smooth\n",
    "            self.f = self.f + self.alpha[t] * predict\n",
    "            self.f_error = np.dot((np.sign(self.f) != self.y),np.ones(self.y.shape[0]))/float(self.y.shape[0])\n",
    "            error_list.append(self.f_error)\n",
    "            if self.f_error == 0:\n",
    "                break\n",
    "            w_next = self.w * np.exp(-self.alpha[t]*self.y*predict)\n",
    "            self.w = (w_next/w_next.sum())\n",
    "        return self.boost,error_list\n",
    "    #flag: single input for 0, multi-input for 1\n",
    "    def classifier(self,x,flag = 1):\n",
    "        if flag == 0:\n",
    "            x = x[np.newaxis]\n",
    "        base_result = np.zeros(x.shape[0])\n",
    "        for i in range(len(self.boost)):\n",
    "            label = np.ones(x.shape[0])\n",
    "            if self.boost[i]['mode'] == '>':\n",
    "                label[np.where(x[:,self.boost[i]['feature']] >= self.boost[i]['threshold'])] = -1\n",
    "            else:\n",
    "                label[np.where(x[:,self.boost[i]['feature']] <= self.boost[i]['threshold'])] = -1\n",
    "            base_result += base_result + self.alpha[i] * label\n",
    "        return np.sign(base_result)"
   ]
  },
  {
   "cell_type": "code",
   "execution_count": 4,
   "metadata": {
    "collapsed": true
   },
   "outputs": [],
   "source": [
    "X = np.array([[1,2],[2,3],[3,4],[3,2],[3,1],[4,4],[5,4],[5,2],[5,1]])\n",
    "y = np.array([1,1,-1,-1,-1,-1,-1,1,1]) "
   ]
  },
  {
   "cell_type": "code",
   "execution_count": 5,
   "metadata": {
    "collapsed": true
   },
   "outputs": [],
   "source": [
    "adaboost = AdaBoost(X,y,base)"
   ]
  },
  {
   "cell_type": "code",
   "execution_count": 6,
   "metadata": {},
   "outputs": [
    {
     "data": {
      "text/plain": [
       "([{'feature': 0, 'mode': '>', 'threshold': 2.2000000000000002},\n",
       "  {'feature': 1, 'mode': '>', 'threshold': 3.1000000000000001},\n",
       "  {'feature': 0, 'mode': '<', 'threshold': 4.2000000000000002}],\n",
       " 0.0)"
      ]
     },
     "execution_count": 6,
     "metadata": {},
     "output_type": "execute_result"
    }
   ],
   "source": [
    "adaboost.train(5)"
   ]
  },
  {
   "cell_type": "code",
   "execution_count": 7,
   "metadata": {},
   "outputs": [
    {
     "data": {
      "text/plain": [
       "[0.62638148424768403, 0.89587973461402748, 0.97295507452765662]"
      ]
     },
     "execution_count": 7,
     "metadata": {},
     "output_type": "execute_result"
    }
   ],
   "source": [
    "adaboost.alpha"
   ]
  },
  {
   "cell_type": "code",
   "execution_count": 8,
   "metadata": {},
   "outputs": [
    {
     "data": {
      "text/plain": [
       "(0.5, 5.5)"
      ]
     },
     "execution_count": 8,
     "metadata": {},
     "output_type": "execute_result"
    },
    {
     "data": {
      "image/png": "[encoded data removed]",
      "text/plain": [
       "<matplotlib.figure.Figure at 0xbe807b8>"
      ]
     },
     "metadata": {},
     "output_type": "display_data"
    }
   ],
   "source": [
    "d = {1:'r',-1:'b'}\n",
    "l = []\n",
    "for i in y:\n",
    "    l.append(d[i])\n",
    "plt.scatter(X[:,0],X[:,1],color=l)\n",
    "plt.vlines(2.2,0.5,4.5)\n",
    "plt.hlines(3.1,0.5,5.5)\n",
    "plt.vlines(4.2,0.5,4.5)\n",
    "plt.ylim(0.5,4.5)\n",
    "plt.xlim(0.5,5.5)"
   ]
  },
  {
   "cell_type": "code",
   "execution_count": 9,
   "metadata": {},
   "outputs": [
    {
     "data": {
      "text/plain": [
       "array([ 1.])"
      ]
     },
     "execution_count": 9,
     "metadata": {},
     "output_type": "execute_result"
    }
   ],
   "source": [
    "adaboost.classifier(np.array([1,1]),flag=0)"
   ]
  }
 ],
 "metadata": {
  "kernelspec": {
   "display_name": "Python 2",
   "language": "python",
   "name": "python2"
  },
  "language_info": {
   "codemirror_mode": {
    "name": "ipython",
    "version": 2
   },
   "file_extension": ".py",
   "mimetype": "text/x-python",
   "name": "python",
   "nbconvert_exporter": "python",
   "pygments_lexer": "ipython2",
   "version": "2.7.13"
  },
  "latex_envs": {
   "LaTeX_envs_menu_present": true,
   "autocomplete": true,
   "bibliofile": "biblio.bib",
   "cite_by": "apalike",
   "current_citInitial": 1,
   "eqLabelWithNumbers": true,
   "eqNumInitial": 1,
   "hotkeys": {
    "equation": "Ctrl-E",
    "itemize": "Ctrl-I"
   },
   "labels_anchors": false,
   "latex_user_defs": false,
   "report_style_numbering": false,
   "user_envs_cfg": false
  },
  "toc": {
   "colors": {
    "hover_highlight": "#DAA520",
    "running_highlight": "#FF0000",
    "selected_highlight": "#FFD700"
   },
   "moveMenuLeft": true,
   "nav_menu": {
    "height": "12px",
    "width": "252px"
   },
   "navigate_menu": true,
   "number_sections": true,
   "sideBar": true,
   "threshold": 4,
   "toc_cell": false,
   "toc_section_display": "block",
   "toc_window_display": false,
   "widenNotebook": false
  }
 },
 "nbformat": 4,
 "nbformat_minor": 2
}
