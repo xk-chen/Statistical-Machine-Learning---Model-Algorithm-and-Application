{
 "cells": [
  {
   "cell_type": "markdown",
   "metadata": {
    "extensions": {
     "jupyter_dashboards": {
      "version": 1,
      "views": {
       "grid_default": {
        "col": 0,
        "height": 4,
        "hidden": false,
        "row": 0,
        "width": 4
       },
       "report_default": {
        "hidden": false
       }
      }
     }
    }
   },
   "source": [
    "## Gaussian Mixture Model"
   ]
  },
  {
   "cell_type": "markdown",
   "metadata": {
    "extensions": {
     "jupyter_dashboards": {
      "version": 1,
      "views": {
       "grid_default": {
        "col": 4,
        "height": 33,
        "hidden": false,
        "row": 0,
        "width": null
       },
       "report_default": {
        "hidden": false
       }
      }
     }
    }
   },
   "source": [
    "A complex density model $p(x)$ may be muiti-modal. However, we may be able to model it as a mixture of uni-modal distributions(e.g. Gaussians). And each mode may correspond to a different sub-population(e.g. male & female).\n",
    "\n",
    "Consider a mixture of $K$ components, component $i$ has associated parameters $\\theta_i$:\n",
    "\n",
    "$$p(x)=\\sum_{i=1}^Kp(x\\mid y=i)P(y=i)$$\n",
    "\n",
    "where $x$ is the observed data, $p(x\\mid y)$ is the mixture component, $P(y)$ is the mixture propotion.\n",
    "\n",
    "In this scenario, $p(x\\mid y=i)=\\mathcal{N}(\\mu_i,\\Sigma_i)$, $P(y=i)=\\pi_i$. And for simplicity, $\\Sigma_i = \\sigma^2\\mathbf{I}$.\n",
    "\n",
    "To learning the parameters of GMM, we use MLE:\n",
    "\n",
    "\\begin{align*}\n",
    "\\arg\\max_\\theta\\prod_{j=1}^nP(x_j\\mid \\theta) &= \\arg\\max_\\theta\\prod_{j=1}^n\\sum_{i=1}^KP(y_j=i,x_j\\mid \\theta)\\\\\n",
    "&=\\arg\\max_\\theta\\prod_{j=1}^n\\sum_{i=1}^KP(y_j=i\\mid \\theta)p(x_j\\mid y_j = i,\\theta)\\\\\n",
    "&=\\arg\\max_\\theta\\prod_{j=1}^n\\sum_{i=1}^K\\pi_i\\frac{1}{\\sqrt{2\\pi\\sigma^2}}\\exp{(-\\frac{\\|x_j-\\mu_i\\|^2}{2\\sigma^2}})\\\\\n",
    "\\end{align*}\n",
    "\n",
    "If we assume **Hard assignment**:\n",
    "\n",
    "$$P(y_i=i)=1\\text{ if } i = C(j) \\text{ otherwise } 0$$\n",
    "\n",
    "\\begin{align*}\n",
    "\\arg\\max_\\theta\\prod_{j=1}^nP(x_j\\mid \\theta)\n",
    "&=\\arg\\max_\\theta\\prod_{j=1}^n\\sum_{i=1}^K\\pi_i\\frac{1}{\\sqrt{2\\pi\\sigma^2}}\\exp{(-\\frac{\\|x_j-\\mu_i\\|^2}{2\\sigma^2}})\\\\\n",
    "&=\\arg\\max_\\theta\\prod_{j=1}^n\\exp{(-\\frac{\\|x_j-\\mu_{C(j)}\\|^2}{2\\sigma^2}})\\\\\n",
    "&=\\arg\\min_{\\mu,C}\\sum_{j=1}^n \\|x_j-\\mu_{C(j)}\\|^2\n",
    "\\end{align*}\n",
    "\n",
    "It is equal to K-means algorithm!!!\n",
    "\n",
    "Then we assume general $\\Sigma_i$, the objective is:\n",
    "\n",
    "$$\\arg\\max_\\theta\\prod_{j=1}^n\\sum_{i=1}^K\\pi_i\\frac{1}{\\sqrt{|{2\\pi\\Sigma_i}|}}\\exp{\\big[-\\frac{(x_j-\\mu_i)^T\\Sigma_i^{-1}(x_j-\\mu_i)}{2}\\big]}$$\n",
    "\n",
    "We can set $\\frac{\\partial}{\\partial\\mu_i}\\log P(\\cdot)=0$, but our objective is non-linear, non-analytically solvable.\n",
    "\n",
    "How about gradient descent? Doable but often slow.\n",
    "\n",
    "**USE Expectation-Maximization Algorithm!!!**"
   ]
  },
  {
   "cell_type": "markdown",
   "metadata": {
    "extensions": {
     "jupyter_dashboards": {
      "version": 1,
      "views": {
       "grid_default": {
        "col": 0,
        "height": 4,
        "hidden": false,
        "row": 4,
        "width": 4
       },
       "report_default": {
        "hidden": false
       }
      }
     }
    }
   },
   "source": [
    "## Expectation-Maximization Algorithm"
   ]
  },
  {
   "cell_type": "markdown",
   "metadata": {
    "extensions": {
     "jupyter_dashboards": {
      "version": 1,
      "views": {
       "grid_default": {
        "col": 0,
        "height": 52,
        "hidden": false,
        "row": 33,
        "width": null
       },
       "report_default": {
        "hidden": false
       }
      }
     }
    }
   },
   "source": [
    "EM algorithm is a general algorithm to deal with hidden data, and is an optimization strategy for objective functions that can be interpreted as likelihiids in the presence of missing data.\n",
    "\n",
    "E-step: fill-in hidden values using inference\n",
    "\n",
    "M-step: apply standard MLE/MAP method to completed data\n",
    "\n",
    "Let likelihood function be $\\mathcal{L}(D\\mid\\theta)$, and the hidden variable is $y$, it holds that\n",
    "\n",
    "\\begin{align*}\n",
    "\\mathcal{L}(D\\mid\\theta) &\\equiv P(D\\mid\\theta)\\\\\n",
    "&=\\int P(D,y\\mid\\theta)dy\\\\\n",
    "&=\\int Q(y)\\frac{P(D,y\\mid\\theta)}{Q(y)}dy\\\\\n",
    "\\end{align*}\n",
    "\n",
    "Take log-likelihood, $\\forall \\theta,Q(y)$, by Jensen's inequality $\\mathbb{E}\\log(x)\\leq \\log{\\mathbb{E}x}$ we have\n",
    "\n",
    "\\begin{align*}\n",
    "\\ell(D\\mid\\theta)&=\\log{\\int Q(y)\\frac{P(D,y\\mid\\theta)}{Q(y)}}dy\\\\\n",
    "&\\geq\\int Q(y)\\log{\\frac{P(D,y\\mid\\theta)}{Q(y)}}dy\\\\\n",
    "&\\equiv F(Q,\\theta)\\\\\n",
    "\\end{align*}\n",
    "\n",
    "where $F(\\cdot)$ is called **Free Energy**. \n",
    "\n",
    "To maximize the log-likelihood, it is enough to maximize free energy.\n",
    "\n",
    "Re-write algorithm at iterative step $t$:\n",
    "\n",
    "E-step:\n",
    "\n",
    "$$Q^{t+1}(y)=\\arg\\max_QF(Q,\\theta^t)$$\n",
    "\n",
    "M-step:\n",
    "\n",
    "$$\\theta^{t+1}=\\arg\\max_\\theta F(Q^{t+1},\\theta)$$\n",
    "\n",
    "It is natural to hope a tight lower bound for log-likelihood, so at E-step, we would like $Q(y)$ maximize free energy, i.e. a proper $Q(y)$ should let the \"$=$\" hold in Jensen's inequality. Hence \n",
    "\n",
    "$$Q(y)\\propto P(D,y\\mid \\theta)$$\n",
    "\n",
    "so that $\\frac{P(D,y\\mid \\theta)}{Q(y)}=c$. Meanwhile, $\\int Q(y)dy=1$, therefore let\n",
    "\n",
    "$$Q(y)=P(y\\mid D,\\theta)$$\n",
    "\n",
    "And the posterior $P(y\\mid D,\\theta)$ maximize the target over all distributions over $y$, i.e. E-step constructs the lower bound. In fact, it can be shown that\n",
    "\n",
    "$$\\ell(D\\mid\\theta)=F(Q,\\theta) + \\text{KL}(Q(y)\\|P(y\\mid D,\\theta))$$\n",
    "\n",
    "where $\\text{KL}(Q(y)\\|P(y\\mid D,\\theta))\\equiv\\int Q(y)\\log{\\frac{Q(y)}{P(y\\mid D,\\theta)}}dy\\geq 0$. Note that if the posterior is inaccessible for us, it is popular using variational method to approximate $Q(y)$ or simulation such as MCMC.\n",
    "\n",
    "Let us begin at time $t$, at M-step:\n",
    "\n",
    "\\begin{align*}\n",
    "F(Q,\\theta) &= \\int Q(y)\\log{\\frac{P(D,y\\mid \\theta)}{Q(y)}}\\\\\n",
    "&= \\int Q(y)\\log{P(D,y\\mid \\theta)}dy - \\int Q(y)\\log{Q(y)}dy\\\\\n",
    "&= \\int Q(y)\\log{P(D,y\\mid \\theta)}dy + H_Q\\\\\n",
    "\\end{align*}\n",
    "\n",
    "where $H_Q\\equiv - \\int Q(y)\\log{Q(y)}dy$ is the **Entropy**, it is independent with $\\theta$ for we compute $Q(y)$ using previous $\\theta$. Therefore in M-step, we should do\n",
    "\n",
    "$$\\arg\\max_\\theta \\int Q(y)\\log{P(D,y\\mid \\theta)}dy$$\n",
    "\n",
    "\\begin{theorem}\n",
    "\n",
    "During the EM algorithm the marginal likelihood is not decreasing.\n",
    "\n",
    "$$\\mathcal{L}(D\\mid\\theta^t)\\leq \\mathcal{L}(D\\mid\\theta^{t+1})$$\n",
    "\n",
    "\\end{theorem}\n",
    "\n",
    "\\begin{proof}\n",
    "\n",
    "\\begin{align*}\n",
    "\\mathcal{L}(D\\mid\\theta^{t+1})&\\geq \\int P(y\\mid D,\\theta^t)\\log{\\frac{P(y,D\\mid\\theta^{t+1})}{P(y\\mid D,\\theta^t)}} dy\\\\\n",
    "&\\geq \\int P(y\\mid D,\\theta^t)\\log{\\frac{P(y,D\\mid\\theta^{t})}{P(y\\mid D,\\theta^t)}} dy\\\\\n",
    "&=\\mathcal{L}(D\\mid\\theta^{t})\n",
    "\\end{align*}\n",
    "\n",
    "\\end{proof}"
   ]
  },
  {
   "cell_type": "markdown",
   "metadata": {
    "extensions": {
     "jupyter_dashboards": {
      "version": 1,
      "views": {
       "grid_default": {
        "col": 0,
        "height": 4,
        "hidden": false,
        "row": 8,
        "width": 4
       },
       "report_default": {
        "hidden": false
       }
      }
     }
    }
   },
   "source": [
    "## GMM Derivation"
   ]
  },
  {
   "cell_type": "markdown",
   "metadata": {
    "extensions": {
     "jupyter_dashboards": {
      "version": 1,
      "views": {
       "grid_default": {
        "col": 0,
        "height": 29,
        "hidden": false,
        "row": 85,
        "width": null
       },
       "report_default": {
        "hidden": false
       }
      }
     }
    }
   },
   "source": [
    "We have objective\n",
    "\n",
    "$$\\arg\\max_\\theta\\prod_{j=1}^n\\sum_{i=1}^K\\pi_i\\frac{1}{\\sqrt{|{2\\pi\\Sigma_i}|}}\\exp{\\big[-\\frac{(x_j-\\mu_i)^T\\Sigma_i^{-1}(x_j-\\mu_i)}{2}\\big]}$$\n",
    "\n",
    "According to the theory, the objective can be\n",
    "\n",
    "\\begin{align*}\n",
    "\\int Q(y)\\log{P(D,y\\mid \\theta^t)}dy&=\\sum_{j=1}^n\\sum_{i=1}^KP(y_j=i\\mid x_j,\\theta^{t-1})\\log{P(x_j,y_j=i\\mid\\theta^t)}\\\\\n",
    "&= \\sum_{j=1}^n\\sum_{i=1}^KP(y_j=i\\mid x_j,\\theta^{t-1})[\\log{P(x_j\\mid y_j=i,\\theta^t)}+\\log{P(y_j=i\\mid\\theta^t)}]\\\\\n",
    "&\\propto\\sum_{j=1}^n\\sum_{i=1}^KP(y_j=i\\mid x_j,\\theta^{t-1})-\\big[\\frac{(x_j-\\mu_i)^T\\Sigma_i^{-1}(x_j-\\mu_i)}{2}\\big]+\\log{\\pi_i}\\\\\n",
    "\\end{align*}\n",
    "\n",
    "where $\\theta^t=[\\mu_1^t,\\dots,\\mu_K^t,\\pi_1^t,\\dots,\\pi_K^t,\\Sigma_1^t,\\dots,\\Sigma_K^t]$.\n",
    "\n",
    "E-step:\n",
    "\n",
    "$$R_{i,j}^{t-1}\\equiv P(y_j=i\\mid x_j,\\theta^{t-1})=\\frac{\\mathcal{N}(x_j\\mid\\mu_i^{t-1},\\sigma_i^{t-1})\\pi_i}{\\sum_{i=1}^K\\mathcal{N}(x_j\\mid\\mu_i^{t-1},\\sigma_i^{t-1})\\pi_i}$$\n",
    "\n",
    "M-step:\n",
    "\n",
    "Set $\\frac{\\partial}{\\partial\\theta^t}\\int Q(y)\\log{P(D,y\\mid \\theta^t)}dy=0$\n",
    "\n",
    "We have\n",
    "\n",
    "$$\\mu_j^t=\\sum_{j=1}^nw_jx_j$$\n",
    "\n",
    "where $w_j=\\frac{R_{i,j}^{t-1}}{\\sum_{j=1}^nR_{i,j}^{t-1}}$.\n",
    "\n",
    "$$\\Sigma_i^t=\\sum_{j=1}^nw_j(x_j-\\mu_i^t)(x_j-\\mu_i^t)^T$$\n",
    "\n",
    "$$\\pi_i^t=\\frac{1}{n}\\sum_{j=1}^nR_{i,j}^{t-1}$$\n"
   ]
  },
  {
   "cell_type": "code",
   "execution_count": 1,
   "metadata": {
    "collapsed": true,
    "extensions": {
     "jupyter_dashboards": {
      "version": 1,
      "views": {
       "grid_default": {
        "col": 0,
        "height": 4,
        "hidden": false,
        "row": 12,
        "width": 4
       },
       "report_default": {
        "hidden": true
       }
      }
     }
    }
   },
   "outputs": [],
   "source": [
    "import numpy as np\n",
    "import matplotlib.pyplot as plt\n",
    "%matplotlib inline"
   ]
  },
  {
   "cell_type": "code",
   "execution_count": 2,
   "metadata": {
    "collapsed": true,
    "extensions": {
     "jupyter_dashboards": {
      "version": 1,
      "views": {
       "grid_default": {
        "col": 0,
        "height": 4,
        "hidden": false,
        "row": 16,
        "width": 4
       },
       "report_default": {
        "hidden": true
       }
      }
     }
    }
   },
   "outputs": [],
   "source": [
    "class GMM:\n",
    "    \n",
    "    def __init__(self, X):\n",
    "        self.X = X\n",
    "        # the number of observations of training set\n",
    "        self.len = len(self.X)\n",
    "        self.feature = self.X.shape[-1]\n",
    "\n",
    "    def initialize(self, n):\n",
    "        self.n = n\n",
    "        self.pi = 1.0 * np.ones(self.n) / self.n\n",
    "        # initial guess of parameters\n",
    "        self.mu= np.zeros((self.n, self.feature))\n",
    "        self.Sigma = np.zeros((self.n, self.feature, self.feature))\n",
    "        for i in range(self.n):\n",
    "            self.mu[i] = np.random.uniform(self.X.min(axis = 0), self.X.max(axis = 0))\n",
    "            self.Sigma[i] = np.eye(self.feature)\n",
    "        return \"Successfully initialize\"\n",
    "    \n",
    "    def Gaussian(self, target, mu, Sigma):\n",
    "        prob = np.zeros(self.n)\n",
    "        coef = np.zeros(self.n)\n",
    "        exponent = np.zeros(self.n)\n",
    "        for i in range(self.n):\n",
    "            # adding Laplace smooth to avoid sigular matrix\n",
    "            det = np.linalg.det(Sigma[i] + np.eye(len(mu[i])) * 0.01)\n",
    "            inv = np.linalg.inv(Sigma[i] + np.eye(len(mu[i])) * 0.01)\n",
    "            mx = target - mu[i]\n",
    "            coef[i] = 1.0 / np.sqrt((2 * np.pi) ** self.feature * det)\n",
    "            exponent[i] = -0.5 * np.dot(np.dot(mx, inv),mx)\n",
    "        # avoid underflow\n",
    "        exponent = exponent - np.min(exponent)\n",
    "        prob = coef * np.exp(exponent)\n",
    "        return prob\n",
    "        \n",
    "    def training(self, maxCycle = 50):\n",
    "        self.R = np.zeros((self.len, self.n))\n",
    "        for t in range(maxCycle):\n",
    "            # E-step\n",
    "            for obs in range(self.len):\n",
    "                # likelihood\n",
    "                temp = self.Gaussian(self.X[obs], self.mu, self.Sigma) * self.pi\n",
    "                self.R[obs] = temp / np.sum(temp)\n",
    "            if np.any(np.isnan(self.R) == True):\n",
    "                return \"Numerical flawness\"\n",
    "            # M-step\n",
    "            normalizer = np.sum(self.R, axis = 0)\n",
    "            self.pi = 1.0 / self.len * normalizer\n",
    "            w = 1.0 * self.R / normalizer\n",
    "            self.mu = np.dot(w.T, self.X)\n",
    "            for i in range(self.n):\n",
    "                mx = self.X - self.mu[i]\n",
    "                self.Sigma[i] = np.dot(np.dot(mx.T, np.diag(w[:, i])), mx)\n",
    "        return \"Training successfully\"\n",
    "    \n",
    "    def predicting(self, x):\n",
    "        prob = self.Gaussian(x, self.mu, self.Sigma)\n",
    "        return np.argmax(prob)"
   ]
  },
  {
   "cell_type": "code",
   "execution_count": 3,
   "metadata": {
    "collapsed": true,
    "extensions": {
     "jupyter_dashboards": {
      "version": 1,
      "views": {
       "grid_default": {
        "col": 0,
        "height": 4,
        "hidden": false,
        "row": 20,
        "width": 4
       },
       "report_default": {}
      }
     }
    }
   },
   "outputs": [],
   "source": [
    "m_1 = np.array([0,0])\n",
    "s_1 = np.eye(2)\n",
    "\n",
    "m_2 = np.array([16,16])\n",
    "s_2 = np.array([[2,0.5],[0.5,2]])\n",
    "\n",
    "m_3 = np.array([10,6])\n",
    "s_3 = np.array([[1,0.5],[0.5,1]])\n",
    "\n",
    "n = 20\n",
    "\n",
    "X = np.vstack((np.random.multivariate_normal(m_1,s_1, n), np.random.multivariate_normal(m_2,s_2, n), \\\n",
    "               np.random.multivariate_normal(m_3,s_3, n)))\n",
    "x = np.array([2, 2])"
   ]
  },
  {
   "cell_type": "code",
   "execution_count": 4,
   "metadata": {
    "extensions": {
     "jupyter_dashboards": {
      "version": 1,
      "views": {
       "grid_default": {
        "col": 0,
        "height": 4,
        "hidden": false,
        "row": 24,
        "width": 4
       },
       "report_default": {}
      }
     }
    }
   },
   "outputs": [
    {
     "data": {
      "text/plain": [
       "'Training successfully'"
      ]
     },
     "execution_count": 4,
     "metadata": {},
     "output_type": "execute_result"
    }
   ],
   "source": [
    "clu = GMM(X)\n",
    "clu.initialize(3)\n",
    "clu.training(50)"
   ]
  },
  {
   "cell_type": "code",
   "execution_count": 5,
   "metadata": {
    "extensions": {
     "jupyter_dashboards": {
      "version": 1,
      "views": {
       "grid_default": {
        "col": 0,
        "height": 4,
        "hidden": false,
        "row": 28,
        "width": 4
       },
       "report_default": {}
      }
     }
    }
   },
   "outputs": [
    {
     "data": {
      "text/plain": [
       "array([[  9.92265609,   5.9900328 ],\n",
       "       [ 15.99831079,  15.59047583],\n",
       "       [ -0.33303331,   0.06873915]])"
      ]
     },
     "execution_count": 5,
     "metadata": {},
     "output_type": "execute_result"
    }
   ],
   "source": [
    "clu.mu"
   ]
  },
  {
   "cell_type": "code",
   "execution_count": 6,
   "metadata": {
    "extensions": {
     "jupyter_dashboards": {
      "version": 1,
      "views": {
       "grid_default": {
        "col": 0,
        "height": 6,
        "hidden": false,
        "row": 114,
        "width": 4
       },
       "report_default": {}
      }
     }
    }
   },
   "outputs": [
    {
     "data": {
      "text/plain": [
       "array([[[ 0.65334626,  0.57981413],\n",
       "        [ 0.57981413,  1.36024946]],\n",
       "\n",
       "       [[ 1.67096777,  0.92339231],\n",
       "        [ 0.92339231,  2.20181272]],\n",
       "\n",
       "       [[ 1.45916046, -0.17656519],\n",
       "        [-0.17656519,  0.81648536]]])"
      ]
     },
     "execution_count": 6,
     "metadata": {},
     "output_type": "execute_result"
    }
   ],
   "source": [
    "clu.Sigma"
   ]
  },
  {
   "cell_type": "code",
   "execution_count": 7,
   "metadata": {
    "extensions": {
     "jupyter_dashboards": {
      "version": 1,
      "views": {
       "grid_default": {
        "col": 4,
        "height": 4,
        "hidden": false,
        "row": 114,
        "width": 4
       },
       "report_default": {}
      }
     }
    }
   },
   "outputs": [
    {
     "data": {
      "text/plain": [
       "array([ 0.3333333 ,  0.33333337,  0.33333333])"
      ]
     },
     "execution_count": 7,
     "metadata": {},
     "output_type": "execute_result"
    }
   ],
   "source": [
    "clu.pi"
   ]
  },
  {
   "cell_type": "code",
   "execution_count": 8,
   "metadata": {
    "extensions": {
     "jupyter_dashboards": {
      "version": 1,
      "views": {
       "grid_default": {
        "col": 8,
        "height": 4,
        "hidden": false,
        "row": 114,
        "width": 4
       },
       "report_default": {}
      }
     }
    }
   },
   "outputs": [
    {
     "data": {
      "text/plain": [
       "2"
      ]
     },
     "execution_count": 8,
     "metadata": {},
     "output_type": "execute_result"
    }
   ],
   "source": [
    "clu.predicting(x)"
   ]
  },
  {
   "cell_type": "code",
   "execution_count": 9,
   "metadata": {
    "collapsed": true,
    "extensions": {
     "jupyter_dashboards": {
      "version": 1,
      "views": {
       "grid_default": {
        "col": 4,
        "height": 4,
        "hidden": false,
        "row": 118,
        "width": 4
       },
       "report_default": {}
      }
     }
    }
   },
   "outputs": [],
   "source": [
    "def gaussian(target, mean, cov):\n",
    "    dim = cov.shape[0]\n",
    "    det = np.linalg.det(cov + np.eye(dim) * 0.01 )\n",
    "    inv = np.linalg.inv(cov + np.eye(dim) * 0.01 )\n",
    "    mx = target - mean\n",
    "    return 1.0 / np.sqrt((2 * np.pi)**dim * det) * np.exp(-0.5 * np.dot(np.dot(mx, inv), mx))\n",
    "\n",
    "def draw(data, mean, cov, n):\n",
    "    minimum = data.min(axis = 0)\n",
    "    maximum = data.max(axis = 0)\n",
    "    x = np.linspace(minimum[0] - 0.05 * abs(maximum[0]), maximum[0] + 0.05 * abs(maximum[0]) , n)\n",
    "    y = np.linspace(minimum[1] - 0.05 * abs(maximum[1]), maximum[1] + 0.05 * abs(maximum[1]) , n)\n",
    "    xx, yy = np.meshgrid(x, y)\n",
    "    zz = np.zeros((n, n))\n",
    "    for i in range(n):\n",
    "        for j in range(n):\n",
    "             zz[i][j] = np.sum(gaussian(np.array([xx[i][j], yy[i][j]]), mean[c], cov[c]) for c in range(cov.shape[0]))\n",
    "    gci = plt.imshow(zz, origin = \"lower\", cmap = \"jet\")\n",
    "    for i in range(len(data)):\n",
    "        plt.plot((data[i][0] - np.min(data[:, 0])) / (x[1] - x[0]), (data[i][1] - np.min(data[:, 1])) / (y[1] - y[0]), 'k.')\n",
    "    plt.xticks([0, len(x) - 1], [x[0], x[-1]])\n",
    "    plt.yticks([0, len(y) - 1], [y[0], y[-1]])\n",
    "    plt.title(\"The GMM cluster result\")"
   ]
  },
  {
   "cell_type": "code",
   "execution_count": 10,
   "metadata": {
    "extensions": {
     "jupyter_dashboards": {
      "version": 1,
      "views": {
       "grid_default": {
        "col": 8,
        "height": 10,
        "hidden": false,
        "row": 118,
        "width": 4
       },
       "report_default": {}
      }
     }
    }
   },
   "outputs": [
    {
     "data": {
      "image/png": "[encoded data removed]",
      "text/plain": [
       "<matplotlib.figure.Figure at 0xae0cb00>"
      ]
     },
     "metadata": {},
     "output_type": "display_data"
    }
   ],
   "source": [
    "draw(X, clu.mu, clu.Sigma, 100)"
   ]
  }
 ],
 "metadata": {
  "extensions": {
   "jupyter_dashboards": {
    "activeView": "grid_default",
    "version": 1,
    "views": {
     "grid_default": {
      "cellMargin": 10,
      "defaultCellHeight": 20,
      "maxColumns": 12,
      "name": "grid",
      "type": "grid"
     },
     "report_default": {
      "name": "report",
      "type": "report"
     }
    }
   }
  },
  "kernelspec": {
   "display_name": "Python 2",
   "language": "python",
   "name": "python2"
  },
  "language_info": {
   "codemirror_mode": {
    "name": "ipython",
    "version": 2
   },
   "file_extension": ".py",
   "mimetype": "text/x-python",
   "name": "python",
   "nbconvert_exporter": "python",
   "pygments_lexer": "ipython2",
   "version": "2.7.13"
  },
  "latex_envs": {
   "LaTeX_envs_menu_present": true,
   "autocomplete": true,
   "bibliofile": "biblio.bib",
   "cite_by": "apalike",
   "current_citInitial": 1,
   "eqLabelWithNumbers": true,
   "eqNumInitial": 1,
   "hotkeys": {
    "equation": "Ctrl-E",
    "itemize": "Ctrl-I"
   },
   "labels_anchors": false,
   "latex_user_defs": false,
   "report_style_numbering": false,
   "user_envs_cfg": false
  },
  "toc": {
   "colors": {
    "hover_highlight": "#DAA520",
    "running_highlight": "#FF0000",
    "selected_highlight": "#FFD700"
   },
   "moveMenuLeft": true,
   "nav_menu": {
    "height": "49px",
    "width": "252px"
   },
   "navigate_menu": true,
   "number_sections": true,
   "sideBar": true,
   "threshold": 4,
   "toc_cell": false,
   "toc_section_display": "block",
   "toc_window_display": false,
   "widenNotebook": false
  }
 },
 "nbformat": 4,
 "nbformat_minor": 2
}
