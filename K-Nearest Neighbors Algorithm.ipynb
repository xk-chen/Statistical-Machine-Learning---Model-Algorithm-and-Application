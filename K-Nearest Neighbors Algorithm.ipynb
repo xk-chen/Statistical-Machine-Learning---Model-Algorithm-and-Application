{
 "cells": [
  {
   "cell_type": "markdown",
   "metadata": {},
   "source": [
    "## Bayes decision rule"
   ]
  },
  {
   "cell_type": "markdown",
   "metadata": {},
   "source": [
    "The best classifier os the Bayes classifier defined by:\n",
    "\n",
    "$$h_B(x)=\\mathbb{I}\\{m(x)\\geq 1/2\\}$$\n",
    "\n",
    "where $m(x)=\\mathbb{E}(Y\\mid X=x)$"
   ]
  },
  {
   "cell_type": "markdown",
   "metadata": {},
   "source": [
    "\\begin{theorem}\n",
    "\n",
    "For any hypothesis $h\\in\\mathcal{H}$, the risks satisfy $R(h)\\geq R(h_B(x))$.\n",
    "\n",
    "\\end{theorem}\n",
    "\n",
    "\\begin{proof}\n",
    "\n",
    "\\begin{align*}\n",
    "R(h)-R(h_B(x)) &= \\mathbb{P}(Y\\not = h(X))- \\mathbb{P}(Y\\not = h_B(X))\\\\\n",
    "               &= \\int \\mathbb{P}(Y\\not = h(X)\\mid X=x)p(x)\\mathrm{d}x - \\int \\mathbb{P}(Y\\not = h_B(X)\\mid X=x)p(x)\\mathrm{d}x\\\\\n",
    "               &= \\int (\\mathbb{P}(Y\\not = h(X)\\mid X=x)-\\mathbb{P}(Y\\not = h_B(X)\\mid X=x))p(x)\\mathrm{d}x\n",
    "\\end{align*}\n",
    "\n",
    "To prove $R(h)\\geq R(h_B(x))$, we need to show $\\mathbb{P}(Y\\not = h(X)\\mid X=x)-\\mathbb{P}(Y\\not = h_B(X)\\mid X=x)\\geq 0$\n",
    "\n",
    "\\begin{align*}\n",
    "\\mathbb{P}(Y\\not = h(X)\\mid X=x)-\\mathbb{P}(Y\\not = h_B(X)\\mid X=x) &=\\bigg(h(x)\\mathbb{P}(Y\\not = 1\\mid X=x)+(1-h(x))\\mathbb{P}(Y\\not = 0\\mid X=x)\\bigg)\\\\\n",
    " -& \\bigg(h_B(x)\\mathbb{P}(Y\\not = 1\\mid X=x)+(1-h_B(x))\\mathbb{P}(Y\\not = 0\\mid X=x)\\bigg)\\\\\n",
    " &= h(x)(1-m(x))+(1-h(x))m(x)-\\big(h_B(x)(1-m(x))+(1-h_B(x))m(x)\\big)\\\\\n",
    " &= 2\\big(m(x)-1/2\\big)\\big(h_B(x)-h(x)\\big)\\geq 0\n",
    "\\end{align*}\n",
    "\n",
    "Hence $h_B(x)=1 \\iff m(x)\\geq 1/2$.\n",
    "\\end{proof}"
   ]
  },
  {
   "cell_type": "markdown",
   "metadata": {},
   "source": [
    "## KNN algorithm"
   ]
  },
  {
   "cell_type": "markdown",
   "metadata": {},
   "source": [
    "**PROCEDURE**:\n",
    "\n",
    "**Select the class based on the majority vote in the k closest point**.\n",
    "\n",
    "Probabilistic interpretation of KNN:\n",
    "\n",
    "Let $V$ be the volume of the $m$-dim ball around $x$ containing the $k$ nearest neighbors for $x$.\n",
    "\n",
    "Probability that a random point $x$ is in $V$:\n",
    "\n",
    "$$p(x)V=\\frac{K}{N}$$\n",
    "\n",
    "where $p(x)$ is the pdf, or the average prob. assigned to point $x$. $N$ is the total number of points, $K$ is the number of points which are nearest to $x$.\n",
    "\n",
    "Probability that a random point $x$ belongs to class $i$ is in $V$: \n",
    "\n",
    "$$p(x\\mid y=i)V=\\frac{K_i}{N_i}$$\n",
    "\n",
    "Probability that a random point belongs to class $i$:\n",
    "\n",
    "$$p(y=i)=\\frac{N_i}{N}$$\n",
    "\n",
    "Using Bayes rule:\n",
    "\n",
    "$$\\mathbb{P}(Y=i\\mid x)=\\frac{p(x\\mid y=i)p(y=i)}{p(x)}=\\frac{K_i}{K}$$\n",
    "\n",
    "Therefore, KNN algorithm is the approximation of the Bayes classifier, which has the minimum risk."
   ]
  },
  {
   "cell_type": "code",
   "execution_count": 1,
   "metadata": {
    "collapsed": true
   },
   "outputs": [],
   "source": [
    "from __future__ import division\n",
    "import numpy as np\n",
    "from sklearn.datasets import load_iris\n",
    "from matplotlib import pyplot as plt\n",
    "%matplotlib inline"
   ]
  },
  {
   "cell_type": "code",
   "execution_count": 2,
   "metadata": {
    "collapsed": true
   },
   "outputs": [],
   "source": [
    "def k_search(dataset, labels, target, NoN):\n",
    "# Try to find the nearest NoN points around target\n",
    "    distance = np.sqrt(((dataset - target)**2).sum(axis = 1))\n",
    "    neighbors = np.argsort(distance)[: NoN]\n",
    "    neighbors_labels = labels[neighbors]\n",
    "    target_label = np.argmax(np.bincount(neighbors_labels))\n",
    "    return target_label"
   ]
  },
  {
   "cell_type": "code",
   "execution_count": 3,
   "metadata": {
    "collapsed": true
   },
   "outputs": [],
   "source": [
    "def Cross_Validation(sample, output, N):\n",
    "# Shuffle the population\n",
    "    randomize = np.arange(len(sample))\n",
    "    np.random.shuffle(randomize)\n",
    "    sample = sample[randomize]\n",
    "    output = output[randomize]\n",
    "# Divide the training sample and testing sample\n",
    "    x = sample[: N]\n",
    "    y = output[: N]\n",
    "    x_1 = sample[N: ]\n",
    "    y_1 = output[N: ]\n",
    "    accuracy = []\n",
    "    for j in range(1, N):\n",
    "        count = 0\n",
    "        for i in range(len(x_1)):\n",
    "            if (k_search(x, y, x_1[i], j) == y_1[i]):\n",
    "                count = count + 1\n",
    "        accuracy.append(count/len(x_1))\n",
    "    return accuracy"
   ]
  },
  {
   "cell_type": "code",
   "execution_count": 4,
   "metadata": {},
   "outputs": [
    {
     "data": {
      "text/plain": [
       "[<matplotlib.lines.Line2D at 0x1d07a898>]"
      ]
     },
     "execution_count": 4,
     "metadata": {},
     "output_type": "execute_result"
    },
    {
     "data": {
      "image/png": "[encoded data removed]",
      "text/plain": [
       "<matplotlib.figure.Figure at 0x1ce2ec18>"
      ]
     },
     "metadata": {},
     "output_type": "display_data"
    }
   ],
   "source": [
    "N = 100\n",
    "data = load_iris().data\n",
    "target = load_iris().target\n",
    "plt.plot(range(1, N), Cross_Validation(data, target, N), 'ro-')"
   ]
  }
 ],
 "metadata": {
  "kernelspec": {
   "display_name": "Python 2",
   "language": "python",
   "name": "python2"
  },
  "language_info": {
   "codemirror_mode": {
    "name": "ipython",
    "version": 2
   },
   "file_extension": ".py",
   "mimetype": "text/x-python",
   "name": "python",
   "nbconvert_exporter": "python",
   "pygments_lexer": "ipython2",
   "version": "2.7.13"
  },
  "latex_envs": {
   "LaTeX_envs_menu_present": true,
   "autocomplete": true,
   "bibliofile": "biblio.bib",
   "cite_by": "apalike",
   "current_citInitial": 1,
   "eqLabelWithNumbers": true,
   "eqNumInitial": 1,
   "hotkeys": {
    "equation": "Ctrl-E",
    "itemize": "Ctrl-I"
   },
   "labels_anchors": false,
   "latex_user_defs": false,
   "report_style_numbering": false,
   "user_envs_cfg": false
  },
  "toc": {
   "colors": {
    "hover_highlight": "#DAA520",
    "running_highlight": "#FF0000",
    "selected_highlight": "#FFD700"
   },
   "moveMenuLeft": true,
   "nav_menu": {
    "height": "12px",
    "width": "252px"
   },
   "navigate_menu": true,
   "number_sections": true,
   "sideBar": true,
   "threshold": 4,
   "toc_cell": false,
   "toc_section_display": "block",
   "toc_window_display": false,
   "widenNotebook": false
  }
 },
 "nbformat": 4,
 "nbformat_minor": 2
}
