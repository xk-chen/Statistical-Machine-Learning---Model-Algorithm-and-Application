{
 "cells": [
  {
   "cell_type": "markdown",
   "metadata": {},
   "source": [
    "## Simple Linear Regression"
   ]
  },
  {
   "cell_type": "markdown",
   "metadata": {
    "collapsed": true
   },
   "source": [
    "Suppose we have data $(X_1,Y_1),(X_2,Y_2),\\dots,(X_n,Y_n)$. We want to use a linear model to describe the relationship between $X$ and $Y$.\n",
    "\n",
    "Assume the linear model as follow:\n",
    "\n",
    "1.$X$ is arbitrary, it means $X$ can be fixed or random.\n",
    "\n",
    "2.$Y=\\beta_{0}+\\beta_{1}X+\\epsilon$.\n",
    "\n",
    "3.$\\mathbb{E}[\\epsilon\\mid X = x]=0$, $\\mathbb{V}[\\epsilon\\mid X=x]=\\sigma^2$ for all $x$.\n",
    "\n",
    "4.$\\epsilon$ is independent across observations.\n",
    "\n",
    "Denote regression function $m(X)=\\beta_{0}+\\beta_{1}X$. To measure the quality of regression function, we use **Mean squared error** $MSE(\\beta_{0},\\beta_{1})$. And\n",
    "\n",
    "$$MSE(\\beta_{0},\\beta_{1})= \\mathbb{E}[(Y-(\\beta_{0}+\\beta_{1}X))^2]$$\n",
    "\n",
    "To obtain the optimal estimation, we need to minimize $MSE$.\n",
    "\n",
    "$$\\frac{\\partial\\mathbb{E}[(Y-(\\beta_{0}+\\beta_{1}X))^2]}{\\partial \\beta_{0}}=2(-\\mathbb{E}[Y]+\\beta_{0} + \\beta_{1}\\mathbb{E}[X])$$\n",
    "\n",
    "$$\\frac{\\partial\\mathbb{E}[(Y-(\\beta_{0}+\\beta_{1}X))^2]}{\\partial \\beta_{1}}=2\\big(-\\text{Cov}[X,Y]-\\mathbb{E}[X]\\mathbb{E}[Y]+\\beta_{0}\\mathbb{E}[X]+\\beta_{1}\\mathbb{V}[X]+\\beta_{1}(\\mathbb{E}[X])^2\\big)$$\n",
    "\n",
    "Set the derivative to zero,\n",
    "\n",
    "$$\\hat{\\beta_{1}}=\\frac{\\text{Cov}[X,Y]}{\\mathbb{V}[X]}$$\n",
    "\n",
    "$$\\hat{\\beta_{0}}=\\mathbb{E}[Y]-\\hat{\\beta_{1}}\\mathbb{E}[X]$$\n",
    "\n",
    "Return to our scenario:\n",
    "\n",
    "\\begin{align*}\n",
    "\\hat{\\beta_{1}}&=\\frac{\\text{Cov}[X,Y]}{\\mathbb{V}[X]}\\\\\n",
    "&=\\frac{\\frac{1}{n}\\sum_iX_iY_i-\\bar{X}\\bar{Y}}{s_X^2}\\\\\n",
    "&=\\frac{\\frac{1}{n}\\sum_iX_i(\\beta_{0}+\\beta_{1}X_i+\\epsilon_i)-\\bar{X}(\\beta_{0}+\\beta_{1}X_i+\\epsilon_i)}{s_X^2}\\\\\n",
    "&=\\frac{1}{nS_X^2}\\sum_i(\\beta_{0}X_i+\\beta_{1}X_i^2+X_i\\epsilon_i-\\beta_{0}\\bar{X}-\\beta_{1}X_i\\hat{X}-\\bar{X}\\epsilon_i)\\\\\n",
    "&=\\frac{1}{s_X^2}\\big[[\\beta_{1}(\\frac{1}{n}\\sum_iX_i^2-(\\sum_iX_i)^2)]+\\frac{1}{n}\\sum_i(X_i-\\bar{X})\\epsilon_i\\big]\\\\\n",
    "&=\\beta_{1}+\\sum_i\\frac{X_i-\\bar{X}}{nS_X^2}\\epsilon_i\n",
    "\\end{align*}\n",
    "\n",
    "Note the sample variance $S_X^2=\\frac{1}{n}\\sum_i(X_i-\\bar{X})^2$.\n",
    "\n",
    "\\begin{align*}\n",
    "\\hat{\\beta_{0}}&=\\mathbb{E}[Y]-\\hat{\\beta_{1}}\\mathbb{E}[X]\\\\\n",
    "&=\\frac{1}{n}\\sum_i(\\beta_{0}+\\beta_{1}X_i+\\epsilon_i)-\\hat{\\beta_{1}}\\bar{X}\\\\\n",
    "&=\\beta_{0}+\\beta_{1}\\bar{X}+\\frac{1}{n}\\sum_i\\epsilon_i-\\beta_{1}\\bar{X}-\\bar{X}\\sum_i\\frac{X_i -\\bar{X}}{nS_X^2}\\epsilon_i\\\\\n",
    "&=\\beta_{0}+\\sum_i[\\frac{1}{n}-\\frac{\\bar{X}(X_i-\\bar{X})}{nS_X^2}]\\epsilon_i\n",
    "\\end{align*}\n",
    "\n",
    "As for the estimation of regression function $\\hat{m}(X)$,\n",
    "\n",
    "\\begin{align*}\n",
    "\\hat{m}(X)&=\\hat{\\beta_{0}}+\\hat{\\beta_{1}}X\\\\\n",
    "&=\\beta_{0}+\\beta_{1}X+\\sum_i\\big(\\frac{1}{n}+(X-\\bar{X})\\frac{(X_i-\\bar{X})}{nS_X^2}\\big)\\epsilon_i\n",
    "\\end{align*}\n",
    "\n",
    "Then define the residual at $X_j$ as $e_j$, therefore\n",
    "\n",
    "\\begin{align*}\n",
    "e_j&=Y_j-\\hat{m}(X_j)\\\\\n",
    "&=\\beta_{0}+\\beta_{1}X_j+\\epsilon_j-m(X_j)-\\sum_i\\big(\\frac{1}{n}+(X_j-\\bar{X})\\frac{(X_i-\\bar{X})}{nS_X^2}\\big)\\epsilon_i\\\\\n",
    "&=\\epsilon_j-\\sum_i\\big(\\frac{1}{n}+(X_j-\\bar{X})\\frac{(X_i-\\bar{X})}{nS_X^2}\\big)\\epsilon_i\\\\\n",
    "&=\\sum_i\\big(\\delta_{ij}-\\frac{1}{n}-(X_j-\\bar{X})\\frac{(X_i-\\bar{X})}{nS_X^2}\\big)\\epsilon_i\n",
    "\\end{align*}\n",
    "\n",
    "\n",
    "\n",
    "Have a look at the estimation of $\\sigma^2$:\n",
    "\n",
    "$$\\hat{\\sigma}^2=\\frac{1}{n}\\sum_je_j^2$$\n",
    "\n",
    "Let\n",
    "\n",
    "$$c_{ij}=\\delta_{ij}-\\frac{1}{n}-(X_j-\\bar{X})\\frac{(X_i-\\bar{X})}{nS_X^2}$$\n",
    "\n",
    "\\begin{align*}\n",
    "\\mathbb{E}[e_j^2]&=\\mathbb{E}\\big[\\big(\\sum_ic_{ij}\\epsilon_i\\big)^2\\big]\\\\\n",
    "&=\\mathbb{V}\\big[\\sum_ic_{ij}\\epsilon_i\\big]+\\big(\\mathbb{E}\\big[\\sum_ic_{ij}\\epsilon_i\\big]\\big)^2\\\\\n",
    "&=\\mathbb{V}\\big[\\sum_ic_{ij}\\epsilon_i\\big]+\\big(\\sum_ic_{ij}\\mathbb{E}\\epsilon_i\\big)^2\\\\\n",
    "&=\\text{Cov}\\big(\\sum_ic_{ij}\\epsilon_i,\\sum_kc_{kj}\\epsilon_k\\big)\\\\ \n",
    "&=\\sum_ic_{ij}\\sum_kc_{kj}\\text{Cov}\\big(\\epsilon_i,\\epsilon_k\\big)\\\\\n",
    "&=\\sum_ic_{ij}^2\\text{Cov}\\big(\\epsilon_i,\\epsilon_i\\big)\\\\\n",
    "&=\\sum_ic_{ij}^2\\mathbb{V}[\\epsilon_i]\\\\\n",
    "&=\\sigma^2\\sum_ic_{ij}^2\\\\\n",
    "&=\\sigma^2\\sum_i\\big(\\delta_{ij}-\\frac{1}{n}-(X_j-\\bar{X})\\frac{(X_i-\\bar{X})}{nS_X^2}\\big)^2\\\\\n",
    "&=\\sigma^2\\sum_i\\big(\\delta_{ij}^2-\\frac{2}{n}\\delta_{ij}-2\\delta_{ij}(X_j-\\bar{X})\\frac{(X_i-\\bar{X})}{nS_X^2}+\\frac{1}{n^2}+\\frac{2}{n}(X_j-\\bar{X})\\frac{(X_i-\\bar{X})}{nS_X^2}+(X_j-\\bar{X})^2\\frac{(X_i-\\bar{X})^2}{n^2S_X^4}\\big)\\\\\n",
    "&=\\sigma^2\\big(1-\\frac{1}{n}-2\\frac{(X_j-\\bar{X})^2}{nS_X^2}\\big)+\\sigma^2\\sum_i\\big(\\frac{2(X_i-\\bar{X})(X_j-\\bar{X})}{nS_X^2}+\\frac{(X_i-\\bar{X})^2(X_j-\\bar{X})^2}{n^2S_X^4}\\big)\\\\\n",
    "&=\\sigma^2\\big(1-\\frac{1}{n}-2\\frac{(X_j-\\bar{X})^2}{nS_X^2}\\big)+\\frac{2(X_j-\\bar{X})\\sigma^2}{nS_X^2}\\sum_i(X_i-\\bar{X})+\\frac{(X_j-\\bar{X})^2\\sigma^2}{n^2S_X^4}\\sum_i(X_i-\\bar{X})^2\\\\\n",
    "&=\\sigma^2\\big(1-\\frac{1}{n}-2\\frac{(X_j-\\bar{X})^2}{nS_X^2}\\big)+\\frac{(X_j-\\bar{X})^2\\sigma^2}{nS_X^2}\\\\\n",
    "&=\\sigma^2\\big(1-\\frac{1}{n}-\\frac{(X_j-\\bar{X})^2}{nS_X^2}\\big)\n",
    "\\end{align*}\n",
    "\n",
    "Therefore,\n",
    "\n",
    "\\begin{align*}\n",
    "\\mathbb{E}[\\hat{\\sigma}^2]&=\\mathbb{E}\\big[\\frac{1}{n}\\sum_je_j^2\\big]\\\\\n",
    "&=\\frac{1}{n}\\sum_j\\mathbb{E}\\big[e_j^2\\big]\\\\\n",
    "&=\\frac{1}{n}\\sum_j\\sigma^2\\big(1-\\frac{1}{n}-\\frac{(X_j-\\bar{X})^2}{nS_X^2}\\big)\\\\\n",
    "&=\\sigma^2-\\frac{\\sigma^2}{n}-\\frac{\\sigma^2}{nS_X^2}\\sum_j\\frac{(X_j-\\bar{X})^2}{n}\\\\\n",
    "&=\\frac{n-2}{n}\\sigma^2\n",
    "\\end{align*}\n",
    "\n",
    "Then we know \n",
    "\n",
    "$$\\tilde{\\sigma}^2=\\frac{1}{n-2}\\sum_je_j^2$$\n",
    "\n",
    "is the unbiased estimator of $\\sigma^2$ if the linear model assumptions hold.\n",
    "\n",
    "Note that the residuals are related to the noise,\n",
    "\n",
    "$$\\epsilon_i=Y_i-(\\beta_{0}+\\beta_{1}X_i)$$\n",
    "\n",
    "$$e_i=Y_i-(\\hat{\\beta_{0}}-\\hat{\\beta_{1}}X_i)=(\\beta_{0}-\\hat{\\beta_{0}})+(\\beta_{1}-\\hat{\\beta_{1}})X_i+\\epsilon_i$$\n",
    "\n",
    "In general\n",
    "\n",
    "$$\\sum_i\\epsilon_i\\not=0$$\n",
    "\n",
    "while\n",
    "\n",
    "\\begin{align*}\n",
    "\\sum_ie_i&=\\sum_iY_i-(\\hat{\\beta_{0}}-\\hat{\\beta_{1}}X_i)\\\\\n",
    "&=\\sum_iY_i-(\\bar{Y}-\\hat{\\beta_{1}}\\bar{X})-\\hat{\\beta_{1}}X_i\\\\\n",
    "&=\\sum_i(Y_i-\\bar{Y})+\\sum_i(\\hat{\\beta_{1}}\\bar{X}-\\hat{\\beta_{1}}X_i)\\\\\n",
    "&=0\n",
    "\\end{align*}\n",
    "\n",
    "It means that although $\\epsilon$'s are independent of each other, it does not hold for residuals. It is the same that $\\sum_i\\epsilon_i(X_i-\\bar{X})\\not=0$ while $\\sum_ie_i(X_i-\\bar{X})=0$.\n",
    "\n",
    "To sum up,\n",
    "\n",
    "1.The residuals should have expectation zero conditional on $X$. And the sample mean of $e_i$ is exactly $0$.\n",
    "\n",
    "2.The residuals show a constant variance, unchanging with $X$.\n",
    "\n",
    "3.The residuals are correlated, but the correlation is extremely weak."
   ]
  },
  {
   "cell_type": "markdown",
   "metadata": {},
   "source": [
    "## Gaussian-noise Simple Linear Regression"
   ]
  },
  {
   "cell_type": "markdown",
   "metadata": {},
   "source": [
    "Above results derived from current assumptions give us information about the expectation and variance of the estimations, however, it can not tell us the distribution or confidence interval of them. To get stronger conclusion, we need stronger assumption.\n",
    "\n",
    "Here is the Gaussian-noise simple linear regression model:\n",
    "\n",
    "1.The distribution of $X$ is arbitrary, it means $X$ can be fixed or random.\n",
    "\n",
    "2.$Y=\\beta_{0}+\\beta_{1}X+\\epsilon$.\n",
    "\n",
    "3.$\\epsilon\\sim\\mathcal{N}(0,\\sigma^2)$, and is independent of $X$.\n",
    "\n",
    "4.$\\epsilon$ is independent across observations.\n",
    "\n",
    "Having these assumptions, we are able to use the method of maximum likelihood(same as LSE), we obtain\n",
    "\n",
    "$$\\hat{\\beta_1}=\\frac{c_{XY}}{S_X^2}=\\beta_{1}+\\sum_i\\frac{X_i-\\bar{X}}{nS_X^2}\\epsilon_i$$\n",
    "\n",
    "$$\\hat{\\beta_0}=\\bar{Y}-\\hat{\\beta_1}\\bar{X}=\\beta_{0}+\\sum_i[\\frac{1}{n}-\\frac{\\bar{X}(X_i-\\bar{X})}{nS_X^2}]\\epsilon_i$$\n",
    "\n",
    "$$\\hat{\\sigma}^2=\\frac{1}{n}\\sum_i(Y_i-(\\hat{\\beta_0}+\\hat{\\beta_1}X_i))^2$$\n",
    "\n",
    "From the normal assumption:\n",
    "\n",
    "$$\\hat{\\beta_1}\\sim\\mathcal{N}(\\beta_1,\\frac{\\sigma^2}{nS_X^2})$$\n",
    "\n",
    "$$\\hat{m}(X)\\sim\\mathcal{N}\\big(\\beta_0+\\beta_1X,\\frac{\\sigma^2}{n}(1+\\frac{X-\\bar{X}}{S_X^2})\\big)$$\n",
    "\n",
    "For the statistical inference, we have\n",
    "\n",
    "$$\\frac{\\hat{\\beta_1}-\\beta_1}{\\sigma \\big/\\sqrt{nS_X^2}}\\sim\\mathcal{N}(0,1)$$\n",
    "\n",
    "And by the same method\n",
    "\n",
    "$$\\frac{\\hat{\\beta_0}-\\beta_0}{\\sqrt{\\frac{\\sigma^2}{n}\\big(1+\\frac{\\bar{X}^2}{S_X^2}\\big)}}\\sim\\mathcal{N}(0,1)$$\n",
    "\n",
    "We have shown that\n",
    "\n",
    "$$\\mathbb{E}[\\hat{\\sigma}^2]=\\frac{n-2}{n}\\sigma^2$$\n",
    "\n",
    "Adding on normal assumption\n",
    "\n",
    "$$\\frac{n\\hat{\\sigma}^2}{\\sigma^2}\\sim\\chi_{n-2}^2$$\n",
    "\n",
    "If we have prior $\\sigma$, it is easy to compute $\\text{se}[\\hat{\\beta_1}]$ and $\\text{se}[\\hat{\\beta_0}]$. We can claim that with probability $1-\\alpha$,\n",
    "\n",
    "$$\\beta_1\\in \\big[\\hat{\\beta_1}-\\text{se}[\\hat{\\beta_1}]z_{\\alpha/2},\\hat{\\beta_1}-\\text{se}[\\hat{\\beta_1}]z_{1-\\alpha/2}\\big]$$\n",
    "\n",
    "$$\\beta_0\\in \\big[\\hat{\\beta_0}-\\text{se}[\\hat{\\beta_0}]z_{\\alpha/2},\\hat{\\beta_0}-\\text{se}[\\hat{\\beta_0}]z_{1-\\alpha/2}\\big]$$\n",
    "\n",
    "Unfortunately, the value of $\\sigma$ is unknown, so we can not calculate the left hand. Then we come up with the estimation of $\\text{se}[\\hat{\\beta_1}]$ and $\\text{se}[\\hat{\\beta_0}]$, which is called **estimation of standard deviation**. Where\n",
    "\n",
    "$$\\hat{\\text{se}}[\\hat{\\beta_1}]=\\frac{\\sigma}{S_X\\sqrt{n-2}} $$\n",
    "\n",
    "$$\\hat{\\text{se}}[\\hat{\\beta_0}]=\\frac{\\sigma}{S_X\\sqrt{n-2}}\\sqrt{S_X^2+\\bar{X}^2}$$\n",
    "\n",
    "and $n-2$ is the de-biased version. So what about the sampling distribution of $\\frac{\\hat{\\beta}-\\beta}{\\hat{\\text{se}}[\\hat{\\beta}]}$?\n",
    "\n",
    "\\begin{proposition}\n",
    "\n",
    "If $Z\\sim\\mathcal{N}(0,1)$, $S^2\\sim\\chi_d^2$, and $Z$ and $S^2$ are independent, then\n",
    "\n",
    "$$\\frac{Z}{\\sqrt{S^2\\big/d}}\\sim t_d$$\n",
    "\n",
    "\\end{proposition}\n",
    "\n",
    "Then \n",
    "\n",
    "\\begin{align*}\n",
    "\\frac{\\hat{\\beta_1}-\\beta_1}{\\hat{\\text{se}}[\\hat{\\beta_1}]}&=\\frac{\\hat{\\beta_1}-\\beta_1}{\\sigma}\\frac{\\sigma}{\\hat{\\text{se}}[\\hat{\\beta_1}]}\\\\\n",
    "&=\\frac{\\frac{\\hat{\\beta_1}-\\beta_1}{\\sigma}}{\\frac{\\hat{\\text{se}}[\\hat{\\beta_1}]}{\\sigma}}\\\\\n",
    "&=\\frac{\\mathcal{N}(0,\\frac{1}{nS_X^2})}{\\frac{\\hat{\\sigma}}{S_X\\sigma\\sqrt{n-2}}}\\\\\n",
    "&=\\frac{\\sqrt{n}\\mathcal{N}(0,\\frac{1}{n})}{\\frac{\\sqrt{\\hat{\\sigma}}}{\\sigma\\sqrt{n-2}}}\\\\\n",
    "&=\\frac{\\mathcal{N}(0,1)}{\\sqrt{\\chi_{n-2}^2\\big/(n-2)}}\\\\\n",
    "&=t_{n-2}\n",
    "\\end{align*}\n",
    "\n",
    "Hence, \n",
    "\n",
    "$$\\frac{\\hat{\\beta_1}-\\beta_1}{\\hat{\\text{se}}[\\hat{\\beta_1}]}\\sim t_{n-2}$$\n",
    "\n",
    "$$\\frac{\\hat{\\beta_0}-\\beta_0}{\\hat{\\text{se}}[\\hat{\\beta_0}]}\\sim t_{n-2}$$\n",
    "\n",
    "Then the $1-\\alpha$ confidence interval is\n",
    "\n",
    "$$\\beta_1\\in \\big[\\hat{\\beta_1}-\\hat{\\text{se}}[\\hat{\\beta_1}]t_{\\alpha/2}(n-2),\\hat{\\beta_1}-\\hat{\\text{se}}[\\hat{\\beta_1}]t_{1-\\alpha/2}(n-2)\\big]$$\n",
    "\n",
    "$$\\beta_0\\in \\big[\\hat{\\beta_0}-\\hat{\\text{se}}[\\hat{\\beta_0}]t_{\\alpha/2}(n-2),\\hat{\\beta_0}-\\hat{\\text{se}}[\\hat{\\beta_0}]t_{1-\\alpha/2}(n-2)\\big]$$\n",
    "\n",
    "Moreover, we can test the hypothesis if $\\beta_1=0$ using $t$-statistics we obtain from above. Note the asymptotics distribution of $t$-distribution is the standard normal distribution.\n",
    "\n",
    "It is the same as $\\hat{m}(X)$, since $\\hat{\\text{se}}[\\hat{m}(X)]=\\frac{\\hat{\\sigma}}{\\sqrt{n-2}}\\sqrt{1+\\frac{(X-\\bar{X})^2}{S_X^2}}$,\n",
    "the sampling distribution is $t$-distribution, too.\n",
    "\n",
    "$$\\frac{\\hat{m}(X)-m(X)}{\\hat{\\text{se}}[\\hat{m}(X)]}\\sim t_{n-2}$$\n",
    "\n",
    "Note:\n",
    "\n",
    "Transforming the predictor variable raises no issue, while for the response may cause errors. For instance\n",
    "\n",
    "$$g(Y)=\\beta_{0}+\\beta_{1}X+\\epsilon$$\n",
    "\n",
    "We may get\n",
    "\n",
    "$$\\mathbb{E}[g(Y\\mid X=x)]=\\beta_{0}+\\beta_{1}x$$\n",
    "\n",
    "While\n",
    "\n",
    "$$\\mathbb{E}[Y\\mid X=x]\\not=g^{-1}(\\beta_{0}+\\beta_{1}x)$$\n",
    "\n",
    "beacuse of the **convexity** of the function.\n",
    "\n",
    "However we can get the right prediction interval because of the monotonic property.\n",
    "\n",
    "Another quantity $R^2$ is defined as\n",
    "\n",
    "$$R^2=\\frac{\\sum_i[(Y_i-\\bar{Y})^2-(Y_i-\\hat{Y_i})^2]}{\\sum_i(Y_i-\\bar{Y})^2}$$\n",
    "\n",
    "It is often described as the fraction of variability explained by regression. When $n\\rightarrow\\infty$\n",
    "\n",
    "\\begin{align*}\n",
    "R^2&=\\frac{\\mathbb{V}[m(X)]}{\\mathbb{V}[Y]}\\\\\n",
    "&=\\frac{\\mathbb{V}[\\beta_{0}+\\beta_{1}X]}{\\mathbb{V}[\\beta_{0}+\\beta_{1}X+\\epsilon]}\\\\\n",
    "&=\\frac{\\beta_{1}^2\\mathbb{V}[X]}{\\beta_{1}^2\\mathbb{V}[X]+\\sigma^2}\n",
    "\\end{align*}\n",
    "\n",
    "It is clear that $R^2$ does not measure goodness of fit. For that the value is not determined by the model, it may be caused by $\\mathbb{V}[X]$ or $\\sigma^2$. \n",
    "\n",
    "And $R^2$ does not reflect the predictability, for that if we change the range of $X$ we can get any value between $0$ and $1$, for this topic, the $MSE$ is much better. Meanwhile it does not give us information about interval."
   ]
  },
  {
   "cell_type": "markdown",
   "metadata": {
    "collapsed": true
   },
   "source": [
    "## Multiple Linear Regression"
   ]
  },
  {
   "cell_type": "markdown",
   "metadata": {
    "collapsed": true
   },
   "source": [
    "When we have more than one predictors, the multiple linear regression model is\n",
    "\n",
    "1.There are $p$ quantitative predictors $X_1,X_2,\\dots,X_p$. We make no assumptions about their distribution. And the variables may dependent. Denote $X=(X_1,X_2\\dots,X_p)$.\n",
    "\n",
    "2.There is a single response vaiable $Y$.\n",
    "\n",
    "3.The linear model is $Y=\\beta_{0}+\\sum_{i=1}^p\\beta_{i}X_i+\\epsilon$.\n",
    "\n",
    "4.The noise variable $\\epsilon$ satisfies $\\mathbb{E}[\\epsilon\\mid X = x]=0$ and $\\mathbb{V}[\\epsilon\\mid X=x]=\\sigma^2$, and uncorrelated across observations.\n",
    "\n",
    "Generally, the matrix form of $n$ observations is\n",
    "\n",
    "$$\\mathbf{Y}_{n\\times 1}=\\mathbf{X}_{n\\times(p+1)}\\beta_{(p+1)\\times 1}$$\n",
    "\n",
    "The first column of $\\mathbf{X}$ is all $1$'s, and $\\mathbb{E}[\\epsilon\\mid \\mathbf{X}]=0$, $\\mathbb{V}[\\epsilon\\mid \\mathbf{X}]=\\sigma^2\\mathbf{I}$.\n",
    "\n",
    "We now wish to estimate the model by least squares, then the $MSE$ is\n",
    "\n",
    "$$MSE(\\beta)=\\frac{1}{n}(\\mathbf{Y}-\\mathbf{X}\\beta)^T(\\mathbf{Y}-\\mathbf{X}\\beta)$$\n",
    "\n",
    "And the gradient is\n",
    "\n",
    "$$\\nabla_{\\beta}MSE(\\beta)=\\frac{2}{n}(-\\mathbf{X}^T\\mathbf{Y}+\\mathbf{X}^T\\mathbf{X}\\beta)$$\n",
    "\n",
    "Set the gradient as $0$, the optimal estimation is\n",
    "\n",
    "$$\\hat{\\beta}=(\\mathbf{X}^T\\mathbf{X})^{-1}\\mathbf{X}^T\\mathbf{Y}=(\\mathbf{X}^T\\mathbf{X})^{-1}\\mathbf{X}^T(\\mathbf{X}\\beta+\\epsilon)=\\beta+(\\mathbf{X}^T\\mathbf{X})^{-1}\\mathbf{X}^T\\epsilon$$\n",
    " \n",
    "The property of estimation:\n",
    "\n",
    "$$\\mathbb{E}[\\hat{\\beta}]=\\beta$$\n",
    "\n",
    "\\begin{align*}\n",
    "\\mathbb{V}[\\hat{\\beta}]&=\\mathbb{V}[\\beta+(\\mathbf{X}^T\\mathbf{X})^{-1}\\mathbf{X}^T\\epsilon]\\\\\n",
    "&=(\\mathbf{X}^T\\mathbf{X})^{-1}\\mathbf{X}^T\\mathbb{V}[\\epsilon]\\mathbf{X}(\\mathbf{X}^T\\mathbf{X})^{-1}\\\\\n",
    "&=(\\mathbf{X}^T\\mathbf{X})^{-1}\\sigma^2\\\\\n",
    "\\end{align*}\n",
    "\n",
    "The estimation of $\\mathbf{Y}$ is\n",
    "\n",
    "$$\\hat{\\mathbf{Y}}=\\mathbf{X}\\hat{\\beta}=\\mathbf{X}(\\mathbf{X}^T\\mathbf{X})^{-1}\\mathbf{X}^T\\mathbf{Y}=\\mathbf{H}\\mathbf{Y}$$\n",
    "\n",
    "where $\\mathbf{H}$ projects $\\mathbf{Y}$ onto the column space of $\\mathbf{X}$.\n",
    "\n",
    "$$\\mathbb{E}[\\hat{\\mathbf{Y}}]=\\mathbb{E}[\\mathbf{X}(\\mathbf{X}^T\\mathbf{X})^{-1}\\mathbf{X}^T(\\mathbf{X}\\beta+\\epsilon)]=\\mathbf{X}\\beta$$\n",
    "\n",
    "$$\\mathbb{V}[\\hat{\\mathbf{Y}}]=\\mathbb{V}[\\mathbf{X}(\\mathbf{X}^T\\mathbf{X})^{-1}\\mathbf{X}^T\\epsilon]=\\mathbb{V}[\\mathbf{H}\\epsilon]=\\mathbf{H}\\sigma^2$$\n",
    "\n",
    "Residuals are given by\n",
    "\n",
    "$$\\mathbf{e}=\\mathbf{Y}-\\hat{\\mathbf{Y}}=(\\mathbf{I}-\\mathbf{H})\\epsilon$$\n",
    "\n",
    "Therefore, \n",
    "\n",
    "$$\\mathbb{E}[\\mathbf{e}]=\\mathbf{0}$$\n",
    "\n",
    "$$\\mathbb{V}[\\mathbf{e}]=\\sigma^2(\\mathbf{I}-\\mathbf{H})$$\n",
    "\n",
    "Note that both $\\mathbf{H}$ and $\\mathbf{I}-\\mathbf{H}$ are symmetric idempotent matrices.\n",
    "\n",
    "If the assumptions hold, we can estimate the variance $\\sigma^2$ using\n",
    "\n",
    "$$\\hat{\\sigma}^2=\\frac{1}{n}\\mathbf{e}^T\\mathbf{e}$$\n",
    "\n",
    "Moreover, \n",
    "\n",
    "\\begin{align*}\n",
    "\\mathbb{E}[\\hat{\\sigma}^2]&=\\frac{1}{n}\\mathbb{E}[\\mathbf{e}^T\\mathbf{e}]\\\\\n",
    "&=\\frac{1}{n}\\mathbb{E}[((\\mathbf{I}-\\mathbf{H})\\epsilon)^T((\\mathbf{I}-\\mathbf{H})\\epsilon)]\\\\\n",
    "&=\\frac{1}{n}\\mathbb{E}[\\epsilon^T(\\mathbf{I}-\\mathbf{H})\\epsilon]\\\\\n",
    "&=\\frac{1}{n}\\mathbb{E}[\\text{tr}((\\mathbf{I}-\\mathbf{H})\\epsilon\\epsilon^T)]\\\\\n",
    "&=\\frac{1}{n}\\text{tr}((\\mathbf{I}-\\mathbf{H})\\mathbb{V}[\\epsilon])\\\\\n",
    "&=\\frac{\\sigma^2}{n}\\text{tr}\\big(\\mathbf{I}-\\mathbf{H}\\big)\\\\\n",
    "&=\\frac{\\sigma^2}{n}(n-\\text{tr}\\mathbf{H})\\\\\n",
    "&=\\frac{\\sigma^2}{n}\\Big(n-\\text{tr}\\big(\\mathbf{X}(\\mathbf{X}^T\\mathbf{X})^{-1}\\mathbf{X}^T\\big)\\Big)\\\\\n",
    "&=\\frac{\\sigma^2}{n}\\Big(n-\\text{tr}\\big(\\mathbf{I}_{(p+1)\\times (p+1)}\\big)\\Big)\\\\\n",
    "&=\\frac{n-p-1}{n}\\sigma^2\n",
    "\\end{align*}\n",
    "\n",
    "To obtain the good statistical property, add another assumption $\\epsilon\\sim\\mathcal{N}(\\mathbf{0},\\sigma^2\\mathbf{I})$.\n",
    "\n",
    "Then it is easy to derive the distributions of the estimators:\n",
    "\n",
    "$$\\hat{\\beta}\\sim\\mathcal{N}(\\beta,\\sigma^2(\\mathbf{X}^T\\mathbf{X})^{-1})$$\n",
    "\n",
    "$$\\hat{\\mathbf{Y}}\\sim\\mathcal{N}(\\mathbf{X}\\beta,\\sigma^2\\mathbf{H})$$\n",
    "\n",
    "$$\\hat{\\mathbf{e}}\\sim\\mathcal{N}(0,\\sigma^2(\\mathbf{I}-\\mathbf{H}))$$\n",
    "\n",
    "$$\\frac{n\\hat{\\sigma}^2}{\\sigma^2}\\sim \\chi_{n-p-1}^2$$\n",
    "\n",
    "For the $j$-th covariate, without knowing the true variance $\\sigma^2$, we have\n",
    "\n",
    "$$\\frac{\\hat{\\beta_j}-\\beta_j}{\\hat{\\text{se}_j}}\\sim t_{n-p-1}$$\n",
    "\n",
    "where $\\hat{\\text{se}_j}=\\sqrt{\\hat{\\sigma}^2(\\mathbf{X}^T\\mathbf{X})^{-1}_{j+1,j+1}}$. Therefore we can test if $X_j$ matters $Y$ by $H_0:\\beta_j=0$."
   ]
  },
  {
   "cell_type": "code",
   "execution_count": 1,
   "metadata": {},
   "outputs": [
    {
     "data": {
      "text/html": [
       "<ol class=list-inline>\n",
       "\t<li>'Air.Flow'</li>\n",
       "\t<li>'Water.Temp'</li>\n",
       "\t<li>'Acid.Conc.'</li>\n",
       "\t<li>'stack.loss'</li>\n",
       "</ol>\n"
      ],
      "text/latex": [
       "\\begin{enumerate*}\n",
       "\\item 'Air.Flow'\n",
       "\\item 'Water.Temp'\n",
       "\\item 'Acid.Conc.'\n",
       "\\item 'stack.loss'\n",
       "\\end{enumerate*}\n"
      ],
      "text/markdown": [
       "1. 'Air.Flow'\n",
       "2. 'Water.Temp'\n",
       "3. 'Acid.Conc.'\n",
       "4. 'stack.loss'\n",
       "\n",
       "\n"
      ],
      "text/plain": [
       "[1] \"Air.Flow\"   \"Water.Temp\" \"Acid.Conc.\" \"stack.loss\""
      ]
     },
     "metadata": {},
     "output_type": "display_data"
    }
   ],
   "source": [
    "data(stackloss)\n",
    "names(stackloss)"
   ]
  },
  {
   "cell_type": "code",
   "execution_count": 2,
   "metadata": {},
   "outputs": [
    {
     "data": {
      "image/png": "[encoded data removed]",
      "text/plain": [
       "plot without title"
      ]
     },
     "metadata": {},
     "output_type": "display_data"
    }
   ],
   "source": [
    "par(fin = c(10,10))\n",
    "pairs(stackloss, pch = 19)"
   ]
  },
  {
   "cell_type": "code",
   "execution_count": 3,
   "metadata": {},
   "outputs": [
    {
     "data": {
      "text/plain": [
       "\n",
       "Call:\n",
       "lm(formula = stack.loss ~ Air.Flow + Water.Temp + Acid.Conc., \n",
       "    data = stackloss)\n",
       "\n",
       "Residuals:\n",
       "    Min      1Q  Median      3Q     Max \n",
       "-7.2377 -1.7117 -0.4551  2.3614  5.6978 \n",
       "\n",
       "Coefficients:\n",
       "            Estimate Std. Error t value Pr(>|t|)    \n",
       "(Intercept) -39.9197    11.8960  -3.356  0.00375 ** \n",
       "Air.Flow      0.7156     0.1349   5.307  5.8e-05 ***\n",
       "Water.Temp    1.2953     0.3680   3.520  0.00263 ** \n",
       "Acid.Conc.   -0.1521     0.1563  -0.973  0.34405    \n",
       "---\n",
       "Signif. codes:  0 '***' 0.001 '**' 0.01 '*' 0.05 '.' 0.1 ' ' 1\n",
       "\n",
       "Residual standard error: 3.243 on 17 degrees of freedom\n",
       "Multiple R-squared:  0.9136,\tAdjusted R-squared:  0.8983 \n",
       "F-statistic:  59.9 on 3 and 17 DF,  p-value: 3.016e-09\n"
      ]
     },
     "metadata": {},
     "output_type": "display_data"
    }
   ],
   "source": [
    "model <- lm(stack.loss ~ Air.Flow + Water.Temp + Acid.Conc., data = stackloss)\n",
    "summary(model)"
   ]
  },
  {
   "cell_type": "code",
   "execution_count": 4,
   "metadata": {},
   "outputs": [
    {
     "data": {
      "text/html": [
       "<table>\n",
       "<thead><tr><th></th><th scope=col>5 %</th><th scope=col>95 %</th></tr></thead>\n",
       "<tbody>\n",
       "\t<tr><th scope=row>(Intercept)</th><td>-60.6140306</td><td>-19.2253183</td></tr>\n",
       "\t<tr><th scope=row>Air.Flow</th><td>  0.4810400</td><td>  0.9502404</td></tr>\n",
       "\t<tr><th scope=row>Water.Temp</th><td>  0.6550686</td><td>  1.9355036</td></tr>\n",
       "\t<tr><th scope=row>Acid.Conc.</th><td> -0.4240127</td><td>  0.1197676</td></tr>\n",
       "</tbody>\n",
       "</table>\n"
      ],
      "text/latex": [
       "\\begin{tabular}{r|ll}\n",
       "  & 5 \\% & 95 \\%\\\\\n",
       "\\hline\n",
       "\t(Intercept) & -60.6140306 & -19.2253183\\\\\n",
       "\tAir.Flow &   0.4810400 &   0.9502404\\\\\n",
       "\tWater.Temp &   0.6550686 &   1.9355036\\\\\n",
       "\tAcid.Conc. &  -0.4240127 &   0.1197676\\\\\n",
       "\\end{tabular}\n"
      ],
      "text/markdown": [
       "\n",
       "| <!--/--> | 5 % | 95 % | \n",
       "|---|---|---|---|\n",
       "| (Intercept) | -60.6140306 | -19.2253183 | \n",
       "| Air.Flow |   0.4810400 |   0.9502404 | \n",
       "| Water.Temp |   0.6550686 |   1.9355036 | \n",
       "| Acid.Conc. |  -0.4240127 |   0.1197676 | \n",
       "\n",
       "\n"
      ],
      "text/plain": [
       "            5 %         95 %       \n",
       "(Intercept) -60.6140306 -19.2253183\n",
       "Air.Flow      0.4810400   0.9502404\n",
       "Water.Temp    0.6550686   1.9355036\n",
       "Acid.Conc.   -0.4240127   0.1197676"
      ]
     },
     "metadata": {},
     "output_type": "display_data"
    }
   ],
   "source": [
    "confint(model, level = 0.9)"
   ]
  },
  {
   "cell_type": "code",
   "execution_count": 5,
   "metadata": {},
   "outputs": [
    {
     "data": {
      "text/html": [
       "<table>\n",
       "<thead><tr><th></th><th scope=col>fit</th><th scope=col>lwr</th><th scope=col>upr</th></tr></thead>\n",
       "<tbody>\n",
       "\t<tr><th scope=row>1</th><td>14.41064</td><td>4.759959</td><td>24.06133</td></tr>\n",
       "</tbody>\n",
       "</table>\n"
      ],
      "text/latex": [
       "\\begin{tabular}{r|lll}\n",
       "  & fit & lwr & upr\\\\\n",
       "\\hline\n",
       "\t1 & 14.41064 & 4.759959 & 24.06133\\\\\n",
       "\\end{tabular}\n"
      ],
      "text/markdown": [
       "\n",
       "| <!--/--> | fit | lwr | upr | \n",
       "|---|\n",
       "| 1 | 14.41064 | 4.759959 | 24.06133 | \n",
       "\n",
       "\n"
      ],
      "text/plain": [
       "  fit      lwr      upr     \n",
       "1 14.41064 4.759959 24.06133"
      ]
     },
     "metadata": {},
     "output_type": "display_data"
    }
   ],
   "source": [
    "predict(model, newdata = data.frame(Air.Flow = 58, Water.Temp = 20, Acid.Conc.=86), interval = \"prediction\", level = 0.99)"
   ]
  },
  {
   "cell_type": "code",
   "execution_count": 6,
   "metadata": {},
   "outputs": [
    {
     "data": {
      "text/html": [
       "<table>\n",
       "<thead><tr><th></th><th scope=col>Df</th><th scope=col>Sum Sq</th><th scope=col>Mean Sq</th><th scope=col>F value</th><th scope=col>Pr(&gt;F)</th></tr></thead>\n",
       "<tbody>\n",
       "\t<tr><th scope=row>Air.Flow</th><td> 1          </td><td>1750.121989 </td><td>1750.121989 </td><td>166.3707443 </td><td>3.308729e-10</td></tr>\n",
       "\t<tr><th scope=row>Water.Temp</th><td> 1          </td><td> 130.320772 </td><td> 130.320772 </td><td> 12.3886015 </td><td>2.629043e-03</td></tr>\n",
       "\t<tr><th scope=row>Acid.Conc.</th><td> 1          </td><td>   9.965372 </td><td>   9.965372 </td><td>  0.9473319 </td><td>3.440461e-01</td></tr>\n",
       "\t<tr><th scope=row>Residuals</th><td>17          </td><td> 178.829962 </td><td>  10.519410 </td><td>         NA </td><td>          NA</td></tr>\n",
       "</tbody>\n",
       "</table>\n"
      ],
      "text/latex": [
       "\\begin{tabular}{r|lllll}\n",
       "  & Df & Sum Sq & Mean Sq & F value & Pr(>F)\\\\\n",
       "\\hline\n",
       "\tAir.Flow &  1           & 1750.121989  & 1750.121989  & 166.3707443  & 3.308729e-10\\\\\n",
       "\tWater.Temp &  1           &  130.320772  &  130.320772  &  12.3886015  & 2.629043e-03\\\\\n",
       "\tAcid.Conc. &  1           &    9.965372  &    9.965372  &   0.9473319  & 3.440461e-01\\\\\n",
       "\tResiduals & 17           &  178.829962  &   10.519410  &          NA  &           NA\\\\\n",
       "\\end{tabular}\n"
      ],
      "text/markdown": [
       "\n",
       "| <!--/--> | Df | Sum Sq | Mean Sq | F value | Pr(>F) | \n",
       "|---|---|---|---|\n",
       "| Air.Flow |  1           | 1750.121989  | 1750.121989  | 166.3707443  | 3.308729e-10 | \n",
       "| Water.Temp |  1           |  130.320772  |  130.320772  |  12.3886015  | 2.629043e-03 | \n",
       "| Acid.Conc. |  1           |    9.965372  |    9.965372  |   0.9473319  | 3.440461e-01 | \n",
       "| Residuals | 17           |  178.829962  |   10.519410  |          NA  |           NA | \n",
       "\n",
       "\n"
      ],
      "text/plain": [
       "           Df Sum Sq      Mean Sq     F value     Pr(>F)      \n",
       "Air.Flow    1 1750.121989 1750.121989 166.3707443 3.308729e-10\n",
       "Water.Temp  1  130.320772  130.320772  12.3886015 2.629043e-03\n",
       "Acid.Conc.  1    9.965372    9.965372   0.9473319 3.440461e-01\n",
       "Residuals  17  178.829962   10.519410          NA           NA"
      ]
     },
     "metadata": {},
     "output_type": "display_data"
    }
   ],
   "source": [
    "anova(model)"
   ]
  },
  {
   "cell_type": "markdown",
   "metadata": {},
   "source": [
    "## Multicollinearity"
   ]
  },
  {
   "cell_type": "markdown",
   "metadata": {},
   "source": [
    "Recall the optimal estimation\n",
    "\n",
    "$$\\hat{\\beta}=(\\mathbf{X}^T\\mathbf{X})^{-1}\\mathbf{X}^T\\mathbf{Y}$$\n",
    "\n",
    "If $(\\mathbf{X}^T\\mathbf{X})^{-1}$ is not invertible, we may not be able to get $\\hat{\\beta}$, and the variance $(\\mathbf{X}^T\\mathbf{X})^{-1}\\sigma^2$ will blow up.\n",
    "\n",
    "Let $\\mathbf{G}=\\mathbf{X}^T\\mathbf{X}$, it is easy to show that\n",
    "\n",
    "1.$\\mathbf{G}$ is $(p+1)\\times(p+1)$.\n",
    "\n",
    "2.$\\mathbf{G}$ is symmetric.\n",
    "\n",
    "3.$\\mathbf{G}$ is positive semi-definite, i.e. $\\mathbf{a}^T\\mathbf{G}\\mathbf{a}\\geq 0$.\n",
    "\n",
    "If there is the phenomena of multicollinearity, $\\exists \\mathbf{a}:\\mathbf{X}\\mathbf{a}=\\mathbf{0}$.Then $\\mathbf{a}^T\\mathbf{G}\\mathbf{a}=\\mathbf{0}$ holds for some $\\mathbf{a}$.\n",
    "\n",
    "According to the eigen-decomposition\n",
    "\n",
    "$$\\mathbf{0}=\\mathbf{a}^T\\mathbf{G}\\mathbf{a}=\\mathbf{a}^T\\mathbf{Q}\\mathbf{\\Lambda}\\mathbf{Q}^T\\mathbf{a}=\\sum_j\\lambda_j(\\mathbf{a}^T\\mathbf{q}_j)^2$$\n",
    "\n",
    "For that $(\\mathbf{a}^T\\mathbf{q}_j)^2$ could not be zero simultaneously. Then we conclude that at least one eigenvalue of $\\mathbf{G}$ is zero. Therefore we can examine if multicollinearity happens by eigen-decomposition.\n",
    "\n",
    "In order to solve the singular problem, we introduce **Ridge Regression**\n",
    "\n",
    "$$MSE(\\beta)=\\frac{1}{n}(\\mathbf{Y}-\\mathbf{X}\\beta)^T(\\mathbf{Y}-\\mathbf{X}\\beta)+\\frac{\\lambda}{n}\\|\\beta\\|^2$$\n",
    "\n",
    "And\n",
    "\n",
    "$$\\nabla_{\\beta}MSE(\\beta)=\\nabla_{\\beta}\\big(\\frac{1}{n}(\\mathbf{Y}-\\mathbf{X}\\beta)^T(\\mathbf{Y}-\\mathbf{X}\\beta)+\\frac{\\lambda}{n}\\beta^T\\beta\\big)=\\frac{2}{n}(-\\mathbf{X}^T\\mathbf{Y}+\\mathbf{X}^T\\mathbf{X}\\beta+\\lambda\\beta)$$\n",
    "\n",
    "$$\\hat{\\beta}_\\lambda=(\\mathbf{X}^T\\mathbf{X}+\\lambda\\mathbf{I})^{-1}\\mathbf{X}^T\\mathbf{Y}$$\n",
    "\n",
    "This estimator is biased...\n",
    "\n",
    "$$\\mathbb{E}[\\hat{\\beta}_\\lambda]=(\\mathbf{X}^T\\mathbf{X}+\\lambda\\mathbf{I})^{-1}\\mathbf{X}^T\\mathbb{E}[\\mathbf{Y}]=(\\mathbf{X}^T\\mathbf{X}+\\lambda\\mathbf{I})^{-1}\\mathbf{X}^T\\mathbf{X}\\beta$$\n",
    "\n",
    "$$\\mathbb{V}[\\hat{\\beta}_\\lambda]=\\mathbb{V}\\big[(\\mathbf{X}^T\\mathbf{X}+\\lambda\\mathbf{I})^{-1}\\mathbf{X}^T\\epsilon\\big]=\\sigma^2(\\mathbf{X}^T\\mathbf{X}+\\lambda\\mathbf{I})^{-1}\\mathbf{X}^T\\mathbf{X}(\\mathbf{X}^T\\mathbf{X}+\\lambda\\mathbf{I})^{-1}$$"
   ]
  },
  {
   "cell_type": "markdown",
   "metadata": {
    "collapsed": true
   },
   "source": [
    "## $F$-test for Multiple Coefficients"
   ]
  },
  {
   "cell_type": "markdown",
   "metadata": {},
   "source": [
    "Let $S\\subset\\{1,2,\\dots,p\\}$ be the number of null model, and define the full model be the model using all $p$ covariant. We can show that $\\hat{\\sigma}_{null}^2\\geq \\hat{\\sigma}_{full}^2$ always holds. Then we have below null hypothesis\n",
    "\n",
    "$$H_0:\\beta_j=0,j\\in S$$\n",
    "\n",
    "We have shown that under normal assumption\n",
    "\n",
    "$$\\frac{n\\hat{\\sigma}_{full}^2}{\\sigma^2}\\sim\\chi_{n-p-1}^2$$\n",
    "\n",
    "$$\\frac{n\\hat{\\sigma}_{null}^2}{\\sigma^2}\\sim\\chi_{s}^2$$\n",
    "\n",
    "where $s$ is the number of variables in null model, from the property $\\chi^2(\\mu)+\\chi^2(\\nu)=\\chi^2(\\mu+\\nu)$. Therefore,\n",
    "\n",
    "$$\\frac{n(\\hat{\\sigma}_{null}^2-\\hat{\\sigma}_{full}^2)}{\\sigma^2}\\sim\\chi_{p-s}^2$$\n",
    "\n",
    "And define the $F$-statistics\n",
    "\n",
    "$$F=\\frac{(\\hat{\\sigma}_{null}^2-\\hat{\\sigma}_{full}^2)\\big/(p-s)}{\\hat{\\sigma}_{full}^2\\big/(n-p-1)}\\sim F_{p-s,n-p-1}$$\n",
    "\n",
    "Then we reject the null hypothesis when\n",
    "\n",
    "$$F>F_{p-s,n-p-1}(\\alpha)$$\n",
    "\n",
    "In particularly, if the null model is $Y=\\beta_0+\\epsilon$, our $F=\\frac{(\\hat{\\sigma}_{null}^2-\\hat{\\sigma}_{full}^2)/p}{\\hat{\\sigma}_{full}^2/(n-p-1)}\\sim F_{p,n-p-1}$\n",
    "\n",
    "Note: $F$-test does not test any of the following:\n",
    "\n",
    "1.Whether some variable ought to be included in the model.\n",
    "\n",
    "2.Whether the relationship between $Y$ and $X_i$ is linear.\n",
    "\n",
    "3.Whether any the assumptions hold.\n",
    "\n",
    "\n",
    "Alternatively, we can use confidence ellipsoids, where\n",
    "\n",
    "$$(\\hat{\\beta_S}-\\beta_S)^T\\Sigma_S^{-1}(\\hat{\\beta_S}-\\beta_S)\\sim\\chi_s^2$$\n",
    "\n",
    "and the $1-\\alpha$ confidence ellipsoid for $\\beta_S$ is\n",
    "\n",
    "$$C=\\big\\{\\beta_S:(\\hat{\\beta_S}-\\beta_S)^T\\Sigma_S^{-1}(\\hat{\\beta_S}-\\beta_S)\\leq c_\\alpha\\big\\}$$"
   ]
  },
  {
   "cell_type": "markdown",
   "metadata": {},
   "source": [
    "## Outliers and Influential Points"
   ]
  },
  {
   "cell_type": "markdown",
   "metadata": {},
   "source": [
    "An **outlier** is a point with a large residual. An **influential point** is a point that has a large impact on the regression. They are totally different things.\n",
    "\n",
    "Define the standardized residual\n",
    "\n",
    "$$r_i=\\frac{e_i}{\\hat{\\sigma}\\sqrt{1-h_{ii}}}$$\n",
    "\n",
    "where $h_{ii}=\\mathbf{H}_{ii}$, and $h_{ii}$, which is called **leverage**, is the contribution of $i$-th data to $\\hat{Y}_i$.\n",
    "\n",
    "To get a better idea of how influential the $i$-th point is, we can fit other model omit this observation. Let $\\mathbf{Y}^{(-i)}$ be the vector if fitted values when we remove data $i$. The **Cook's distance** is defined by:\n",
    "\n",
    "$$D_i=\\frac{(\\mathbf{Y}-\\mathbf{Y}^{(-i)})^T(\\mathbf{Y}-\\mathbf{Y}^{(-i)})}{(p+1)\\hat{\\sigma}^2}=\\frac{r_i^2h_{ii}}{(p+1)(1-h_{ii})}$$\n",
    "\n",
    "Therefore, the influence of a point is determined by both its residual and its leverage. Often when $D_i>1$ we regard $i$ as an influential point.\n",
    "\n",
    "Detect outliers:\n",
    "\n",
    "1.We can look at the leverage, which depends only on the predictors.\n",
    "\n",
    "2.Look at the standardized residuals by how far they are from the regression line.\n",
    "\n",
    "3.Look at the Cook's distance, which say the influence on regression when remove the point.\n",
    "\n",
    "We must be careful when we encounter outliers, they may come from some patterns or caused by noise. We can delete the absurd point by some scientific criteria, or change our model carefully. Another method is called **robust regression**. Usually the robust estimation is based on minimizing a function of the form\n",
    "\n",
    "$$\\hat{\\beta}=\\arg\\min_\\beta\\frac{1}{n}\\sum_{i=1}^n\\rho(y_i-\\mathbf{x}_i^T\\beta)$$\n",
    "\n",
    "The loss function, say $\\rho(\\cdot)$, is varied. $\\rho(u)=\\big|u\\big|$ is the least absolute deviation, and $\\rho(u)=u^2$ is the OLS. A popular compromise  is the **Huber's loss**\n",
    "\n",
    "$$\n",
    "\\rho(u)=\\Big\\{\n",
    "\\begin{align*}\n",
    "& u^2, \\big|u\\big|\\leq c\\\\\n",
    "& 2c\\big|u\\big|, \\big|u\\big|\\geq c\\\\\n",
    "\\end{align*}\n",
    "$$\n",
    "\n",
    "However, robust regression is aimed at the linear pattern with large noise, it can not solve non-linearity or correlated noise etc."
   ]
  },
  {
   "cell_type": "code",
   "execution_count": 7,
   "metadata": {},
   "outputs": [
    {
     "data": {
      "image/png": "[encoded data removed]",
      "text/plain": [
       "plot without title"
      ]
     },
     "metadata": {},
     "output_type": "display_data"
    }
   ],
   "source": [
    "data(stackloss)\n",
    "model <- lm(stack.loss ~ Air.Flow, data = stackloss)\n",
    "leverage = hatvalues(model)\n",
    "c_statistics = cooks.distance(model)\n",
    "par(mfrow = c(1, 2), pin = c(4, 4))\n",
    "plot(leverage, ylab = \"leverage\", font = 6)\n",
    "plot(c_statistics, ylab = \"Cook's distance\", font = 6)"
   ]
  },
  {
   "cell_type": "markdown",
   "metadata": {},
   "source": [
    "## Model Selection"
   ]
  },
  {
   "cell_type": "markdown",
   "metadata": {},
   "source": [
    "Suppose we have multiple models, how to evaluate them? An obvious conclusion is the lower the generalization error is, the better the model. And it is natural to replace it with in-sample $MSE$. Unfortunately, the training error is always smaller than the generalization error. Consider predicting the new data at the same point $X_i$,\n",
    "\n",
    "We have training model\n",
    "\n",
    "$$\\mathbf{Y}=\\mathbf{X}\\beta+\\epsilon$$\n",
    "\n",
    "and the in-sample error is\n",
    "\n",
    "$$\\frac{1}{n}\\sum_{i=1}^n(Y_i-\\hat{Y}_i)^2$$\n",
    "\n",
    "the test model\n",
    "\n",
    "$$\\mathbf{Y}'=\\mathbf{X}\\beta+\\epsilon'$$\n",
    "\n",
    "and the test error\n",
    "\n",
    "$$\\frac{1}{n}\\sum_{i=1}^n(Y'_i-\\hat{Y}_i)^2$$\n",
    "\n",
    "\\begin{theorem}\n",
    "\n",
    "The training error is always smaller than the generalization error.\n",
    "\n",
    "$$\\mathbb{E}\\big[\\frac{1}{n}\\sum_{i=1}^n(Y'_i-\\hat{Y}_i)^2\\big]=\\mathbb{E}\\big[\\frac{1}{n}\\sum_{i=1}^n(Y_i-\\hat{Y}_i)^2\\big]+\\frac{2(p+1)}{n}\\sigma^2$$\n",
    "\n",
    "\\end{theorem}\n",
    "\n",
    "\\begin{proof}\n",
    "\n",
    "\n",
    "\\begin{align*}\n",
    "\\mathbb{E}\\big[(Y_i-\\hat{Y}_i)^2\\big]&=\\mathbb{V}\\big[Y_i-\\hat{Y}_i\\big]+\\Big(\\mathbb{E}\\big[Y_i-\\hat{Y}_i\\big]\\Big)^2\\\\\n",
    "&=\\mathbb{V}[Y_i]+\\mathbb{V}\\big[\\hat{Y}_i\\big] - 2\\text{Cov}\\big[Y_i,\\hat{Y}_i\\big]+\\Big(\\mathbb{E}[Y_i]-\\mathbb{E}\\big[\\hat{Y}_i\\big]\\Big)^2\n",
    "\\end{align*}\n",
    "\n",
    "\\begin{align*}\n",
    "\\mathbb{E}\\big[(Y'_i-\\hat{Y}_i)^2\\big]&=\\mathbb{V}\\big[Y'_i-\\hat{Y}_i\\big]+\\Big(\\mathbb{E}\\big[Y'_i-\\hat{Y}_i\\big]\\Big)^2\\\\\n",
    "&=\\mathbb{V}[Y'_i]+\\mathbb{V}\\big[\\hat{Y}_i\\big] - 2\\text{Cov}\\big[Y'_i,\\hat{Y}_i\\big]+\\Big(\\mathbb{E}[Y'_i]-\\mathbb{E}\\big[\\hat{Y}_i\\big]\\Big)^2\n",
    "\\end{align*}\n",
    "\n",
    "It is easy to see that $\\mathbb{E}[Y'_i]=\\mathbb{E}[Y_i]$, $\\mathbb{V}[Y'_i]=\\mathbb{V}[Y_i]$ and $\\text{Cov}\\big[Y'_i,\\hat{Y}_i\\big]=0$.\n",
    "\n",
    "Therefore\n",
    "\n",
    "$$\\mathbb{E}\\big[(Y'_i-\\hat{Y}_i)^2\\big]=\\mathbb{E}\\big[(Y_i-\\hat{Y}_i)^2\\big] + 2\\text{Cov}\\big[Y_i,\\hat{Y}_i\\big]$$\n",
    "\n",
    "Then take expectation\n",
    "\n",
    "\\begin{align*}\n",
    "\\mathbb{E}\\big[\\frac{1}{n}\\sum_{i=1}^n(Y'_i-\\hat{Y}_i)^2\\big]&=\\mathbb{E}\\big[\\frac{1}{n}\\sum_{i=1}^n(Y_i-\\hat{Y}_i)^2\\big]+\\frac{2}{n}\\sum_{i=1}^n\\text{Cov}\\big[Y_i,\\hat{Y}_i\\big]\\\\\n",
    "&=\\mathbb{E}\\big[\\frac{1}{n}\\sum_{i=1}^n(Y_i-\\hat{Y}_i)^2\\big]+\\frac{2}{n}\\sum_{i=1}^n\\sigma^2h_{ii}\\\\\n",
    "&=\\mathbb{E}\\big[\\frac{1}{n}\\sum_{i=1}^n(Y_i-\\hat{Y}_i)^2\\big]+\\frac{2}{n}\\sigma^2(p+1)\n",
    "\\end{align*}\n",
    "\\end{proof}\n",
    "\n",
    "The term $\\frac{2(p+1)}{n}\\sigma^2$ is called the **optimism** of the model. One can see it agrees on the learning theory\n",
    "\n",
    "1.More noise gives the model more opportunities to seem to fit well.\n",
    "\n",
    "2.More data makes it harder to pretend the fit is better than it really is.\n",
    "\n",
    "3.Growing $p$ makes it easy to fit noise, in other words, if adding a parameter does not reduce more a fixed amount of $MSE$, it should not be added.\n",
    "\n",
    "Therefore, the **Mallows $C_p$** statistic using debiased quantity\n",
    "\n",
    "$$C_p=\\frac{1}{n}\\sum_{i=1}^n(Y_i-\\hat{Y}_i)^2+\\frac{2\\hat{\\sigma}^2}{n}(p+1)=MSE+\\text{penalty} $$\n",
    "\n",
    "For model selection, we use\n",
    "\n",
    "$$\\Delta C_p= MSE_1-MSE_2+\\frac{2\\hat{\\sigma}^2}{n}(p_1-p_2)$$\n",
    "\n",
    "Let $\\hat{Y}_i^{(-i)}$ be the predicted value when we leave out point $(X_i,Y_i)$. Define the **leave-one-out-cross-validation score** as\n",
    "\n",
    "$$LOOCV\\equiv\\frac{1}{n}\\sum_{i=1}^n(Y_i-\\hat{Y}_i^{(-i)})^2=\\frac{1}{n}\\sum_{i=1}^n\\big(\\frac{Y_i-\\hat{Y}_i}{1-\\mathbf{H}_{ii}}\\big)^2$$\n",
    "\n",
    "The average of $\\mathbf{H}_{ii}$ is $\\gamma=\\frac{p+1}{n}$, here we use $\\gamma$ to approximate $\\mathbf{H}_{ii}$. Then\n",
    "\n",
    "\\begin{align*}\n",
    "LOOCV&\\approx \\frac{1}{n}\\sum_{i=1}^n\\big(\\frac{Y_i-\\hat{Y}_i}{1-\\gamma}\\big)^2\\\\\n",
    "&\\approx\\frac{1+2\\gamma}{n}\\sum_{i=1}^n(Y_i-\\hat{Y}_i)^2\\\\\n",
    "&=\\frac{1}{n}\\sum_{i=1}^n(Y_i-\\hat{Y}_i)^2+\\frac{2\\gamma}{n}\\sum_{i=1}^n(Y_i-\\hat{Y}_i)^2\\\\\n",
    "&=MSE+\\frac{2\\hat{\\sigma}^2}{n}(p+1)\n",
    "\\end{align*}\n",
    "\n",
    "Note that we use the Taylor series $(1+\\gamma)^{-2}\\approx 1+2\\gamma$. Therefore leave-one-out-cross-validation score is also a estimation of population error!\n",
    "\n",
    "$LOOCV$ or cross-validation estimator is the most popular tool to do model selection, for that it can estimate generalization error.\n",
    "\n",
    "Here we will introduce $AIC$, it estimates the error by subtract the number of parameters. Suppose the true parameter is $\\theta^*$, define the number of dimensions of parameter space $d\\equiv\\text{dim}(\\Theta)$. And the MLE of $\\theta$ is $\\hat{\\theta}$. Then\n",
    "\n",
    "$$\\nabla\\mathcal{L}(\\hat{\\theta})=0$$\n",
    "\n",
    "where $\\mathcal{L}(\\theta)$ is the log-likelihood under the sample. Do a Taylor series expansion of $\\nabla\\mathcal{L}(\\theta)$ around $\\theta^*$:\n",
    "\n",
    "$$\\nabla\\mathcal{L}(\\theta)=\\nabla\\mathcal{L}(\\theta^*)+(\\theta-\\theta^*)^T\\nabla\\nabla\\mathcal{L}(\\theta^*)$$\n",
    "\n",
    "Denote the Hessian matrix $\\mathbf{K}$\n",
    "\n",
    "$$\\mathbf{0}=\\nabla\\mathcal{L}(\\theta^*)+(\\theta-\\theta^*)\\mathbf{K}$$\n",
    "\n",
    "The expected log-likelihood of $\\hat{\\theta}$ is given by\n",
    "\n",
    "$$\\ell(\\theta)\\approx\\ell(\\theta^*)+(\\theta-\\theta^*)\\nabla\\ell(\\theta^*)+\\frac{1}{2}(\\theta-\\theta^*)^T\\nabla\\nabla\\ell(\\theta^*)(\\theta-\\theta^*)$$\n",
    "\n",
    "where $\\ell(\\theta)=\\mathbb{E}_{\\text{Data}}[\\mathcal{L}(\\theta)]$\n",
    "\n",
    "From parametric inference we know $\\mathbb{E}[\\nabla\\mathcal{L}(\\theta^*)]=0$,\n",
    "\n",
    "$$\\ell(\\theta)\\approx\\ell(\\theta^*)+\\frac{1}{2}(\\theta-\\theta^*)^T\\mathbf{k}(\\theta-\\theta^*)$$\n",
    "\n",
    "where $\\mathbf{k}$ is the Hessian matrix.\n",
    "\n",
    "Apply this to the MLE\n",
    "\n",
    "$$\\ell(\\hat{\\theta})\\approx\\ell(\\theta^*)+\\frac{1}{2}\\nabla\\mathcal{L}(\\theta^*)\\mathbf{K}^{-1}\\mathbf{k}\\mathbf{K}^{-1}\\nabla\\mathcal{L}(\\theta^*)$$\n",
    "\n",
    "Taking expectations,\n",
    "\n",
    "$$\\mathbb{E}\\big[\\ell(\\hat{\\theta})\\big]\\approx\\ell(\\theta^*)+\\frac{1}{2}\\text{tr}(\\mathbf{K}^{-1}\\mathbf{k}\\mathbf{K}^{-1}\\mathbf{J})$$\n",
    "\n",
    "where $\\mathbf{J}$ is the **Fisher Information matrix**, i.e the variance of score function. From the Law of Large Numbers, $\\forall\\theta,\\mathbb{E}[\\mathcal{L}(\\theta)]\\stackrel{P}\\rightarrow\\ell(\\theta)$. Adding the continuous mapping theorem, we have $\\nabla\\nabla\\mathcal{L}(\\theta^*)=\\mathbf{K}\\stackrel{P}\\rightarrow\\mathbf{k}=\\nabla\\nabla\\ell(\\theta^*)$.\n",
    "\n",
    "$$\\mathbb{E}\\big[\\ell(\\hat{\\theta})\\big]\\approx\\ell(\\theta^*)+\\frac{1}{2}\\text{tr}(\\mathbf{K}^{-1}\\mathbf{J})$$\n",
    "\n",
    "How to deal with the unknown $\\ell(\\theta^*)$? Another Taylor expansion\n",
    "\n",
    "$$\\mathcal{L}(\\theta^*)\\approx\\mathcal{L}(\\hat{\\theta}) +\\frac{1}{2}(\\theta^*-\\hat{\\theta})^T\\nabla\\nabla\\mathcal{L}(\\hat{\\theta})(\\theta^*-\\hat{\\theta})$$\n",
    "\n",
    "Plug into the MLE\n",
    "\n",
    "$$\\mathcal{L}(\\theta^*)\\approx\\mathcal{L}(\\hat{\\theta}) +\\frac{1}{2}(\\mathbf{K}^{-1}\\nabla\\mathcal{L}(\\theta^*))^T\\nabla\\nabla\\mathcal{L}(\\hat{\\theta})(\\mathbf{K}^{-1}\\nabla\\mathcal{L}(\\theta^*))$$\n",
    "\n",
    "For $\\hat{\\theta}\\stackrel{P}\\rightarrow\\theta^*$, according to continuous mapping theorem we have $$\\nabla\\nabla\\mathcal{L}(\\hat{\\theta})\\stackrel{P}\\rightarrow\\nabla\\nabla\\mathcal{L}(\\theta^*)$$\n",
    "\n",
    "Then\n",
    "\n",
    "$$\\mathcal{L}(\\theta^*)\\approx\\mathcal{L}(\\hat{\\theta}) +\\frac{1}{2}\\text{tr}(\\mathbf{k}^{-1}\\mathbf{J}) $$\n",
    "\n",
    "Take expectations,\n",
    "\n",
    "$$\\ell(\\theta^*)=\\mathbb{E}[\\mathcal{L}(\\hat{\\theta})]+\\frac{1}{2}\\text{tr}(\\mathbf{k}^{-1}\\mathbf{J})$$\n",
    "\n",
    "Therefore\n",
    "\n",
    "$$\\ell(\\hat{\\theta})\\approx\\ell(\\theta^*)+\\frac{1}{2}\\text{tr}(\\mathbf{k}^{-1}\\mathbf{J})=\\mathbb{E}[\\mathcal{L}(\\hat{\\theta})]+\\text{tr}(\\mathbf{k}^{-1}\\mathbf{J})$$\n",
    "\n",
    "And it is known that under regularity condition, we have\n",
    "\n",
    "$$\\mathbf{J}=-\\mathbb{E}[\\mathbf{K}]=-\\mathbf{k}$$\n",
    "\n",
    "Then \n",
    "\n",
    "$$\\ell(\\hat{\\theta})\\approx\\mathbb{E}[\\mathcal{L}(\\hat{\\theta})]-\\text{tr}[\\mathbf{I}_{d\\times d}] =\\mathbb{E}[\\mathcal{L}(\\hat{\\theta})]-d$$\n",
    "\n",
    "The unbiased estimator is\n",
    "\n",
    "$$AIC=\\mathcal{L}(\\hat{\\theta})-d$$\n",
    "\n",
    "In order to select linear Gaussian model, it is easy to show that\n",
    "\n",
    "$$\\frac{2\\hat{\\sigma}^2}{n}\\Delta AIC \\approx \\Delta MSE+\\frac{2}{n}\\hat{\\sigma}^2(p_1-p_2)=C_p$$\n",
    "\n",
    "It is also the approximation of the population error.\n",
    "\n",
    "The last criterion is $BIC$,\n",
    "\n",
    "$$BIC=\\mathcal{L}(\\hat{\\theta})-\\frac{\\log{n}}{2}d$$\n",
    "\n",
    "In fact, $BIC$ is trying to maximize $\\mathbb{P}(\\mathcal{M}_j\\mid\\text{Data})\\propto p(\\text{Data}\\mid\\mathcal{M}_j)p_j$.\n",
    "\n",
    "It is shown that $BIC$ tends to choose simpler model. Note that $BIC$ assumes that one of the models is true and we are trying to find the model most likely to be true in the Bayesian scenario. Instead, $AIC$ and $LOOCV$ try to find the model predicting best."
   ]
  },
  {
   "cell_type": "markdown",
   "metadata": {},
   "source": [
    "## Heteroskedasticity and Weighted Least Squares"
   ]
  },
  {
   "cell_type": "markdown",
   "metadata": {},
   "source": [
    "In reality, we may encounter the prediction accuracy requirement where the point is influenced more by its neighbors or the heteroskedasticity.\n",
    "\n",
    "Here we consider the linear model\n",
    "\n",
    "1.$\\mathbf{Y}=\\mathbf{X}\\beta+\\epsilon$\n",
    "\n",
    "2.$\\mathbb{E}[\\epsilon_i\\mid x_i]=0$ and $\\mathbb{V}[\\epsilon_i\\mid x_i]=\\sigma^2_i$, or $\\mathbb{V}[\\epsilon\\mid \\mathbf{X}]=\\Sigma$.\n",
    "\n",
    "3.$\\epsilon$ are independent across observations.\n",
    "\n",
    "We use the **Weighted Least Squares estimator** $K$ which minimize the weighted $MSE$ to estimate $\\beta$.\n",
    "\n",
    "$$WMSE=\\frac{1}{n}\\sum_{i=1}w_i(Y_i-\\mathbf{X}_i\\beta)^2$$\n",
    "\n",
    "Where $K=(\\mathbf{X}^T\\mathbf{W}\\mathbf{X})^{-1}\\mathbf{X}^T\\mathbf{W}$. Then\n",
    "\n",
    "$$\\mathbb{E}[\\hat{\\beta}]=\\beta$$\n",
    "\n",
    "$$\\mathbb{V}[\\hat{\\beta}]=K\\Sigma K^T=(\\mathbf{X}^T\\Sigma^{-1}\\mathbf{X})^{-1}$$.\n",
    "\n",
    "Therefore, $\\hat{\\beta}=K\\mathbf{Y}$ is the unbiased estimator of $\\beta$.\n",
    "\n",
    "\\begin{theorem}[Gauss-Markov]\n",
    "\n",
    "$\\hat{\\beta}=(\\mathbf{X}^T\\mathbf{W}\\mathbf{X})^{-1}\\mathbf{X}^T\\mathbf{W}\\mathbf{Y}$ is the best linear unbiased estimator of $\\beta$.\n",
    "\n",
    "In other words, for all linear unbiased estimators $\\tilde{\\beta}$.\n",
    "$$\\mathbb{V}[\\tilde{\\beta}]\\geq \\mathbb{V}[\\hat{\\beta}]$$\n",
    "\n",
    "\\end{theorem}\n",
    "\n",
    "\n",
    "\\begin{proof}\n",
    "\n",
    "Let $\\tilde{\\beta}=\\mathbf{QY}$ be any linear unbiased estimator. Then\n",
    "\n",
    "$$\\mathbb{E}[\\mathbf{QY}]=\\mathbf{QX}\\beta$$\n",
    "\n",
    "$\\mathbf{QX}$ has to be $\\mathbf{I}$.\n",
    "\n",
    "Then $\\mathbb{V}[\\mathbf{QY}\\mid \\mathbf{X}]=\\mathbf{Q}\\Sigma\\mathbf{Q}^T$.\n",
    "\n",
    "Let $K\\equiv (\\mathbf{X}^T\\Sigma^{-1}\\mathbf{X})^{-1}\\mathbf{X}^T\\Sigma^{-1}$. Whatever $\\mathbf{Q}$ might be, we can find a matrix $\\mathbf{R}$ that\n",
    "\n",
    "$$\\mathbf{Q}=K+\\mathbf{R}$$\n",
    "\n",
    "And from $K\\mathbf{X}=\\mathbf{I}$, we have $\\mathbf{RX}=\\mathbf{0}$.\n",
    "\n",
    "\\begin{align*}\n",
    "\\mathbb{V}[\\tilde{\\beta}]&=(K+\\mathbf{R})\\Sigma(K+\\mathbf{R})^T\\\\\n",
    "&=K\\Sigma K+\\mathbf{R}\\Sigma K^T +K\\Sigma\\mathbf{R}^T+ \\mathbf{R}\\Sigma\\mathbf{R}^T\\\\\n",
    "&=(\\mathbf{X}^T\\Sigma^{-1}\\mathbf{X})^{-1}+\\mathbf{R}\\Sigma\\mathbf{R}^T\\\\\n",
    "&=\\mathbb{V}[\\hat{\\beta}]+\\mathbf{R}\\Sigma\\mathbf{R}^T\n",
    "\\end{align*}\n",
    "\n",
    "The last term is positive definate, hence\n",
    "\n",
    "$$\\mathbb{V}[\\tilde{\\beta}]\\geq \\mathbb{V}[\\hat{\\beta}]$$\n",
    "\n",
    "\\end{proof}\n",
    "\n",
    "Note that\n",
    "\n",
    "1.If all the noise variances are equal, we obtain the optimality of OLS.\n",
    "\n",
    "2.The theorem does not rule out the linear biased estimators with smaller variance or non-linear biased estimators of even smaller variance.\n",
    "\n",
    "If we do not know the variances, there are two common ways to estimate conditional variances.\n",
    "\n",
    "Method 1:\n",
    "\n",
    "1.Estimate $m(x)$ with a regression model $\\hat{m}(x)$.\n",
    "\n",
    "2.Construct the squared residuals $u_i=(Y_i-\\hat{m}(x_i))^2$.\n",
    "\n",
    "3.Use any non-parametric method to estimate the conditional mean of $u_i$, denote $\\hat{q}(x)$.\n",
    "\n",
    "4.Estimate the variance using $\\hat{\\sigma}^2_x=\\hat{q}(x)$.\n",
    "\n",
    "Method 2:\n",
    "\n",
    "1.Estimate $m(x)$ with a regression model $\\hat{m}(x)$.\n",
    "\n",
    "2.Construct log squared residuals $z_i=\\log{(Y_i-\\hat{m}(x_i))^2}$.\n",
    "\n",
    "3.Use any non-parametric method to estimate the conditional mean of $z_i$, denote $\\hat{s}(x)$.\n",
    "\n",
    "4.Predict the variance using $\\hat{\\sigma}^2_x=e^{\\hat{s}(x)}$\n",
    "\n",
    "Method 2 ensures the estimated variances are positive!\n",
    "\n"
   ]
  },
  {
   "cell_type": "code",
   "execution_count": 8,
   "metadata": {},
   "outputs": [
    {
     "data": {
      "text/html": [
       "<ol class=list-inline>\n",
       "\t<li>3.96174962094616</li>\n",
       "\t<li>6.99288089457596</li>\n",
       "\t<li>7.53420579103561</li>\n",
       "\t<li>9.44961873668519</li>\n",
       "\t<li>12.0119764025398</li>\n",
       "\t<li>14.7744432357496</li>\n",
       "\t<li>15.2408546646743</li>\n",
       "\t<li>18.0623647137398</li>\n",
       "\t<li>18.1889888000663</li>\n",
       "\t<li>20.7458488039048</li>\n",
       "\t<li>26.472592992342</li>\n",
       "\t<li>22.3660474307336</li>\n",
       "\t<li>20.2124017744625</li>\n",
       "\t<li>33.0288020091828</li>\n",
       "\t<li>28.1262614537505</li>\n",
       "\t<li>36.4361687030798</li>\n",
       "\t<li>33.238801930916</li>\n",
       "\t<li>33.4390912625442</li>\n",
       "\t<li>41.3149865719803</li>\n",
       "\t<li>40.6509273681527</li>\n",
       "</ol>\n"
      ],
      "text/latex": [
       "\\begin{enumerate*}\n",
       "\\item 3.96174962094616\n",
       "\\item 6.99288089457596\n",
       "\\item 7.53420579103561\n",
       "\\item 9.44961873668519\n",
       "\\item 12.0119764025398\n",
       "\\item 14.7744432357496\n",
       "\\item 15.2408546646743\n",
       "\\item 18.0623647137398\n",
       "\\item 18.1889888000663\n",
       "\\item 20.7458488039048\n",
       "\\item 26.472592992342\n",
       "\\item 22.3660474307336\n",
       "\\item 20.2124017744625\n",
       "\\item 33.0288020091828\n",
       "\\item 28.1262614537505\n",
       "\\item 36.4361687030798\n",
       "\\item 33.238801930916\n",
       "\\item 33.4390912625442\n",
       "\\item 41.3149865719803\n",
       "\\item 40.6509273681527\n",
       "\\end{enumerate*}\n"
      ],
      "text/markdown": [
       "1. 3.96174962094616\n",
       "2. 6.99288089457596\n",
       "3. 7.53420579103561\n",
       "4. 9.44961873668519\n",
       "5. 12.0119764025398\n",
       "6. 14.7744432357496\n",
       "7. 15.2408546646743\n",
       "8. 18.0623647137398\n",
       "9. 18.1889888000663\n",
       "10. 20.7458488039048\n",
       "11. 26.472592992342\n",
       "12. 22.3660474307336\n",
       "13. 20.2124017744625\n",
       "14. 33.0288020091828\n",
       "15. 28.1262614537505\n",
       "16. 36.4361687030798\n",
       "17. 33.238801930916\n",
       "18. 33.4390912625442\n",
       "19. 41.3149865719803\n",
       "20. 40.6509273681527\n",
       "\n",
       "\n"
      ],
      "text/plain": [
       " [1]  3.961750  6.992881  7.534206  9.449619 12.011976 14.774443 15.240855\n",
       " [8] 18.062365 18.188989 20.745849 26.472593 22.366047 20.212402 33.028802\n",
       "[15] 28.126261 36.436169 33.238802 33.439091 41.314987 40.650927"
      ]
     },
     "metadata": {},
     "output_type": "display_data"
    }
   ],
   "source": [
    "x <- c(1:20)\n",
    "eps <- c(1:20) \n",
    "eps[1:10] <- rnorm(mean = 0, sd = 1, n = 10)\n",
    "eps[11:20] <- rnorm(mean = 0, sd = 4, n = 10)\n",
    "beta_0 = 1.0\n",
    "beta_1 = 2.0\n",
    "y <- beta_0 + beta_1 * x + eps\n",
    "y"
   ]
  },
  {
   "cell_type": "code",
   "execution_count": 9,
   "metadata": {},
   "outputs": [
    {
     "data": {
      "image/png": "[encoded data removed]",
      "text/plain": [
       "plot without title"
      ]
     },
     "metadata": {},
     "output_type": "display_data"
    }
   ],
   "source": [
    "par(fin = c(3,3), pin = c(3 ,3))\n",
    "plot(x, y, pch = 19, col = \"gray\")\n",
    "out <- lm(y ~ x)\n",
    "abline(out)"
   ]
  },
  {
   "cell_type": "code",
   "execution_count": 11,
   "metadata": {},
   "outputs": [
    {
     "data": {
      "text/plain": [
       "\n",
       "Call:\n",
       "lm(formula = y ~ x)\n",
       "\n",
       "Residuals:\n",
       "    Min      1Q  Median      3Q     Max \n",
       "-6.6383 -1.1087 -0.1916  1.0406  4.2828 \n",
       "\n",
       "Coefficients:\n",
       "            Estimate Std. Error t value Pr(>|t|)    \n",
       "(Intercept)   2.2117     1.2317   1.796   0.0894 .  \n",
       "x             1.8953     0.1028  18.433 3.92e-13 ***\n",
       "---\n",
       "Signif. codes:  0 '***' 0.001 '**' 0.01 '*' 0.05 '.' 0.1 ' ' 1\n",
       "\n",
       "Residual standard error: 2.652 on 18 degrees of freedom\n",
       "Multiple R-squared:  0.9497,\tAdjusted R-squared:  0.9469 \n",
       "F-statistic: 339.8 on 1 and 18 DF,  p-value: 3.921e-13\n"
      ]
     },
     "metadata": {},
     "output_type": "display_data"
    },
    {
     "data": {
      "image/png": "[encoded data removed]",
      "text/plain": [
       "plot without title"
      ]
     },
     "metadata": {},
     "output_type": "display_data"
    }
   ],
   "source": [
    "summary(out)\n",
    "par(fin = c(3,3), pin = c(3 ,3))\n",
    "plot(x, rstudent(out), pch = 19, col = \"gray\")"
   ]
  },
  {
   "cell_type": "code",
   "execution_count": 12,
   "metadata": {},
   "outputs": [
    {
     "data": {
      "image/png": "[encoded data removed]",
      "text/plain": [
       "plot without title"
      ]
     },
     "metadata": {},
     "output_type": "display_data"
    }
   ],
   "source": [
    "u = log((resid(out))^2)\n",
    "tmp = loess(u ~ x)\n",
    "s_2 = exp(tmp$fitted)\n",
    "par(fin = c(3,3), pin = c(3 ,3))\n",
    "plot(x, s_2, pch = 19, col = \"gray\")"
   ]
  },
  {
   "cell_type": "code",
   "execution_count": 13,
   "metadata": {},
   "outputs": [
    {
     "data": {
      "text/plain": [
       "\n",
       "Call:\n",
       "lm(formula = y ~ x, weights = w)\n",
       "\n",
       "Weighted Residuals:\n",
       "    Min      1Q  Median      3Q     Max \n",
       "-1.9403 -1.1581 -0.6041  0.9872  2.5370 \n",
       "\n",
       "Coefficients:\n",
       "            Estimate Std. Error t value Pr(>|t|)    \n",
       "(Intercept)  2.29940    0.29815   7.712 4.11e-07 ***\n",
       "x            1.91926    0.04868  39.425  < 2e-16 ***\n",
       "---\n",
       "Signif. codes:  0 '***' 0.001 '**' 0.01 '*' 0.05 '.' 0.1 ' ' 1\n",
       "\n",
       "Residual standard error: 1.438 on 18 degrees of freedom\n",
       "Multiple R-squared:  0.9886,\tAdjusted R-squared:  0.9879 \n",
       "F-statistic:  1554 on 1 and 18 DF,  p-value: < 2.2e-16\n"
      ]
     },
     "metadata": {},
     "output_type": "display_data"
    }
   ],
   "source": [
    "w = 1/s_2\n",
    "out_2 = lm(y ~ x, weights = w)\n",
    "summary(out_2)"
   ]
  },
  {
   "cell_type": "markdown",
   "metadata": {},
   "source": [
    "## Variable Selection"
   ]
  },
  {
   "cell_type": "markdown",
   "metadata": {},
   "source": [
    "Let $\\hat{m}(x)$ denote the estimated model and the true regression function is $m(x)$, if $\\hat{m}(x)$ is the unbiased estimator of $m(x)$. However, generally it is not true because the model assumptions are wrong. And even if the true model is linear, we could also have bias because of the variable selection.\n",
    "\n",
    "Define the prediction error of a testing observation\n",
    "\n",
    "$$R\\equiv \\mathbb{E}(Y-m(X))^2=\\mathbb{E}\\big(Y-m(X)+m(X)-\\mathbb{E}[\\hat{m}(X)]+\\mathbb{E}[\\hat{m}(X)]-\\hat{m}(X)\\big)^2=\\tau^2+B^2+V$$\n",
    "\n",
    "where \n",
    "\n",
    "$$\\tau^2=\\mathbb{E}(Y-m(X))^2$$\n",
    "\n",
    "$$B^2=\\mathbb{E}\\big[(\\mathbb{E}[\\hat{m}(X)]-m(X))^2\\big]$$\n",
    "\n",
    "$$V=\\mathbb{E}\\big[(\\hat{m}(X)-\\mathbb{E}[\\hat{m}(X)])^2\\big]$$\n",
    "\n",
    "We call $\\tau^2$ is the unavoidable error, it means even if we know the true model $m(X)$, we still make mistakes. And $B^2$ is the squared bias term, $V$, the variance.\n",
    "\n",
    "From learning theory, small models have low variance and high bias. Large models have high variance and low bias.\n",
    "\n",
    "A trivial thought to picking a variable under the assumption is using the $p$-value. But it is not a good method. Recall the $t$-test of coefficients\n",
    "\n",
    "$$t=\\frac{\\hat{\\beta_j}}{\\hat{\\text{se}}[\\hat{\\beta_j}]}=\\frac{\\hat{\\beta_j}}{\\frac{\\hat{\\sigma}}{\\sqrt{ns_{X_i}}}\\sqrt{VIF_i}}$$\n",
    "\n",
    "Note that the defination of $VIF$ is the ratio between correlated predictors variance and uncorrelated predictors variance. Therefore\n",
    "\n",
    "1.Larger coefficients will have larger test statistics and be more significant.\n",
    "\n",
    "2.Reducing the noise around the regression line will increase **all** the test statistics.\n",
    "\n",
    "3.Increasing the sample size will increase **all** the test statistics.\n",
    "\n",
    "4.More variance in a predictor variable will increase the test statistics with others unchanged.\n",
    "\n",
    "5.More correlation between $X_i$ and others will decrease the test statistics of $i$.\n",
    "\n",
    "Therefore how to fit all the models? Here is the solution.\n",
    "\n",
    "The preprocessing method is scaling the designed matrix and response.\n",
    "\n",
    "And the **Forward Stepwise Regresion** is follwing\n",
    "\n",
    "1.Start by fitting the simplest model $Y=\\beta_0+\\epsilon$. Let $S=\\emptyset$.\n",
    "\n",
    "2.Next consider all single variable models. Select the one with lowest $AIC$ or cross-validation error.\n",
    "\n",
    "3.Adding another variable. Choose the best one adding to $S$.\n",
    "\n",
    "4.Continue until can not add.\n",
    "\n",
    "So we have model $\\mathcal{M}_1,\\mathcal{M}_2,\\dots$, we need to choose the one with lowest prediction error.\n",
    "\n",
    "Another approach is to use **lasso**, which minimize\n",
    "\n",
    "$$(\\mathbf{Y}-\\mathbf{X}\\beta)^T(\\mathbf{Y}-\\mathbf{X}\\beta)+\\lambda\\|\\beta\\|_1$$\n",
    "\n",
    "It turns out that the solution is sparse."
   ]
  },
  {
   "cell_type": "code",
   "execution_count": 14,
   "metadata": {},
   "outputs": [
    {
     "data": {
      "text/html": [
       "<ol class=list-inline>\n",
       "\t<li>'Air.Flow'</li>\n",
       "\t<li>'Water.Temp'</li>\n",
       "\t<li>'Acid.Conc.'</li>\n",
       "\t<li>'stack.loss'</li>\n",
       "</ol>\n"
      ],
      "text/latex": [
       "\\begin{enumerate*}\n",
       "\\item 'Air.Flow'\n",
       "\\item 'Water.Temp'\n",
       "\\item 'Acid.Conc.'\n",
       "\\item 'stack.loss'\n",
       "\\end{enumerate*}\n"
      ],
      "text/markdown": [
       "1. 'Air.Flow'\n",
       "2. 'Water.Temp'\n",
       "3. 'Acid.Conc.'\n",
       "4. 'stack.loss'\n",
       "\n",
       "\n"
      ],
      "text/plain": [
       "[1] \"Air.Flow\"   \"Water.Temp\" \"Acid.Conc.\" \"stack.loss\""
      ]
     },
     "metadata": {},
     "output_type": "display_data"
    }
   ],
   "source": [
    "data(stackloss)\n",
    "names(stackloss)"
   ]
  },
  {
   "cell_type": "code",
   "execution_count": 15,
   "metadata": {},
   "outputs": [
    {
     "name": "stdout",
     "output_type": "stream",
     "text": [
      "Start:  AIC=98.4\n",
      "stack.loss ~ 1\n",
      "\n",
      "             Df Sum of Sq     RSS    AIC\n",
      "+ Air.Flow    1    1750.1  319.12 61.142\n",
      "+ Water.Temp  1    1586.1  483.15 69.852\n",
      "+ Acid.Conc.  1     330.8 1738.44 96.741\n",
      "<none>                    2069.24 98.399\n",
      "\n",
      "Step:  AIC=61.14\n",
      "stack.loss ~ Air.Flow\n",
      "\n",
      "             Df Sum of Sq    RSS    AIC\n",
      "+ Water.Temp  1   130.321 188.80 52.119\n",
      "<none>                    319.12 61.142\n",
      "+ Acid.Conc.  1     9.979 309.14 62.475\n",
      "\n",
      "Step:  AIC=52.12\n",
      "stack.loss ~ Air.Flow + Water.Temp\n",
      "\n",
      "             Df Sum of Sq    RSS    AIC\n",
      "<none>                    188.79 52.119\n",
      "+ Acid.Conc.  1    9.9654 178.83 52.980\n"
     ]
    }
   ],
   "source": [
    "small = lm(stack.loss ~ 1, data = stackloss)\n",
    "big = lm(stack.loss ~ ., data = stackloss)\n",
    "tmp = step(small, scope = list(lower = small, upper = big), direction = \"forward\")"
   ]
  },
  {
   "cell_type": "code",
   "execution_count": 16,
   "metadata": {},
   "outputs": [
    {
     "name": "stderr",
     "output_type": "stream",
     "text": [
      "Warning message:\n",
      "\"package 'lars' was built under R version 3.4.1\"Loaded lars 1.2\n",
      "\n"
     ]
    },
    {
     "name": "stdout",
     "output_type": "stream",
     "text": [
      "[1] 3\n"
     ]
    },
    {
     "data": {
      "image/png": "[encoded data removed]",
      "text/plain": [
       "plot without title"
      ]
     },
     "metadata": {},
     "output_type": "display_data"
    }
   ],
   "source": [
    "library(lars)\n",
    "x <- as.matrix(stackloss[, 1:3])\n",
    "y <- stack.loss\n",
    "out = lars(x, y, type = \"stepwise\")\n",
    "tmp = cv.lars(x, y, K = 10, type = \"stepwise\", plot.it = FALSE)\n",
    "m = length(tmp$cv)\n",
    "par(fin = c(3,3), pin = c(3 ,3))\n",
    "plot(1:m, tmp$cv, pch = 19, col = \"gray\")\n",
    "for (i in 1:m){\n",
    "    segments(i, tmp$cv[i] - tmp$cv.error[i], i, tmp$cv[i] + tmp$cv.error[i])\n",
    "}\n",
    "j = which.min(tmp$cv)\n",
    "print(j)"
   ]
  },
  {
   "cell_type": "code",
   "execution_count": 17,
   "metadata": {},
   "outputs": [
    {
     "name": "stderr",
     "output_type": "stream",
     "text": [
      "Warning message:\n",
      "\"package 'glmnet' was built under R version 3.4.2\"Loading required package: Matrix\n",
      "Loading required package: foreach\n",
      "Warning message:\n",
      "\"package 'foreach' was built under R version 3.4.2\"Loaded glmnet 2.0-13\n",
      "\n"
     ]
    },
    {
     "data": {
      "image/png": "[encoded data removed]",
      "text/plain": [
       "plot without title"
      ]
     },
     "metadata": {},
     "output_type": "display_data"
    }
   ],
   "source": [
    "library(glmnet)\n",
    "out = glmnet(x, y)\n",
    "par(fin = c(3,3), pin = c(3 ,3))\n",
    "plot(out)"
   ]
  },
  {
   "cell_type": "code",
   "execution_count": 18,
   "metadata": {},
   "outputs": [
    {
     "name": "stderr",
     "output_type": "stream",
     "text": [
      "Warning message:\n",
      "\"Option grouped=FALSE enforced in cv.glmnet, since < 3 observations per fold\""
     ]
    },
    {
     "data": {
      "text/html": [
       "0.0454353847844836"
      ],
      "text/latex": [
       "0.0454353847844836"
      ],
      "text/markdown": [
       "0.0454353847844836"
      ],
      "text/plain": [
       "[1] 0.04543538"
      ]
     },
     "metadata": {},
     "output_type": "display_data"
    },
    {
     "data": {
      "image/png": "[encoded data removed]",
      "text/plain": [
       "plot without title"
      ]
     },
     "metadata": {},
     "output_type": "display_data"
    }
   ],
   "source": [
    "cvfit = cv.glmnet(x, y)\n",
    "par(fin = c(3,3), pin = c(3 ,3))\n",
    "plot(cvfit)\n",
    "cvfit$lambda.min"
   ]
  },
  {
   "cell_type": "code",
   "execution_count": 19,
   "metadata": {},
   "outputs": [
    {
     "data": {
      "text/plain": [
       "4 x 1 sparse Matrix of class \"dgCMatrix\"\n",
       "                      1\n",
       "(Intercept) -40.7641798\n",
       "Air.Flow      0.7078085\n",
       "Water.Temp    1.2867835\n",
       "Acid.Conc.   -0.1347717"
      ]
     },
     "metadata": {},
     "output_type": "display_data"
    }
   ],
   "source": [
    "coef(cvfit, s = \"lambda.min\")"
   ]
  }
 ],
 "metadata": {
  "kernelspec": {
   "display_name": "R",
   "language": "R",
   "name": "ir"
  },
  "language_info": {
   "codemirror_mode": "r",
   "file_extension": ".r",
   "mimetype": "text/x-r-source",
   "name": "R",
   "pygments_lexer": "r",
   "version": "3.4.0"
  },
  "latex_envs": {
   "LaTeX_envs_menu_present": true,
   "autocomplete": true,
   "bibliofile": "biblio.bib",
   "cite_by": "apalike",
   "current_citInitial": 1,
   "eqLabelWithNumbers": true,
   "eqNumInitial": 1,
   "hotkeys": {
    "equation": "Ctrl-E",
    "itemize": "Ctrl-I"
   },
   "labels_anchors": false,
   "latex_user_defs": false,
   "report_style_numbering": false,
   "user_envs_cfg": false
  },
  "toc": {
   "colors": {
    "hover_highlight": "#DAA520",
    "running_highlight": "#FF0000",
    "selected_highlight": "#FFD700"
   },
   "moveMenuLeft": true,
   "nav_menu": {
    "height": "31px",
    "width": "252px"
   },
   "navigate_menu": true,
   "number_sections": true,
   "sideBar": true,
   "threshold": 4,
   "toc_cell": false,
   "toc_section_display": "block",
   "toc_window_display": false,
   "widenNotebook": false
  }
 },
 "nbformat": 4,
 "nbformat_minor": 2
}
