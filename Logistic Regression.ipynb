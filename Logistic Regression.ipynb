{
 "cells": [
  {
   "cell_type": "markdown",
   "metadata": {},
   "source": [
    "## Logistic Regression"
   ]
  },
  {
   "cell_type": "markdown",
   "metadata": {},
   "source": [
    "**Logistic Regression** is a parametric method for classification, $Y_i\\in \\{0,1\\}$ is binary. For a $k$-dimensional covariate $X$, we have\n",
    "$$p_i(\\theta)\\equiv\\mathbb{P}(Y_i=1\\mid X=x)=\\frac{e^{\\theta_0+\\sum_{j=1}^k\\theta_jx_{ij}}}{1+e^{\\theta_0+\\sum_{j=1}^k\\theta_jx_{ij}}}$$\n",
    "\n",
    "The data $Y_i\\mid X_i\\sim Bernoulli(p_i)$ for $Y_i$'s are binary. Hence the **Likelihood function** is\n",
    "$$\\mathcal{L}(\\theta)=\\prod_{i=1}^np_i(\\theta)^{Y_i}(1-p_i(\\theta))^{1-Y_i}$$\n",
    "\n",
    "Take **log-likelihood** $\\ell(\\theta)=\\log \\mathcal{L}(\\theta)$, we have to maximize $\\ell(\\theta)$. And\n",
    "\n",
    "$$\\ell(\\theta)=\\log \\mathcal{L}(\\theta)=\\sum_{i=1}^my^{(i)}\\log p(x^{(i)})+(1-y^{(i)})\\log(1-p(x^{(i)}))$$\n",
    "\n",
    "Take partial derivative\n",
    "\n",
    "\\begin{align}\n",
    "\\frac{\\partial}{\\partial\\theta_j}\\ell(\\theta)&=\\left(y^{(i)}\\frac{1}{g(\\theta^Tx^{(i)})}-(1-y^{(i)})\\frac{1}{1-g(\\theta^Tx^{(i)})}\\right)\\frac{\\partial}{\\partial\\theta_j}g(\\theta^Tx^{(i)})\\\\&=\\left(y^{(i)}\\frac{1}{g(\\theta^Tx^{(i)})}-(1-y^{(i)})\\frac{1}{1-g(\\theta^Tx^{(i)})}\\right)g(\\theta^Tx^{(i)})(1-g(\\theta^Tx^{(i)}))\\frac{\\partial}{\\partial\\theta_j}(\\theta^Tx^{(i)})\\\\&=\\left(y^{(i)}(1-g(\\theta^Tx^{(i)}))-(1-y^{(i)})g(\\theta^Tx^{(i)})\\right)x_j^{(i)}\\\\\n",
    "\\end{align}\n",
    "\n",
    "Then $$\\frac{\\partial}{\\partial\\theta_j}\\ell(\\theta)=\\left(y^{(i)}-p_{\\theta}(x^{(i)})\\right)x_j^{(i)}$$\n",
    "\n",
    "Iteration format\n",
    "\n",
    "$$\\theta_{j}:=\\theta_j+\\alpha\\left(y^{(i)}-p_{\\theta}(x^{(i)})\\right)x_j^{(i)}$$"
   ]
  },
  {
   "cell_type": "markdown",
   "metadata": {},
   "source": [
    "## Multinomial Logistic Regression"
   ]
  },
  {
   "cell_type": "markdown",
   "metadata": {},
   "source": [
    "Multinomial logistic regression is a classification method that generalizes logistic regression to the multiclass problems. It has the form\n",
    "\n",
    "$$p(y=c\\mid\\mathbf{x},\\mathbf{W})=\\frac{\\exp{(\\mathbf{w}_c^T\\mathbf{x})}}{\\sum_{k=1}^C\\exp{(\\mathbf{w}_k^T\\mathbf{x})}}$$\n",
    "\n",
    "where $C$ is the number of classes, and $\\mathbf{W}$ is a $C\\times(d+1)$ weight matrix, and $d$ is the dimension of input vector $\\mathbf{x}$.\n",
    "\n",
    "Let $\\mu_{ic}=\\mathbb{P}(y_i=c\\mid \\mathbf{x}_i,\\mathbf{W})$, $y_{ic}=\\mathbb{I}\\{y_i=c\\}$. In this scenario, the model can be defined as \n",
    "\n",
    "$$\\mu_{ic}=\\mathbb{P}(y_i=c\\mid \\mathbf{x}_i,\\mathbf{W})=\\frac{\\exp{(\\mathbf{w}_c^T\\mathbf{x})}}{\\sum_{c'=1}^C\\exp{(\\mathbf{w}_{c'}^T\\mathbf{x})}}$$\n",
    "\n",
    "We can write log-likelihood as:\n",
    "\n",
    "\\begin{align*}\n",
    "\\ell(\\mathbf{W})&=\\log{\\prod_{i=1}^n\\prod_{c=1}^C\\mu_{ic}^{y_{ic}}}\\\\\n",
    "&=\\sum_{i=1}^n\\sum_{c=1}^Cy_{ic}\\log{\\mu_{ic}}\\\\\n",
    "&=\\sum_{i=1}^n\\sum_{c=1}^Cy_{ic}\\log{\\frac{\\exp{(\\mathbf{w}_c^T\\mathbf{x})}}{\\sum_{c'=1}^C\\exp{(\\mathbf{w}_{c'}^T\\mathbf{x})}}}\\\\\n",
    "&=\\sum_{i=1}^n\\sum_{c=1}^Cy_{ic}\\big(\\mathbf{w}_c^T\\mathbf{x}_i-\\log{\\sum_{c'=1}^C\\exp{(\\mathbf{w}_{c'}^T\\mathbf{x}_i)}}\\big)\\\\\n",
    "&=\\sum_{i=1}^n\\big(\\sum_{c=1}^Cy_{ic}\\mathbf{w}_c^T\\mathbf{x}_i-\\log{\\sum_{c'=1}^C\\exp{(\\mathbf{w}_{c'}^T\\mathbf{x}_i)}}\\big)\n",
    "\\end{align*}\n",
    "\n",
    "To maximize the log-likelihood, we need the gradient and even Hessian of $\\ell(\\mathbf{W})$\n",
    "\n",
    "\\begin{align*}\n",
    "\\nabla_\\mathscr{C}\\ell(\\mathbf{W})&=\\sum_{i=1}^n\\big(\\frac{\\partial}{\\partial\\mathbf{w}_\\mathscr{C}}\\sum_{c=1}^Cy_{ic}\\mathbf{w}_c^T\\mathbf{x}_i-\\frac{\\partial}{\\partial\\mathbf{w}_\\mathscr{C}}\\log{\\sum_{c'=1}^C\\exp{(\\mathbf{w}_{c'}^T\\mathbf{x}_i)}}\\big)\\\\\n",
    "&=\\sum_{i=1}^ny_{i\\mathscr{C}}\\mathbf{x}_i-\\frac{\\frac{\\partial}{\\partial\\mathbf{w}_\\mathscr{C}}\\sum_{c'=1}^C\\exp{(\\mathbf{w}_{c'}^T\\mathbf{x}_i)}}{\\sum_{c'=1}^C\\exp{(\\mathbf{w}_{c'}^T\\mathbf{x}_i)}}\\\\\n",
    "&=\\sum_{i=1}^ny_{i\\mathscr{C}}\\mathbf{x}_i-\\frac{\\exp{(\\mathbf{w}_{\\mathscr{C}}^T\\mathbf{x}_i)}\\mathbf{x}_i}{\\sum_{c'=1}^C\\exp{(\\mathbf{w}_{c'}^T\\mathbf{x}_i)}}\\\\\n",
    "&=\\sum_{i=1}^n\\big(y_{i\\mathscr{C}}-\\mu_{i\\mathscr{C}}\\big)\\mathbf{x}_i\n",
    "\\end{align*}\n",
    "\n",
    "Then the Hessian matrix is\n",
    "\n",
    "\\begin{align*}\n",
    "\\nabla_{\\mathscr{C}'}\\nabla_\\mathscr{C}\\ell(\\mathbf{W})&=\\frac{\\partial}{\\partial\\mathbf{w}_{\\mathscr{C}'}}\\sum_{i=1}^n\\big(y_{i\\mathscr{C}}-\\mu_{i\\mathscr{C}}\\big)\\mathbf{x}_i\\\\\n",
    "&= -\\sum_{i=1}^n\\frac{\\partial}{\\partial\\mathbf{w}_{\\mathscr{C}'}}\\frac{\\exp{(\\mathbf{w}_{\\mathscr{C}}^T\\mathbf{x}_i)}\\mathbf{x}_i}{\\sum_{c'=1}^C\\exp{(\\mathbf{w}_{c'}^T\\mathbf{x}_i)}}\\\\\n",
    "&=-\\sum_{i=1}^n\\frac{\\delta_{\\mathscr{C}\\mathscr{C}'}\\exp{(\\mathbf{w}_{\\mathscr{C}}^T\\mathbf{x}_i)}\\mathbf{x}_i\\mathbf{x}_i^T\\sum_{c'=1}^C\\exp{(\\mathbf{w}_{c'}^T\\mathbf{x}_i)}-\\exp{(\\mathbf{w}_{\\mathscr{C}}^T\\mathbf{x}_i)}\\mathbf{x}_i\\mathbf{x}_i^T\\exp{(\\mathbf{w}_{\\mathscr{C}'}^T\\mathbf{x}_i)}}{\\big(\\sum_{c'=1}^C\\exp{(\\mathbf{w}_{c'}^T\\mathbf{x}_i)}\\big)^2}\\\\\n",
    "&=-\\sum_{i=1}^n\\big(\\delta_{\\mathscr{C}\\mathscr{C}'}\\mu_{i\\mathscr{C}'}-\\mu_{i\\mathscr{C}}\\mu_{i\\mathscr{C}'}\\big)\\mathbf{x}_i\\mathbf{x}_i^T\\\\\n",
    "&=\\sum_{i=1}^n\\mu_{i\\mathscr{C}'}\\big(\\mu_{i\\mathscr{C}}-\\delta_{\\mathscr{C}\\mathscr{C}'}\\big)\\mathbf{x}_i\\mathbf{x}_i^T\n",
    "\\end{align*}\n",
    "\n",
    "where $\\delta_{\\mathscr{C}\\mathscr{C}'}$ is the Dirac delta function and is equal to $1$ if $\\mathscr{C}=\\mathscr{C}'$ and $0$ otherwise."
   ]
  },
  {
   "cell_type": "code",
   "execution_count": 1,
   "metadata": {
    "collapsed": true
   },
   "outputs": [],
   "source": [
    "from __future__ import division\n",
    "import numpy as np\n",
    "import matplotlib.pyplot as plt\n",
    "from sklearn import datasets\n",
    "%matplotlib inline"
   ]
  },
  {
   "cell_type": "code",
   "execution_count": 2,
   "metadata": {},
   "outputs": [],
   "source": [
    "def shuffle(X, y):\n",
    "    '''\n",
    "    Randomize the order of sample.\n",
    "\n",
    "    Parameters\n",
    "    ----------\n",
    "    X : array-like, shape = [num_observations, num_features]\n",
    "        Design matrix\n",
    "\n",
    "    y : array-like, shape = [num_observations]\n",
    "        Output for `X`\n",
    "\n",
    "    Returns\n",
    "    -------\n",
    "    A tuple consists of `X_shuffle` and `y_shuffle`\n",
    "\n",
    "    X_shuffle : array, shape = [num_observations, num_features]\n",
    "        The design matrix after shuffling\n",
    "\n",
    "    y_shuffle : array shape = [num_observations]\n",
    "        The output for `X_shuffle`\n",
    "    '''\n",
    "    randomize = np.arange(len(y))\n",
    "    # Create a random order\n",
    "    np.random.shuffle(randomize)\n",
    "    # Shuffle original dataset\n",
    "    X_shuffle = X[randomize]\n",
    "    y_shuffle = y[randomize]\n",
    "    return X_shuffle, y_shuffle"
   ]
  },
  {
   "cell_type": "code",
   "execution_count": 3,
   "metadata": {
    "collapsed": true
   },
   "outputs": [],
   "source": [
    "class LogisticRegression(object):\n",
    "    \n",
    "    def __init__(self):\n",
    "        self.loss_collection = []\n",
    "    \n",
    "    def train(self, X, y, learning_rate = 0.01, regularization_coefficient = 0.1, maxCycle = 1000):\n",
    "        self.X = self._add_intercept(X) \n",
    "        self.y = y \n",
    "        self.weights = np.zeros(self.X.shape[-1])\n",
    "        self.regularization_coefficient = regularization_coefficient\n",
    "        temp = np.inf * np.ones_like(self.weights)\n",
    "        for i in range(maxCycle):\n",
    "            a = self._sigmoid(np.dot(self.X, self.weights))\n",
    "            self.loss_collection.append(self._get_loss(a))\n",
    "            temp = self.weights.copy()\n",
    "            self.weights += learning_rate * (1.0 /len(self.X) * np.dot(self.X.T, \n",
    "                                                          (self.y - a)) - 2 * self.regularization_coefficient * self.weights)\n",
    "            self.weights[0] = (1 + 2 * learning_rate * self.regularization_coefficient) * self.weights[0]\n",
    "            \n",
    "    def _add_intercept(self, X):\n",
    "            return np.hstack(((np.ones(X.shape[0])).reshape((-1, 1)), X))\n",
    "        \n",
    "    def _sigmoid(self, x):\n",
    "        return 0.5 * (1 + np.tanh(0.5 * x))\n",
    "    \n",
    "    def _get_loss(self, a):\n",
    "        return -1.0 / len(self.X) * (np.dot(self.y, np.log(a)) + np.dot(1 - self.y, np.log(1 - a))) + \\\n",
    "               self.regularization_coefficient * np.linalg.norm(self.weights[1: ]) ** 2\n",
    "    def plot_loss(self):\n",
    "        plt.plot(self.loss_collection)\n",
    "    def predict(self, X, threshold = 0.5):\n",
    "        X = self._add_intercept(X)\n",
    "        return np.array(self._sigmoid(np.dot(X, self.weights)) > threshold, dtype = np.int16)"
   ]
  },
  {
   "cell_type": "code",
   "execution_count": 4,
   "metadata": {
    "collapsed": true
   },
   "outputs": [],
   "source": [
    "class MultinomialLogistic:\n",
    "    \n",
    "    def __init__(self, regularization_coefficient = 1):\n",
    "        self.loss_collection = []\n",
    "        self.regularization_coefficient = regularization_coefficient\n",
    "    # implement of the gradient acsent\n",
    "    def training(self, X, y, alpha = 0.001, maxCycles = 500, intercept = True):\n",
    "        self.X = self.add_intercept(X)\n",
    "        self.Y = self.one_hot_encoding(y)\n",
    "        # construct the weights matrix with shape of features by classes\n",
    "        self.weights = np.random.randn(self.X.shape[-1], self.Y.shape[-1])\n",
    "        for t in range(maxCycles):\n",
    "            self.weights[:, 0] = self.weights[:, 0].copy() * (1 + 1.0 / len(self.X) * alpha * self.regularization_coefficient)\n",
    "            self.weights = self.weights + 1.0 / len(self.X) * alpha * (self.gradient() - \\\n",
    "                           self.regularization_coefficient * self.weights)\n",
    "            self.loss_collection.append(self.compute_loss())\n",
    "        return \"Training done successfully\"\n",
    "        \n",
    "        \n",
    "    def gradient(self):\n",
    "        z = np.dot(self.X, self.weights)\n",
    "        sigma = self.softmax(z)\n",
    "        grad = np.dot(self.X.T, self.Y - sigma)\n",
    "        return grad\n",
    "    \n",
    "    \n",
    "    def one_hot_encoding(self, y):\n",
    "        len_labels = len(np.unique(y))\n",
    "        Y = np.zeros((len(y), len_labels))\n",
    "        np.ma.put(Y, indices = y + np.arange(0, len(y) * len_labels, len_labels), values = 1)\n",
    "        return Y\n",
    "    \n",
    "    def softmax(self, z):\n",
    "        z = z - np.max(z, axis = 1, keepdims = True)\n",
    "        z = np.exp(z)\n",
    "        z = z / np.sum(z, axis = 1, keepdims = True) \n",
    "        return z\n",
    "    \n",
    "    def add_intercept(self, X):\n",
    "        if X.ndim > 1:\n",
    "            return np.hstack(((np.ones(X.shape[0])).reshape((-1, 1)), X))\n",
    "        if X.ndim == 1:\n",
    "            return np.hstack((1, X))\n",
    "        \n",
    "    def compute_loss(self):\n",
    "        z = np.dot(self.X, self.weights)\n",
    "        loss = -np.sum(self.Y * np.log(self.softmax(z)))\n",
    "        return loss / len(self.X)\n",
    "    \n",
    "    def plot_loss(self):\n",
    "        plt.plot(self.loss_collection)\n",
    "    \n",
    "    def predict(self, X):\n",
    "        X = self.add_intercept(X)\n",
    "        z = np.dot(X, self.weights)\n",
    "        if X.ndim > 1:\n",
    "            return np.argmax(z, axis = 1)\n",
    "        elif X.ndim == 1:\n",
    "            return np.argmax(z)\n",
    "        else:\n",
    "            raise ValueError"
   ]
  },
  {
   "cell_type": "code",
   "execution_count": 5,
   "metadata": {},
   "outputs": [],
   "source": [
    "X, y = datasets.make_classification(n_samples = 5000, n_classes = 4, n_informative=4, n_clusters_per_class=1)"
   ]
  },
  {
   "cell_type": "code",
   "execution_count": 6,
   "metadata": {},
   "outputs": [
    {
     "data": {
      "image/png": "[encoded data removed]",
      "text/plain": [
       "<Figure size 432x288 with 1 Axes>"
      ]
     },
     "metadata": {
      "needs_background": "light"
     },
     "output_type": "display_data"
    }
   ],
   "source": [
    "learning_rate = 10**-5\n",
    "classifier = MultinomialLogistic(regularization_coefficient = 0)\n",
    "classifier.training(X, y, alpha = 0.1, maxCycles = 500)\n",
    "classifier.plot_loss()"
   ]
  },
  {
   "cell_type": "code",
   "execution_count": 7,
   "metadata": {},
   "outputs": [
    {
     "data": {
      "text/plain": [
       "0.855"
      ]
     },
     "execution_count": 7,
     "metadata": {},
     "output_type": "execute_result"
    }
   ],
   "source": [
    "(classifier.predict(X) == y).sum() * 1.0 / len(y)"
   ]
  },
  {
   "cell_type": "markdown",
   "metadata": {},
   "source": [
    "# Learning rates"
   ]
  },
  {
   "cell_type": "code",
   "execution_count": 8,
   "metadata": {},
   "outputs": [
    {
     "name": "stderr",
     "output_type": "stream",
     "text": [
      "d:\\python\\lib\\site-packages\\ipykernel_launcher.py:27: RuntimeWarning: divide by zero encountered in log\n"
     ]
    },
    {
     "data": {
      "text/plain": [
       "<matplotlib.legend.Legend at 0x10aa0fd0>"
      ]
     },
     "execution_count": 8,
     "metadata": {},
     "output_type": "execute_result"
    },
    {
     "data": {
      "image/png": "[encoded data removed]",
      "text/plain": [
       "<Figure size 432x288 with 1 Axes>"
      ]
     },
     "metadata": {
      "needs_background": "light"
     },
     "output_type": "display_data"
    }
   ],
   "source": [
    "X, y = datasets.make_classification(n_samples = 5000)\n",
    "X, y = shuffle(X, y)\n",
    "\n",
    "regularization_coefficient = 0\n",
    "maxCycle = 1500\n",
    "\n",
    "learning_rate_1 = 1.0 / (np.linalg.norm(X, 2) ** 2 / len(X) + regularization_coefficient)\n",
    "learning_rate_2 = 10e-3\n",
    "learning_rate_3 = 5\n",
    "learning_rate_4 = 14\n",
    "\n",
    "classifier_1 = LogisticRegression()\n",
    "classifier_1.train(X, y, learning_rate = learning_rate_1, regularization_coefficient = regularization_coefficient, \n",
    "                   maxCycle =maxCycle)\n",
    "\n",
    "classifier_2 = LogisticRegression()\n",
    "classifier_2.train(X, y, learning_rate = learning_rate_2, regularization_coefficient = regularization_coefficient, \n",
    "                   maxCycle = maxCycle)\n",
    "\n",
    "classifier_3 = LogisticRegression()\n",
    "classifier_3.train(X, y, learning_rate = learning_rate_3, regularization_coefficient = regularization_coefficient, \n",
    "                   maxCycle = maxCycle)\n",
    "\n",
    "classifier_4 = LogisticRegression()\n",
    "classifier_4.train(X, y, learning_rate = learning_rate_4, regularization_coefficient = regularization_coefficient, \n",
    "                   maxCycle = maxCycle)\n",
    "\n",
    "num = 1000\n",
    "fig = plt.figure(figsize = (6, 4))\n",
    "ax = fig.add_subplot(111)\n",
    "ax.plot(classifier_2.loss_collection[:num], 'g', label = '$\\eta=10^{-3}$')\n",
    "ax.plot(classifier_1.loss_collection[:num], 'r', label = '$\\eta=0.4<1/L$')\n",
    "ax.plot(classifier_3.loss_collection[:num], 'b', label = '$\\eta=5$')\n",
    "ax.plot(classifier_4.loss_collection[:num], 'y', label = '$\\eta=14$')\n",
    "ax.set_xlabel(\"Iterations\", fontsize = 20)\n",
    "ax.set_ylabel(\"Log Loss\", fontsize = 20)\n",
    "\n",
    "ax.legend(fontsize = 12)"
   ]
  },
  {
   "cell_type": "code",
   "execution_count": 9,
   "metadata": {},
   "outputs": [
    {
     "data": {
      "text/plain": [
       "'Training done successfully'"
      ]
     },
     "execution_count": 9,
     "metadata": {},
     "output_type": "execute_result"
    }
   ],
   "source": [
    "data = datasets.load_digits()\n",
    "N_total = 1700\n",
    "N_features = 64\n",
    "N_train = 1500\n",
    "x = np.zeros((N_total, N_features))\n",
    "for i in range(N_total):\n",
    "    x[i] = data.images[i].flatten()\n",
    "y = data.target[:N_train]\n",
    "clf = MultinomialLogistic()\n",
    "clf.training(x[:N_train],y, alpha = 0.005, maxCycles=500)"
   ]
  },
  {
   "cell_type": "code",
   "execution_count": 10,
   "metadata": {},
   "outputs": [
    {
     "data": {
      "text/plain": [
       "Text(0.5,0.98,'Result of Multinomial Logistic Regression on MNIST digits dataset')"
      ]
     },
     "execution_count": 10,
     "metadata": {},
     "output_type": "execute_result"
    },
    {
     "data": {
      "image/png": "[encoded data removed]",
      "text/plain": [
       "<Figure size 1080x1080 with 9 Axes>"
      ]
     },
     "metadata": {},
     "output_type": "display_data"
    }
   ],
   "source": [
    "fig = plt.figure(figsize= (15,15))\n",
    "for i in range(1,10):\n",
    "    ax = fig.add_subplot(3,3,i)\n",
    "    ax.imshow(data.images[N_train + i], cmap=\"binary\")\n",
    "    ax.spines['top'].set_visible(False)\n",
    "    ax.spines['right'].set_visible(False)\n",
    "    ax.spines['bottom'].set_visible(False)\n",
    "    ax.spines['left'].set_visible(False)\n",
    "    ax.set_xticks([])\n",
    "    ax.set_yticks([])\n",
    "    ax.set_title(\"The estimation of digit below is \" + str(clf.predict(x[N_train + i])))\n",
    "fig.suptitle(\"Result of Multinomial Logistic Regression on MNIST digits dataset\")"
   ]
  }
 ],
 "metadata": {
  "kernelspec": {
   "display_name": "Python 2",
   "language": "python",
   "name": "python2"
  },
  "language_info": {
   "codemirror_mode": {
    "name": "ipython",
    "version": 2
   },
   "file_extension": ".py",
   "mimetype": "text/x-python",
   "name": "python",
   "nbconvert_exporter": "python",
   "pygments_lexer": "ipython2",
   "version": "2.7.13"
  },
  "latex_envs": {
   "LaTeX_envs_menu_present": true,
   "autocomplete": true,
   "bibliofile": "biblio.bib",
   "cite_by": "apalike",
   "current_citInitial": 1,
   "eqLabelWithNumbers": true,
   "eqNumInitial": 1,
   "hotkeys": {
    "equation": "Ctrl-E",
    "itemize": "Ctrl-I"
   },
   "labels_anchors": false,
   "latex_user_defs": false,
   "report_style_numbering": false,
   "user_envs_cfg": false
  },
  "toc": {
   "colors": {
    "hover_highlight": "#DAA520",
    "running_highlight": "#FF0000",
    "selected_highlight": "#FFD700"
   },
   "moveMenuLeft": true,
   "nav_menu": {
    "height": "12px",
    "width": "252px"
   },
   "navigate_menu": true,
   "number_sections": true,
   "sideBar": true,
   "threshold": 4,
   "toc_cell": false,
   "toc_section_display": "block",
   "toc_window_display": false,
   "widenNotebook": false
  }
 },
 "nbformat": 4,
 "nbformat_minor": 2
}
